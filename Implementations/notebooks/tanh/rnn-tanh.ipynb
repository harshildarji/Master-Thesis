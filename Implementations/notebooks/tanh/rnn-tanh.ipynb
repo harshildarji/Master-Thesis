{
  "nbformat": 4,
  "nbformat_minor": 0,
  "metadata": {
    "accelerator": "GPU",
    "colab": {
      "name": "tanh.ipynb",
      "provenance": [],
      "collapsed_sections": []
    },
    "kernelspec": {
      "display_name": "Python 3",
      "language": "python",
      "name": "python3"
    },
    "language_info": {
      "codemirror_mode": {
        "name": "ipython",
        "version": 3
      },
      "file_extension": ".py",
      "mimetype": "text/x-python",
      "name": "python",
      "nbconvert_exporter": "python",
      "pygments_lexer": "ipython3",
      "version": "3.6.9"
    }
  },
  "cells": [
    {
      "cell_type": "code",
      "metadata": {
        "id": "YTdml_ZZO04W",
        "colab_type": "code",
        "colab": {}
      },
      "source": [
        "import sys\n",
        "sys.path.append('../')"
      ],
      "execution_count": 0,
      "outputs": []
    },
    {
      "cell_type": "code",
      "metadata": {
        "colab_type": "code",
        "id": "jnlVHBXYGevQ",
        "colab": {}
      },
      "source": [
        "import torch\n",
        "import torch.nn as nn\n",
        "from torch.autograd import Variable\n",
        "from torch.utils.data import Dataset, DataLoader\n",
        "from torch.nn.utils.rnn import pack_padded_sequence, pad_packed_sequence\n",
        "\n",
        "from MaskedRNN import MaskedDeepRNN\n",
        "from MaskedRNN import weight_prune\n",
        "\n",
        "import pandas as pd\n",
        "import matplotlib.pyplot as plt\n",
        "import seaborn as sns"
      ],
      "execution_count": 0,
      "outputs": []
    },
    {
      "cell_type": "code",
      "metadata": {
        "id": "SnJ89dAtiljA",
        "colab_type": "code",
        "colab": {}
      },
      "source": [
        "sns.set_style('darkgrid')"
      ],
      "execution_count": 0,
      "outputs": []
    },
    {
      "cell_type": "code",
      "metadata": {
        "id": "0ZDPVjuQxtey",
        "colab_type": "code",
        "colab": {}
      },
      "source": [
        "device = torch.device('cuda:0' if torch.cuda.is_available() else 'cpu') "
      ],
      "execution_count": 0,
      "outputs": []
    },
    {
      "cell_type": "markdown",
      "metadata": {
        "colab_type": "text",
        "id": "OQRUiZIIGevb"
      },
      "source": [
        "#### Import, shuffle and split dataset"
      ]
    },
    {
      "cell_type": "code",
      "metadata": {
        "colab_type": "code",
        "id": "Hc-jfPQDGevd",
        "colab": {}
      },
      "source": [
        "data = pd.read_csv('reber_sequences.csv')"
      ],
      "execution_count": 0,
      "outputs": []
    },
    {
      "cell_type": "code",
      "metadata": {
        "colab_type": "code",
        "id": "VZt1tuMDGevl",
        "colab": {}
      },
      "source": [
        "data = data.sample(frac=1).reset_index(drop=True)"
      ],
      "execution_count": 0,
      "outputs": []
    },
    {
      "cell_type": "code",
      "metadata": {
        "colab_type": "code",
        "id": "9FVvyiR2Gevt",
        "colab": {}
      },
      "source": [
        "train_data = data[:int(.75*len(data))]\n",
        "test_data = data[len(train_data):]"
      ],
      "execution_count": 0,
      "outputs": []
    },
    {
      "cell_type": "code",
      "metadata": {
        "colab_type": "code",
        "id": "hFGa03AvGevx",
        "outputId": "a61a0718-1466-4279-d942-7496263efcb8",
        "colab": {
          "base_uri": "https://localhost:8080/",
          "height": 68
        }
      },
      "source": [
        "print('Total length: {}\\nTrain data length: {}\\nTest data length: {}'.format(len(data), len(train_data), len(test_data)))"
      ],
      "execution_count": 8,
      "outputs": [
        {
          "output_type": "stream",
          "text": [
            "Total length: 25000\n",
            "Train data length: 18750\n",
            "Test data length: 6250\n"
          ],
          "name": "stdout"
        }
      ]
    },
    {
      "cell_type": "markdown",
      "metadata": {
        "colab_type": "text",
        "id": "uCoah1gRGev6"
      },
      "source": [
        "#### Parameters"
      ]
    },
    {
      "cell_type": "code",
      "metadata": {
        "id": "CKtaST_DiqQR",
        "colab_type": "code",
        "colab": {}
      },
      "source": [
        "MODEL = 'rnn-tanh'"
      ],
      "execution_count": 0,
      "outputs": []
    },
    {
      "cell_type": "code",
      "metadata": {
        "colab_type": "code",
        "id": "6wDwJmInGev8",
        "colab": {}
      },
      "source": [
        "BATCH_SIZE = 16\n",
        "\n",
        "INPUT_SIZE = 128\n",
        "EMBEDDING_DIM = 100\n",
        "OUTPUT_SIZE = 2\n",
        "\n",
        "EPOCHS = 30\n",
        "HIDDEN_LAYERS = [100, 100, 100]"
      ],
      "execution_count": 0,
      "outputs": []
    },
    {
      "cell_type": "markdown",
      "metadata": {
        "colab_type": "text",
        "id": "mETf9K_7GewC"
      },
      "source": [
        "#### Customize `Dataset`"
      ]
    },
    {
      "cell_type": "code",
      "metadata": {
        "colab_type": "code",
        "id": "tvZNBTBqGewD",
        "colab": {}
      },
      "source": [
        "class MakeDataset(Dataset):\n",
        "    def __init__(self, data):\n",
        "        self.strings = list(data['string'])\n",
        "        self.valid = list(data['valid'])\n",
        "        self.len = len(self.valid)\n",
        "        self.valid_list = [0, 1]\n",
        "\n",
        "    def __getitem__(self, index):\n",
        "        return self.strings[index], self.valid[index]\n",
        "\n",
        "    def __len__(self):\n",
        "        return self.len"
      ],
      "execution_count": 0,
      "outputs": []
    },
    {
      "cell_type": "markdown",
      "metadata": {
        "colab_type": "text",
        "id": "qtRtnbUPGewI"
      },
      "source": [
        "#### Train/Test Loader"
      ]
    },
    {
      "cell_type": "code",
      "metadata": {
        "colab_type": "code",
        "id": "qIkc37iDGewJ",
        "colab": {}
      },
      "source": [
        "dataset = MakeDataset(train_data)\n",
        "train_loader = DataLoader(dataset=dataset, batch_size=BATCH_SIZE, shuffle=True)"
      ],
      "execution_count": 0,
      "outputs": []
    },
    {
      "cell_type": "code",
      "metadata": {
        "colab_type": "code",
        "id": "8me9-GUdGewP",
        "colab": {}
      },
      "source": [
        "dataset = MakeDataset(test_data)\n",
        "test_loader = DataLoader(dataset=dataset, batch_size=BATCH_SIZE, shuffle=True)"
      ],
      "execution_count": 0,
      "outputs": []
    },
    {
      "cell_type": "markdown",
      "metadata": {
        "colab_type": "text",
        "id": "HiAzJtMSGewW"
      },
      "source": [
        "#### Helper functions"
      ]
    },
    {
      "cell_type": "code",
      "metadata": {
        "colab_type": "code",
        "id": "VX5oPdsWGewX",
        "colab": {}
      },
      "source": [
        "def create_variable(tensor):\n",
        "    return Variable(tensor.to(device))"
      ],
      "execution_count": 0,
      "outputs": []
    },
    {
      "cell_type": "code",
      "metadata": {
        "colab_type": "code",
        "id": "rCKTIEbbGewh",
        "colab": {}
      },
      "source": [
        "def pad_seq(vect_seqs, seq_lens, valid):\n",
        "    seq_tensor = torch.zeros((len(vect_seqs), seq_lens.max())).long()\n",
        "    \n",
        "    for index, (seq, seq_len) in enumerate(zip(vect_seqs, seq_lens)):\n",
        "        seq_tensor[index, :seq_len] = torch.LongTensor(seq)\n",
        "        \n",
        "    return create_variable(seq_tensor), create_variable(seq_lens), create_variable(valid)"
      ],
      "execution_count": 0,
      "outputs": []
    },
    {
      "cell_type": "code",
      "metadata": {
        "colab_type": "code",
        "id": "BOeyEku_Gewn",
        "colab": {}
      },
      "source": [
        "def str2ascii(string):\n",
        "    ascii_arr = [ord(s) for s in string]\n",
        "    return ascii_arr, len(ascii_arr)"
      ],
      "execution_count": 0,
      "outputs": []
    },
    {
      "cell_type": "code",
      "metadata": {
        "colab_type": "code",
        "id": "g5HS0oTzGewq",
        "colab": {}
      },
      "source": [
        "def make_variables(strings, valid):\n",
        "    seqs_and_lens = [str2ascii(string)for string in strings]\n",
        "    vect_seqs = [s[0] for s in seqs_and_lens]\n",
        "    seq_lens = torch.LongTensor([s[1] for s in seqs_and_lens])\n",
        "    valid = torch.LongTensor(valid)\n",
        "    return pad_seq(vect_seqs, seq_lens, valid)"
      ],
      "execution_count": 0,
      "outputs": []
    },
    {
      "cell_type": "markdown",
      "metadata": {
        "id": "3Lr3KHufagGQ",
        "colab_type": "text"
      },
      "source": [
        "#### Model"
      ]
    },
    {
      "cell_type": "code",
      "metadata": {
        "id": "ZIhsCJgk7Em7",
        "colab_type": "code",
        "colab": {}
      },
      "source": [
        "class Model(nn.Module):\n",
        "    def __init__(self, input_size, output_size, hidden_layers: list, mode):\n",
        "        super(Model, self).__init__()\n",
        "\n",
        "        self.embedding = nn.Embedding(num_embeddings=input_size, embedding_dim=hidden_layers[0]).to(device)\n",
        "        self.recurrent = MaskedDeepRNN(hidden_layers[0], hidden_layers, mode=mode).to(device)\n",
        "        self.fc = nn.Linear(hidden_layers[-1], output_size).to(device)\n",
        "        \n",
        "    def forward(self, input):\n",
        "        input = input.t()\n",
        "        embedded = self.embedding(input)\n",
        "        output = self.recurrent(embedded)\n",
        "        return self.fc(output)"
      ],
      "execution_count": 0,
      "outputs": []
    },
    {
      "cell_type": "code",
      "metadata": {
        "id": "CEWO7ihK81cE",
        "colab_type": "code",
        "colab": {}
      },
      "source": [
        "model = Model(INPUT_SIZE, OUTPUT_SIZE, HIDDEN_LAYERS, mode='tanh')"
      ],
      "execution_count": 0,
      "outputs": []
    },
    {
      "cell_type": "code",
      "metadata": {
        "id": "AkV3kS4nLMKP",
        "colab_type": "code",
        "colab": {}
      },
      "source": [
        "optimizer = torch.optim.Adam(model.parameters(), lr=0.001)\n",
        "criterion = nn.CrossEntropyLoss()"
      ],
      "execution_count": 0,
      "outputs": []
    },
    {
      "cell_type": "code",
      "metadata": {
        "id": "7SwNgu-kaax0",
        "colab_type": "code",
        "outputId": "df4f8c3d-7a04-4ace-bb0a-80ebc65ba496",
        "colab": {
          "base_uri": "https://localhost:8080/",
          "height": 204
        }
      },
      "source": [
        "print(model)"
      ],
      "execution_count": 21,
      "outputs": [
        {
          "output_type": "stream",
          "text": [
            "Model(\n",
            "  (embedding): Embedding(128, 100)\n",
            "  (recurrent): MaskedDeepRNN(\n",
            "    (recurrent_layers): ModuleList(\n",
            "      (0): MaskedRecurrentLayer(100, 100)\n",
            "      (1): MaskedRecurrentLayer(100, 100)\n",
            "      (2): MaskedRecurrentLayer(100, 100)\n",
            "    )\n",
            "  )\n",
            "  (fc): Linear(in_features=100, out_features=2, bias=True)\n",
            ")\n"
          ],
          "name": "stdout"
        }
      ]
    },
    {
      "cell_type": "markdown",
      "metadata": {
        "colab_type": "text",
        "id": "lQT4Qq2WGexR"
      },
      "source": [
        "#### Train & Test"
      ]
    },
    {
      "cell_type": "code",
      "metadata": {
        "colab_type": "code",
        "id": "ZRmp2k9KGexW",
        "colab": {}
      },
      "source": [
        "def train():\n",
        "    total_loss = 0\n",
        "    \n",
        "    for i, (string, valid) in enumerate(train_loader, 1):\n",
        "        input, seq_lens, target = make_variables(string, valid)\n",
        "\n",
        "        output = model(input)\n",
        "        \n",
        "        loss = criterion(output, target)\n",
        "        total_loss += loss.data.item()\n",
        "        \n",
        "        model.zero_grad()\n",
        "        loss.backward()\n",
        "        optimizer.step()\n",
        "        \n",
        "        if i % 100 == 0:\n",
        "            print('{}/{}\\tLoss: {:.5f}'.format(i * len(string), len(train_loader.dataset), total_loss / i * len(string)))"
      ],
      "execution_count": 0,
      "outputs": []
    },
    {
      "cell_type": "code",
      "metadata": {
        "colab_type": "code",
        "id": "ferW61amIjFP",
        "colab": {}
      },
      "source": [
        "test_acc = []"
      ],
      "execution_count": 0,
      "outputs": []
    },
    {
      "cell_type": "code",
      "metadata": {
        "colab_type": "code",
        "id": "EtDP_hJ0Gexh",
        "colab": {}
      },
      "source": [
        "def test():\n",
        "    correct = 0.\n",
        "    test_data_size = len(test_loader.dataset)\n",
        "    \n",
        "    for string, valid in test_loader:\n",
        "        input, seq_lens, target = make_variables(string, valid)\n",
        "\n",
        "        output = model(input)\n",
        "\n",
        "        pred = output.data.max(1, keepdim=True)[1]\n",
        "        correct += pred.eq(target.data.view_as(pred)).cpu().sum()\n",
        "\n",
        "    acc = 100 * correct / test_data_size\n",
        "    test_acc.append(acc)\n",
        "        \n",
        "    print('\\nAccuracy: {:.2f}%\\n'.format(acc))"
      ],
      "execution_count": 0,
      "outputs": []
    },
    {
      "cell_type": "code",
      "metadata": {
        "colab_type": "code",
        "id": "2az6-B2FGey3",
        "outputId": "e5879a52-cb05-46bf-9bc9-08969f7ea87d",
        "colab": {
          "base_uri": "https://localhost:8080/",
          "height": 1000
        }
      },
      "source": [
        "%%time\n",
        "for epoch in range(1, EPOCHS+1):\n",
        "    print('Epoch #{}\\n{}'.format(epoch, 12*'-'))\n",
        "    train()\n",
        "    test()"
      ],
      "execution_count": 25,
      "outputs": [
        {
          "output_type": "stream",
          "text": [
            "Epoch #1\n",
            "------------\n",
            "1600/18750\tLoss: 8.00903\n",
            "3200/18750\tLoss: 7.06434\n",
            "4800/18750\tLoss: 6.45564\n",
            "6400/18750\tLoss: 6.48596\n",
            "8000/18750\tLoss: 6.93277\n",
            "9600/18750\tLoss: 7.20505\n",
            "11200/18750\tLoss: 7.02064\n",
            "12800/18750\tLoss: 7.15055\n",
            "14400/18750\tLoss: 7.17030\n",
            "16000/18750\tLoss: 7.07053\n",
            "17600/18750\tLoss: 6.91070\n",
            "\n",
            "Accuracy: 80.56%\n",
            "\n",
            "Epoch #2\n",
            "------------\n",
            "1600/18750\tLoss: 5.66410\n",
            "3200/18750\tLoss: 5.53226\n",
            "4800/18750\tLoss: 5.31689\n",
            "6400/18750\tLoss: 5.26255\n",
            "8000/18750\tLoss: 5.26782\n",
            "9600/18750\tLoss: 5.18825\n",
            "11200/18750\tLoss: 5.15591\n",
            "12800/18750\tLoss: 5.11897\n",
            "14400/18750\tLoss: 5.10280\n",
            "16000/18750\tLoss: 5.09177\n",
            "17600/18750\tLoss: 5.08661\n",
            "\n",
            "Accuracy: 85.38%\n",
            "\n",
            "Epoch #3\n",
            "------------\n",
            "1600/18750\tLoss: 4.70385\n",
            "3200/18750\tLoss: 4.80753\n",
            "4800/18750\tLoss: 4.85385\n",
            "6400/18750\tLoss: 4.96132\n",
            "8000/18750\tLoss: 5.00978\n",
            "9600/18750\tLoss: 4.97690\n",
            "11200/18750\tLoss: 5.03358\n",
            "12800/18750\tLoss: 5.01541\n",
            "14400/18750\tLoss: 4.96320\n",
            "16000/18750\tLoss: 4.96469\n",
            "17600/18750\tLoss: 4.92728\n",
            "\n",
            "Accuracy: 85.62%\n",
            "\n",
            "Epoch #4\n",
            "------------\n",
            "1600/18750\tLoss: 5.12885\n",
            "3200/18750\tLoss: 4.86290\n",
            "4800/18750\tLoss: 4.95850\n",
            "6400/18750\tLoss: 4.99914\n",
            "8000/18750\tLoss: 5.02321\n",
            "9600/18750\tLoss: 5.34554\n",
            "11200/18750\tLoss: 5.60959\n",
            "12800/18750\tLoss: 6.05542\n",
            "14400/18750\tLoss: 6.35789\n",
            "16000/18750\tLoss: 6.52184\n",
            "17600/18750\tLoss: 6.64406\n",
            "\n",
            "Accuracy: 81.39%\n",
            "\n",
            "Epoch #5\n",
            "------------\n",
            "1600/18750\tLoss: 7.88338\n",
            "3200/18750\tLoss: 7.12854\n",
            "4800/18750\tLoss: 6.72947\n",
            "6400/18750\tLoss: 6.40415\n",
            "8000/18750\tLoss: 6.57685\n",
            "9600/18750\tLoss: 7.07740\n",
            "11200/18750\tLoss: 7.21612\n",
            "12800/18750\tLoss: 7.17177\n",
            "14400/18750\tLoss: 7.23687\n",
            "16000/18750\tLoss: 7.13415\n",
            "17600/18750\tLoss: 7.08979\n",
            "\n",
            "Accuracy: 85.71%\n",
            "\n",
            "Epoch #6\n",
            "------------\n",
            "1600/18750\tLoss: 4.73619\n",
            "3200/18750\tLoss: 4.82389\n",
            "4800/18750\tLoss: 4.85222\n",
            "6400/18750\tLoss: 4.77136\n",
            "8000/18750\tLoss: 4.72309\n",
            "9600/18750\tLoss: 4.74341\n",
            "11200/18750\tLoss: 4.72941\n",
            "12800/18750\tLoss: 4.86641\n",
            "14400/18750\tLoss: 4.90749\n",
            "16000/18750\tLoss: 4.88146\n",
            "17600/18750\tLoss: 4.87374\n",
            "\n",
            "Accuracy: 89.04%\n",
            "\n",
            "Epoch #7\n",
            "------------\n",
            "1600/18750\tLoss: 4.55540\n",
            "3200/18750\tLoss: 4.54420\n",
            "4800/18750\tLoss: 4.50575\n",
            "6400/18750\tLoss: 4.49213\n",
            "8000/18750\tLoss: 4.55933\n",
            "9600/18750\tLoss: 4.53663\n",
            "11200/18750\tLoss: 4.65246\n",
            "12800/18750\tLoss: 4.91215\n",
            "14400/18750\tLoss: 5.02532\n",
            "16000/18750\tLoss: 5.10366\n",
            "17600/18750\tLoss: 5.13341\n",
            "\n",
            "Accuracy: 57.94%\n",
            "\n",
            "Epoch #8\n",
            "------------\n",
            "1600/18750\tLoss: 8.74241\n",
            "3200/18750\tLoss: 8.60126\n",
            "4800/18750\tLoss: 9.49650\n",
            "6400/18750\tLoss: 8.77408\n",
            "8000/18750\tLoss: 8.17756\n",
            "9600/18750\tLoss: 7.81444\n",
            "11200/18750\tLoss: 7.73369\n",
            "12800/18750\tLoss: 7.63774\n",
            "14400/18750\tLoss: 7.45964\n",
            "16000/18750\tLoss: 7.26494\n",
            "17600/18750\tLoss: 7.07868\n",
            "\n",
            "Accuracy: 85.78%\n",
            "\n",
            "Epoch #9\n",
            "------------\n",
            "1600/18750\tLoss: 4.84079\n",
            "3200/18750\tLoss: 4.65213\n",
            "4800/18750\tLoss: 4.57160\n",
            "6400/18750\tLoss: 4.49868\n",
            "8000/18750\tLoss: 4.46234\n",
            "9600/18750\tLoss: 4.44666\n",
            "11200/18750\tLoss: 4.37816\n",
            "12800/18750\tLoss: 4.26255\n",
            "14400/18750\tLoss: 4.20545\n",
            "16000/18750\tLoss: 4.13867\n",
            "17600/18750\tLoss: 4.05917\n",
            "\n",
            "Accuracy: 91.78%\n",
            "\n",
            "Epoch #10\n",
            "------------\n",
            "1600/18750\tLoss: 3.47065\n",
            "3200/18750\tLoss: 3.45186\n",
            "4800/18750\tLoss: 3.39689\n",
            "6400/18750\tLoss: 3.45834\n",
            "8000/18750\tLoss: 3.36972\n",
            "9600/18750\tLoss: 3.33657\n",
            "11200/18750\tLoss: 3.30347\n",
            "12800/18750\tLoss: 3.30777\n",
            "14400/18750\tLoss: 3.31306\n",
            "16000/18750\tLoss: 3.30728\n",
            "17600/18750\tLoss: 3.33322\n",
            "\n",
            "Accuracy: 92.78%\n",
            "\n",
            "Epoch #11\n",
            "------------\n",
            "1600/18750\tLoss: 3.60166\n",
            "3200/18750\tLoss: 3.45900\n",
            "4800/18750\tLoss: 3.39471\n",
            "6400/18750\tLoss: 3.31192\n",
            "8000/18750\tLoss: 3.32917\n",
            "9600/18750\tLoss: 3.35688\n",
            "11200/18750\tLoss: 3.28322\n",
            "12800/18750\tLoss: 3.26088\n",
            "14400/18750\tLoss: 3.20712\n",
            "16000/18750\tLoss: 3.20437\n",
            "17600/18750\tLoss: 3.58809\n",
            "\n",
            "Accuracy: 86.02%\n",
            "\n",
            "Epoch #12\n",
            "------------\n",
            "1600/18750\tLoss: 5.64818\n",
            "3200/18750\tLoss: 5.52130\n",
            "4800/18750\tLoss: 5.56605\n",
            "6400/18750\tLoss: 5.65599\n",
            "8000/18750\tLoss: 5.58433\n",
            "9600/18750\tLoss: 5.58254\n",
            "11200/18750\tLoss: 5.61259\n",
            "12800/18750\tLoss: 5.60933\n",
            "14400/18750\tLoss: 5.66392\n",
            "16000/18750\tLoss: 5.67317\n",
            "17600/18750\tLoss: 5.68089\n",
            "\n",
            "Accuracy: 85.76%\n",
            "\n",
            "Epoch #13\n",
            "------------\n",
            "1600/18750\tLoss: 5.72762\n",
            "3200/18750\tLoss: 5.79946\n",
            "4800/18750\tLoss: 5.67058\n",
            "6400/18750\tLoss: 5.64208\n",
            "8000/18750\tLoss: 5.57215\n",
            "9600/18750\tLoss: 5.55540\n",
            "11200/18750\tLoss: 5.55234\n",
            "12800/18750\tLoss: 5.55774\n",
            "14400/18750\tLoss: 5.55032\n",
            "16000/18750\tLoss: 5.51884\n",
            "17600/18750\tLoss: 5.52619\n",
            "\n",
            "Accuracy: 85.71%\n",
            "\n",
            "Epoch #14\n",
            "------------\n",
            "1600/18750\tLoss: 5.55506\n",
            "3200/18750\tLoss: 5.65150\n",
            "4800/18750\tLoss: 5.65231\n",
            "6400/18750\tLoss: 5.61797\n",
            "8000/18750\tLoss: 5.54414\n",
            "9600/18750\tLoss: 5.50663\n",
            "11200/18750\tLoss: 5.50517\n",
            "12800/18750\tLoss: 5.54370\n",
            "14400/18750\tLoss: 5.54408\n",
            "16000/18750\tLoss: 5.53559\n",
            "17600/18750\tLoss: 5.58585\n",
            "\n",
            "Accuracy: 66.37%\n",
            "\n",
            "Epoch #15\n",
            "------------\n",
            "1600/18750\tLoss: 7.74291\n",
            "3200/18750\tLoss: 6.53404\n",
            "4800/18750\tLoss: 6.00199\n",
            "6400/18750\tLoss: 5.71587\n",
            "8000/18750\tLoss: 5.48705\n",
            "9600/18750\tLoss: 5.47296\n",
            "11200/18750\tLoss: 5.41539\n",
            "12800/18750\tLoss: 5.40768\n",
            "14400/18750\tLoss: 5.44633\n",
            "16000/18750\tLoss: 5.45005\n",
            "17600/18750\tLoss: 5.42846\n",
            "\n",
            "Accuracy: 85.73%\n",
            "\n",
            "Epoch #16\n",
            "------------\n",
            "1600/18750\tLoss: 5.94397\n",
            "3200/18750\tLoss: 5.70864\n",
            "4800/18750\tLoss: 5.77426\n",
            "6400/18750\tLoss: 5.68745\n",
            "8000/18750\tLoss: 5.61443\n",
            "9600/18750\tLoss: 5.60140\n",
            "11200/18750\tLoss: 5.60539\n",
            "12800/18750\tLoss: 5.58736\n",
            "14400/18750\tLoss: 5.52689\n",
            "16000/18750\tLoss: 5.52725\n",
            "17600/18750\tLoss: 5.56516\n",
            "\n",
            "Accuracy: 85.49%\n",
            "\n",
            "Epoch #17\n",
            "------------\n",
            "1600/18750\tLoss: 5.15761\n",
            "3200/18750\tLoss: 5.18014\n",
            "4800/18750\tLoss: 5.11173\n",
            "6400/18750\tLoss: 5.19658\n",
            "8000/18750\tLoss: 5.23643\n",
            "9600/18750\tLoss: 5.20368\n",
            "11200/18750\tLoss: 5.50924\n",
            "12800/18750\tLoss: 5.53089\n",
            "14400/18750\tLoss: 5.52893\n",
            "16000/18750\tLoss: 5.53227\n",
            "17600/18750\tLoss: 5.53192\n",
            "\n",
            "Accuracy: 85.94%\n",
            "\n",
            "Epoch #18\n",
            "------------\n",
            "1600/18750\tLoss: 5.70514\n",
            "3200/18750\tLoss: 5.74553\n",
            "4800/18750\tLoss: 5.82992\n",
            "6400/18750\tLoss: 5.74745\n",
            "8000/18750\tLoss: 5.72821\n",
            "9600/18750\tLoss: 5.71135\n",
            "11200/18750\tLoss: 5.57267\n",
            "12800/18750\tLoss: 5.45736\n",
            "14400/18750\tLoss: 5.58465\n",
            "16000/18750\tLoss: 5.69287\n",
            "17600/18750\tLoss: 5.72655\n",
            "\n",
            "Accuracy: 83.20%\n",
            "\n",
            "Epoch #19\n",
            "------------\n",
            "1600/18750\tLoss: 5.57131\n",
            "3200/18750\tLoss: 5.68507\n",
            "4800/18750\tLoss: 5.68655\n",
            "6400/18750\tLoss: 5.77575\n",
            "8000/18750\tLoss: 5.74564\n",
            "9600/18750\tLoss: 5.72010\n",
            "11200/18750\tLoss: 5.67144\n",
            "12800/18750\tLoss: 5.59857\n",
            "14400/18750\tLoss: 5.63802\n",
            "16000/18750\tLoss: 5.66096\n",
            "17600/18750\tLoss: 5.68033\n",
            "\n",
            "Accuracy: 85.60%\n",
            "\n",
            "Epoch #20\n",
            "------------\n",
            "1600/18750\tLoss: 5.76176\n",
            "3200/18750\tLoss: 5.70547\n",
            "4800/18750\tLoss: 5.66810\n",
            "6400/18750\tLoss: 5.61343\n",
            "8000/18750\tLoss: 5.58986\n",
            "9600/18750\tLoss: 5.57990\n",
            "11200/18750\tLoss: 5.60405\n",
            "12800/18750\tLoss: 5.63118\n",
            "14400/18750\tLoss: 5.64651\n",
            "16000/18750\tLoss: 5.56992\n",
            "17600/18750\tLoss: 5.58710\n",
            "\n",
            "Accuracy: 85.06%\n",
            "\n",
            "Epoch #21\n",
            "------------\n",
            "1600/18750\tLoss: 5.42757\n",
            "3200/18750\tLoss: 5.82435\n",
            "4800/18750\tLoss: 5.70248\n",
            "6400/18750\tLoss: 5.83235\n",
            "8000/18750\tLoss: 5.81001\n",
            "9600/18750\tLoss: 5.76461\n",
            "11200/18750\tLoss: 5.76684\n",
            "12800/18750\tLoss: 5.74109\n",
            "14400/18750\tLoss: 5.69781\n",
            "16000/18750\tLoss: 5.68290\n",
            "17600/18750\tLoss: 5.66200\n",
            "\n",
            "Accuracy: 85.58%\n",
            "\n",
            "Epoch #22\n",
            "------------\n",
            "1600/18750\tLoss: 5.22865\n",
            "3200/18750\tLoss: 5.47035\n",
            "4800/18750\tLoss: 5.59584\n",
            "6400/18750\tLoss: 5.66384\n",
            "8000/18750\tLoss: 5.71241\n",
            "9600/18750\tLoss: 5.68352\n",
            "11200/18750\tLoss: 5.63858\n",
            "12800/18750\tLoss: 5.57837\n",
            "14400/18750\tLoss: 5.59611\n",
            "16000/18750\tLoss: 5.59790\n",
            "17600/18750\tLoss: 5.57301\n",
            "\n",
            "Accuracy: 85.55%\n",
            "\n",
            "Epoch #23\n",
            "------------\n",
            "1600/18750\tLoss: 5.77178\n",
            "3200/18750\tLoss: 5.58252\n",
            "4800/18750\tLoss: 5.66338\n",
            "6400/18750\tLoss: 5.60183\n",
            "8000/18750\tLoss: 5.55547\n",
            "9600/18750\tLoss: 5.60615\n",
            "11200/18750\tLoss: 5.65341\n",
            "12800/18750\tLoss: 5.72464\n",
            "14400/18750\tLoss: 5.73696\n",
            "16000/18750\tLoss: 5.78538\n",
            "17600/18750\tLoss: 5.80377\n",
            "\n",
            "Accuracy: 82.69%\n",
            "\n",
            "Epoch #24\n",
            "------------\n",
            "1600/18750\tLoss: 6.06708\n",
            "3200/18750\tLoss: 6.06634\n",
            "4800/18750\tLoss: 6.18428\n",
            "6400/18750\tLoss: 6.20310\n",
            "8000/18750\tLoss: 6.14643\n",
            "9600/18750\tLoss: 6.06861\n",
            "11200/18750\tLoss: 6.05310\n",
            "12800/18750\tLoss: 6.01301\n",
            "14400/18750\tLoss: 6.00427\n",
            "16000/18750\tLoss: 5.95110\n",
            "17600/18750\tLoss: 5.93904\n",
            "\n",
            "Accuracy: 84.80%\n",
            "\n",
            "Epoch #25\n",
            "------------\n",
            "1600/18750\tLoss: 5.44283\n",
            "3200/18750\tLoss: 5.40243\n",
            "4800/18750\tLoss: 5.49656\n",
            "6400/18750\tLoss: 5.58528\n",
            "8000/18750\tLoss: 5.65634\n",
            "9600/18750\tLoss: 5.63372\n",
            "11200/18750\tLoss: 5.62641\n",
            "12800/18750\tLoss: 5.59327\n",
            "14400/18750\tLoss: 5.60306\n",
            "16000/18750\tLoss: 5.58507\n",
            "17600/18750\tLoss: 5.59762\n",
            "\n",
            "Accuracy: 84.80%\n",
            "\n",
            "Epoch #26\n",
            "------------\n",
            "1600/18750\tLoss: 5.81255\n",
            "3200/18750\tLoss: 5.58761\n",
            "4800/18750\tLoss: 5.57046\n",
            "6400/18750\tLoss: 5.59680\n",
            "8000/18750\tLoss: 5.53273\n",
            "9600/18750\tLoss: 5.55738\n",
            "11200/18750\tLoss: 5.53956\n",
            "12800/18750\tLoss: 5.57376\n",
            "14400/18750\tLoss: 5.59944\n",
            "16000/18750\tLoss: 5.58342\n",
            "17600/18750\tLoss: 5.61242\n",
            "\n",
            "Accuracy: 84.70%\n",
            "\n",
            "Epoch #27\n",
            "------------\n",
            "1600/18750\tLoss: 5.45099\n",
            "3200/18750\tLoss: 5.60333\n",
            "4800/18750\tLoss: 5.64873\n",
            "6400/18750\tLoss: 5.65766\n",
            "8000/18750\tLoss: 5.57803\n",
            "9600/18750\tLoss: 5.56415\n",
            "11200/18750\tLoss: 5.56069\n",
            "12800/18750\tLoss: 5.56498\n",
            "14400/18750\tLoss: 5.56507\n",
            "16000/18750\tLoss: 5.59327\n",
            "17600/18750\tLoss: 5.59534\n",
            "\n",
            "Accuracy: 84.70%\n",
            "\n",
            "Epoch #28\n",
            "------------\n",
            "1600/18750\tLoss: 5.68453\n",
            "3200/18750\tLoss: 5.69361\n",
            "4800/18750\tLoss: 5.63398\n",
            "6400/18750\tLoss: 5.67561\n",
            "8000/18750\tLoss: 5.65463\n",
            "9600/18750\tLoss: 5.61473\n",
            "11200/18750\tLoss: 5.63618\n",
            "12800/18750\tLoss: 5.61065\n",
            "14400/18750\tLoss: 5.59069\n",
            "16000/18750\tLoss: 5.60524\n",
            "17600/18750\tLoss: 5.59402\n",
            "\n",
            "Accuracy: 84.78%\n",
            "\n",
            "Epoch #29\n",
            "------------\n",
            "1600/18750\tLoss: 5.91693\n",
            "3200/18750\tLoss: 5.81430\n",
            "4800/18750\tLoss: 5.79923\n",
            "6400/18750\tLoss: 5.91959\n",
            "8000/18750\tLoss: 6.01610\n",
            "9600/18750\tLoss: 6.05868\n",
            "11200/18750\tLoss: 6.08260\n",
            "12800/18750\tLoss: 6.12829\n",
            "14400/18750\tLoss: 6.12519\n",
            "16000/18750\tLoss: 6.16542\n",
            "17600/18750\tLoss: 6.17499\n",
            "\n",
            "Accuracy: 81.46%\n",
            "\n",
            "Epoch #30\n",
            "------------\n",
            "1600/18750\tLoss: 6.14197\n",
            "3200/18750\tLoss: 6.32215\n",
            "4800/18750\tLoss: 6.29346\n",
            "6400/18750\tLoss: 6.32946\n",
            "8000/18750\tLoss: 6.38224\n",
            "9600/18750\tLoss: 6.41954\n",
            "11200/18750\tLoss: 6.44112\n",
            "12800/18750\tLoss: 6.45893\n",
            "14400/18750\tLoss: 6.43558\n",
            "16000/18750\tLoss: 6.39796\n",
            "17600/18750\tLoss: 6.41755\n",
            "\n",
            "Accuracy: 81.46%\n",
            "\n",
            "CPU times: user 31min 47s, sys: 3.82 s, total: 31min 51s\n",
            "Wall time: 32min 2s\n"
          ],
          "name": "stdout"
        }
      ]
    },
    {
      "cell_type": "markdown",
      "metadata": {
        "id": "SeUKJ_86Yiua",
        "colab_type": "text"
      },
      "source": [
        "#### Plot & Save"
      ]
    },
    {
      "cell_type": "code",
      "metadata": {
        "id": "hBcNe-rQVAHg",
        "colab_type": "code",
        "outputId": "8e179727-a07c-4278-debd-14ff727faace",
        "colab": {
          "base_uri": "https://localhost:8080/",
          "height": 404
        }
      },
      "source": [
        "plt.figure(figsize=(10, 6))\n",
        "plt.title('{} Test Accuracy'.format(MODEL.upper()))\n",
        "plt.xlabel('Epoch')\n",
        "plt.ylabel('Accuracy %')\n",
        "plt.savefig('{}-accuracy.png'.format(MODEL))\n",
        "plt.plot(range(1, len(test_acc)+1), test_acc, marker='o', ms='2');"
      ],
      "execution_count": 26,
      "outputs": [
        {
          "output_type": "display_data",
          "data": {
            "image/png": "[encoded data removed]",
            "text/plain": [
              "<Figure size 720x432 with 1 Axes>"
            ]
          },
          "metadata": {
            "tags": []
          }
        }
      ]
    },
    {
      "cell_type": "code",
      "metadata": {
        "id": "KY-iIkDnXUtl",
        "colab_type": "code",
        "colab": {}
      },
      "source": [
        "with open('{}-accuracies.txt'.format(MODEL), 'a') as f:\n",
        "    f.write('{}'.format(MODEL.upper()) + ':' + ','.join(str(a.item()) for a in test_acc) + '\\n')"
      ],
      "execution_count": 0,
      "outputs": []
    },
    {
      "cell_type": "code",
      "metadata": {
        "id": "DUzzwNRBrsef",
        "colab_type": "code",
        "colab": {}
      },
      "source": [
        "torch.save(model.state_dict(), './{}-dict.pt'.format(MODEL))"
      ],
      "execution_count": 0,
      "outputs": []
    },
    {
      "cell_type": "markdown",
      "metadata": {
        "id": "AF2OK-ZlYywh",
        "colab_type": "text"
      },
      "source": [
        "#### Parameters Info"
      ]
    },
    {
      "cell_type": "code",
      "metadata": {
        "id": "N-yjwepoxfHs",
        "colab_type": "code",
        "outputId": "ca34f018-73bf-4a9f-8bd4-58710e135678",
        "colab": {
          "base_uri": "https://localhost:8080/",
          "height": 34
        }
      },
      "source": [
        "next(model.parameters()).is_cuda"
      ],
      "execution_count": 29,
      "outputs": [
        {
          "output_type": "execute_result",
          "data": {
            "text/plain": [
              "True"
            ]
          },
          "metadata": {
            "tags": []
          },
          "execution_count": 29
        }
      ]
    },
    {
      "cell_type": "code",
      "metadata": {
        "id": "X55xl3WKY3fM",
        "colab_type": "code",
        "colab": {}
      },
      "source": [
        "def count_parameters(model):\n",
        "    total_params = sum(p.numel() for p in model.parameters())\n",
        "    trainable_params = sum(p.numel() for p in model.parameters() if p.requires_grad)\n",
        "    return total_params, trainable_params"
      ],
      "execution_count": 0,
      "outputs": []
    },
    {
      "cell_type": "code",
      "metadata": {
        "id": "sgP15vHyY9UB",
        "colab_type": "code",
        "outputId": "2c3dabc7-d5bd-426f-e8b0-ba3e6f7939d2",
        "colab": {
          "base_uri": "https://localhost:8080/",
          "height": 51
        }
      },
      "source": [
        "total_params, trainable_params = count_parameters(model)\n",
        "print('Total parameters: {}\\nTrainable parameters: {}'.format(total_params, trainable_params))"
      ],
      "execution_count": 31,
      "outputs": [
        {
          "output_type": "stream",
          "text": [
            "Total parameters: 73602\n",
            "Trainable parameters: 73602\n"
          ],
          "name": "stdout"
        }
      ]
    },
    {
      "cell_type": "code",
      "metadata": {
        "id": "_kIVVl0LZAfc",
        "colab_type": "code",
        "outputId": "d68dde2b-a84e-46c1-b27d-88b0d5aec2f5",
        "colab": {
          "base_uri": "https://localhost:8080/",
          "height": 272
        }
      },
      "source": [
        "for name, param in model.named_parameters():\n",
        "    if param.requires_grad:\n",
        "        print('{}: {}'.format(name, param.data.nelement()))"
      ],
      "execution_count": 32,
      "outputs": [
        {
          "output_type": "stream",
          "text": [
            "embedding.weight: 12800\n",
            "recurrent.recurrent_layers.0.weight_ih: 10000\n",
            "recurrent.recurrent_layers.0.weight_hh: 10000\n",
            "recurrent.recurrent_layers.0.bias_ih: 100\n",
            "recurrent.recurrent_layers.0.bias_hh: 100\n",
            "recurrent.recurrent_layers.1.weight_ih: 10000\n",
            "recurrent.recurrent_layers.1.weight_hh: 10000\n",
            "recurrent.recurrent_layers.1.bias_ih: 100\n",
            "recurrent.recurrent_layers.1.bias_hh: 100\n",
            "recurrent.recurrent_layers.2.weight_ih: 10000\n",
            "recurrent.recurrent_layers.2.weight_hh: 10000\n",
            "recurrent.recurrent_layers.2.bias_ih: 100\n",
            "recurrent.recurrent_layers.2.bias_hh: 100\n",
            "fc.weight: 200\n",
            "fc.bias: 2\n"
          ],
          "name": "stdout"
        }
      ]
    },
    {
      "cell_type": "markdown",
      "metadata": {
        "id": "6eC1cDeuZIZ7",
        "colab_type": "text"
      },
      "source": [
        "#### Weights"
      ]
    },
    {
      "cell_type": "code",
      "metadata": {
        "id": "rNYGLazuZCzZ",
        "colab_type": "code",
        "colab": {}
      },
      "source": [
        "weights = [model.recurrent.recurrent_layers[0].weight_ih, model.recurrent.recurrent_layers[0].weight_hh,\n",
        "           model.recurrent.recurrent_layers[1].weight_ih, model.recurrent.recurrent_layers[1].weight_hh,\n",
        "           model.recurrent.recurrent_layers[2].weight_ih, model.recurrent.recurrent_layers[2].weight_hh]"
      ],
      "execution_count": 0,
      "outputs": []
    },
    {
      "cell_type": "code",
      "metadata": {
        "id": "TO2pEgo9ZodR",
        "colab_type": "code",
        "colab": {}
      },
      "source": [
        "titles = ['Recurrent Layer 1 - weight_ih', 'Recurrent Layer 1 - weight_hh',\n",
        "          'Recurrent Layer 2 - weight_ih', 'Recurrent Layer 2 - weight_hh',\n",
        "          'Recurrent Layer 3 - weight_ih', 'Recurrent Layer 3 - weight_hh']"
      ],
      "execution_count": 0,
      "outputs": []
    },
    {
      "cell_type": "code",
      "metadata": {
        "id": "_Kd7fhBmZ7ts",
        "colab_type": "code",
        "outputId": "20ca3dac-d3c5-4d52-8919-99992ea6458c",
        "colab": {
          "base_uri": "https://localhost:8080/",
          "height": 627
        }
      },
      "source": [
        "plt.figure(figsize=(16, 10))\n",
        "plt.subplots_adjust(hspace=0.7)\n",
        "for i, weight in enumerate(weights):\n",
        "    plt.subplot(3,2,i+1)\n",
        "    plt.title('{}'.format(titles[i]))\n",
        "    plt.hist(weight.cpu().detach().numpy().reshape(-1), bins=100)\n",
        "    plt.xlim(-0.5, 0.5)\n",
        "plt.savefig('{}-weights.png'.format(MODEL))"
      ],
      "execution_count": 35,
      "outputs": [
        {
          "output_type": "display_data",
          "data": {
            "image/png": "[encoded data removed]",
            "text/plain": [
              "<Figure size 1152x720 with 6 Axes>"
            ]
          },
          "metadata": {
            "tags": []
          }
        }
      ]
    }
  ]
}