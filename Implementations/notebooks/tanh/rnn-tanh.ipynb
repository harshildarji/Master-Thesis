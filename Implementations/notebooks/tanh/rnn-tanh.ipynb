{
  "nbformat": 4,
  "nbformat_minor": 0,
  "metadata": {
    "accelerator": "GPU",
    "colab": {
      "name": "rnn.ipynb",
      "provenance": [],
      "collapsed_sections": []
    },
    "kernelspec": {
      "display_name": "Python 3",
      "language": "python",
      "name": "python3"
    },
    "language_info": {
      "codemirror_mode": {
        "name": "ipython",
        "version": 3
      },
      "file_extension": ".py",
      "mimetype": "text/x-python",
      "name": "python",
      "nbconvert_exporter": "python",
      "pygments_lexer": "ipython3",
      "version": "3.6.9"
    }
  },
  "cells": [
    {
      "cell_type": "code",
      "metadata": {
        "id": "YTdml_ZZO04W",
        "colab_type": "code",
        "colab": {}
      },
      "source": [
        "import sys\n",
        "sys.path.append('../')"
      ],
      "execution_count": 0,
      "outputs": []
    },
    {
      "cell_type": "code",
      "metadata": {
        "colab_type": "code",
        "id": "jnlVHBXYGevQ",
        "colab": {}
      },
      "source": [
        "import torch\n",
        "import torch.nn as nn\n",
        "from torch.autograd import Variable\n",
        "from torch.utils.data import Dataset, DataLoader\n",
        "from torch.nn.utils.rnn import pack_padded_sequence, pad_packed_sequence\n",
        "\n",
        "from CustomRNN import DeepRNN\n",
        "\n",
        "import pandas as pd\n",
        "import matplotlib.pyplot as plt\n",
        "import seaborn as sns"
      ],
      "execution_count": 0,
      "outputs": []
    },
    {
      "cell_type": "code",
      "metadata": {
        "id": "SnJ89dAtiljA",
        "colab_type": "code",
        "colab": {}
      },
      "source": [
        "sns.set_style(\"darkgrid\")"
      ],
      "execution_count": 0,
      "outputs": []
    },
    {
      "cell_type": "markdown",
      "metadata": {
        "colab_type": "text",
        "id": "OQRUiZIIGevb"
      },
      "source": [
        "#### Import, shuffle and split dataset"
      ]
    },
    {
      "cell_type": "code",
      "metadata": {
        "colab_type": "code",
        "id": "Hc-jfPQDGevd",
        "colab": {}
      },
      "source": [
        "data = pd.read_csv('reber_sequences.csv')"
      ],
      "execution_count": 0,
      "outputs": []
    },
    {
      "cell_type": "code",
      "metadata": {
        "colab_type": "code",
        "id": "VZt1tuMDGevl",
        "colab": {}
      },
      "source": [
        "data = data.sample(frac=1).reset_index(drop=True)"
      ],
      "execution_count": 0,
      "outputs": []
    },
    {
      "cell_type": "code",
      "metadata": {
        "colab_type": "code",
        "id": "9FVvyiR2Gevt",
        "colab": {}
      },
      "source": [
        "train_data = data[:int(.75*len(data))]\n",
        "test_data = data[len(train_data):]"
      ],
      "execution_count": 0,
      "outputs": []
    },
    {
      "cell_type": "code",
      "metadata": {
        "colab_type": "code",
        "id": "hFGa03AvGevx",
        "outputId": "25a14b54-77a0-4a6a-df16-98cf6f98a8a3",
        "colab": {
          "base_uri": "https://localhost:8080/",
          "height": 68
        }
      },
      "source": [
        "print('Total length: {}\\nTrain data length: {}\\nTest data length: {}'.format(len(data), len(train_data), len(test_data)))"
      ],
      "execution_count": 7,
      "outputs": [
        {
          "output_type": "stream",
          "text": [
            "Total length: 25000\n",
            "Train data length: 18750\n",
            "Test data length: 6250\n"
          ],
          "name": "stdout"
        }
      ]
    },
    {
      "cell_type": "markdown",
      "metadata": {
        "colab_type": "text",
        "id": "uCoah1gRGev6"
      },
      "source": [
        "#### Parameters"
      ]
    },
    {
      "cell_type": "code",
      "metadata": {
        "colab_type": "code",
        "id": "6wDwJmInGev8",
        "colab": {}
      },
      "source": [
        "BATCH_SIZE = 16\n",
        "EPOCHS = 30\n",
        "OUTPUT_SIZE = 2\n",
        "INPUT_SIZE = 128"
      ],
      "execution_count": 0,
      "outputs": []
    },
    {
      "cell_type": "code",
      "metadata": {
        "id": "CKtaST_DiqQR",
        "colab_type": "code",
        "colab": {}
      },
      "source": [
        "MODEL = 'rnn-tanh'"
      ],
      "execution_count": 0,
      "outputs": []
    },
    {
      "cell_type": "markdown",
      "metadata": {
        "colab_type": "text",
        "id": "mETf9K_7GewC"
      },
      "source": [
        "#### Customize `Dataset` and create loaders"
      ]
    },
    {
      "cell_type": "code",
      "metadata": {
        "colab_type": "code",
        "id": "tvZNBTBqGewD",
        "colab": {}
      },
      "source": [
        "class MakeDataset(Dataset):\n",
        "    def __init__(self, data):\n",
        "        self.strings = list(data['string'])\n",
        "        self.valid = list(data['valid'])\n",
        "        self.len = len(self.valid)\n",
        "        self.valid_list = [0, 1]\n",
        "\n",
        "    def __getitem__(self, index):\n",
        "        return self.strings[index], self.valid[index]\n",
        "\n",
        "    def __len__(self):\n",
        "        return self.len"
      ],
      "execution_count": 0,
      "outputs": []
    },
    {
      "cell_type": "markdown",
      "metadata": {
        "colab_type": "text",
        "id": "qtRtnbUPGewI"
      },
      "source": [
        "Create train loader"
      ]
    },
    {
      "cell_type": "code",
      "metadata": {
        "colab_type": "code",
        "id": "qIkc37iDGewJ",
        "colab": {}
      },
      "source": [
        "dataset = MakeDataset(train_data)\n",
        "train_loader = DataLoader(dataset=dataset, batch_size=BATCH_SIZE, shuffle=True)"
      ],
      "execution_count": 0,
      "outputs": []
    },
    {
      "cell_type": "markdown",
      "metadata": {
        "colab_type": "text",
        "id": "Onw5bwfjGewO"
      },
      "source": [
        "Create test loader"
      ]
    },
    {
      "cell_type": "code",
      "metadata": {
        "colab_type": "code",
        "id": "8me9-GUdGewP",
        "colab": {}
      },
      "source": [
        "dataset = MakeDataset(test_data)\n",
        "test_loader = DataLoader(dataset=dataset, batch_size=BATCH_SIZE, shuffle=True)"
      ],
      "execution_count": 0,
      "outputs": []
    },
    {
      "cell_type": "markdown",
      "metadata": {
        "colab_type": "text",
        "id": "HiAzJtMSGewW"
      },
      "source": [
        "#### Some helper functions"
      ]
    },
    {
      "cell_type": "code",
      "metadata": {
        "colab_type": "code",
        "id": "VX5oPdsWGewX",
        "colab": {}
      },
      "source": [
        "def create_variable(tensor):\n",
        "    return Variable(tensor)"
      ],
      "execution_count": 0,
      "outputs": []
    },
    {
      "cell_type": "code",
      "metadata": {
        "colab_type": "code",
        "id": "rCKTIEbbGewh",
        "colab": {}
      },
      "source": [
        "def pad_seq(vect_seqs, seq_lens, valid):\n",
        "    seq_tensor = torch.zeros((len(vect_seqs), seq_lens.max())).long()\n",
        "    \n",
        "    for index, (seq, seq_len) in enumerate(zip(vect_seqs, seq_lens)):\n",
        "        seq_tensor[index, :seq_len] = torch.LongTensor(seq)\n",
        "        \n",
        "    return create_variable(seq_tensor), create_variable(seq_lens), create_variable(valid)"
      ],
      "execution_count": 0,
      "outputs": []
    },
    {
      "cell_type": "code",
      "metadata": {
        "colab_type": "code",
        "id": "BOeyEku_Gewn",
        "colab": {}
      },
      "source": [
        "def str2ascii(string):\n",
        "    ascii_arr = [ord(s) for s in string]\n",
        "    return ascii_arr, len(ascii_arr)"
      ],
      "execution_count": 0,
      "outputs": []
    },
    {
      "cell_type": "code",
      "metadata": {
        "colab_type": "code",
        "id": "g5HS0oTzGewq",
        "colab": {}
      },
      "source": [
        "def make_variables(strings, valid):\n",
        "    seqs_and_lens = [str2ascii(string)for string in strings]\n",
        "    vect_seqs = [s[0] for s in seqs_and_lens]\n",
        "    seq_lens = torch.LongTensor([s[1] for s in seqs_and_lens])\n",
        "    valid = torch.LongTensor(valid)\n",
        "    return pad_seq(vect_seqs, seq_lens, valid)"
      ],
      "execution_count": 0,
      "outputs": []
    },
    {
      "cell_type": "markdown",
      "metadata": {
        "colab_type": "text",
        "id": "P1kyF1n6GexA"
      },
      "source": [
        "#### Define model class"
      ]
    },
    {
      "cell_type": "code",
      "metadata": {
        "colab_type": "code",
        "id": "VKVStR_zDbs1",
        "colab": {}
      },
      "source": [
        "class RNNModel(nn.Module):\n",
        "    def __init__(self, input_size, output_size, hidden_layers : list):\n",
        "        super(RNNModel, self).__init__()\n",
        "\n",
        "        self.embedding = nn.Embedding(input_size, hidden_layers[0])\n",
        "        self.rnn = DeepRNN(hidden_layers[0], hidden_layers, mode='tanh')\n",
        "        self.fc = nn.Linear(hidden_layers[-1], output_size)\n",
        "        \n",
        "    def forward(self, input):\n",
        "        input = input.t()\n",
        "        embedded = self.embedding(input)\n",
        "\n",
        "        output, hiddens = self.rnn(embedded)\n",
        "\n",
        "        output = self.fc(output[-1])\n",
        "        return output"
      ],
      "execution_count": 0,
      "outputs": []
    },
    {
      "cell_type": "markdown",
      "metadata": {
        "colab_type": "text",
        "id": "lQT4Qq2WGexR"
      },
      "source": [
        "#### Training function"
      ]
    },
    {
      "cell_type": "code",
      "metadata": {
        "colab_type": "code",
        "id": "ZRmp2k9KGexW",
        "colab": {}
      },
      "source": [
        "def train():\n",
        "    total_loss = 0\n",
        "    \n",
        "    for i, (string, valid) in enumerate(train_loader, 1):\n",
        "        input, seq_lens, target = make_variables(string, valid)\n",
        "\n",
        "        output = classifier(input)\n",
        "        \n",
        "        loss = criterion(output, target)\n",
        "        total_loss += loss.data.item()\n",
        "        \n",
        "        classifier.zero_grad()\n",
        "        loss.backward()\n",
        "        optimizer.step()\n",
        "        \n",
        "        if i % 100 == 0:\n",
        "            print('{}/{}\\tLoss: {:.5f}'.format(i * len(string), len(train_loader.dataset), total_loss / i * len(string)))"
      ],
      "execution_count": 0,
      "outputs": []
    },
    {
      "cell_type": "markdown",
      "metadata": {
        "colab_type": "text",
        "id": "zsOtVzFNGexe"
      },
      "source": [
        "#### Testing function"
      ]
    },
    {
      "cell_type": "code",
      "metadata": {
        "colab_type": "code",
        "id": "ferW61amIjFP",
        "colab": {}
      },
      "source": [
        "test_acc = []"
      ],
      "execution_count": 0,
      "outputs": []
    },
    {
      "cell_type": "code",
      "metadata": {
        "colab_type": "code",
        "id": "EtDP_hJ0Gexh",
        "colab": {}
      },
      "source": [
        "def test():\n",
        "    correct = 0.\n",
        "    test_data_size = len(test_loader.dataset)\n",
        "    \n",
        "    for string, valid in test_loader:\n",
        "        input, seq_lens, target = make_variables(string, valid)\n",
        "\n",
        "        output = classifier(input)\n",
        "\n",
        "        pred = output.data.max(1, keepdim=True)[1]\n",
        "        correct += pred.eq(target.data.view_as(pred)).cpu().sum()\n",
        "\n",
        "    acc = 100 * correct / test_data_size\n",
        "    test_acc.append(acc)\n",
        "        \n",
        "    print('\\nAccuracy: {:.2f}%\\n'.format(acc))"
      ],
      "execution_count": 0,
      "outputs": []
    },
    {
      "cell_type": "markdown",
      "metadata": {
        "colab_type": "text",
        "id": "Yudx6wVtGex2"
      },
      "source": [
        "#### Time for action!"
      ]
    },
    {
      "cell_type": "markdown",
      "metadata": {
        "colab_type": "text",
        "id": "e3jvvliDejlg"
      },
      "source": [
        "#### Base RNN"
      ]
    },
    {
      "cell_type": "code",
      "metadata": {
        "colab_type": "code",
        "id": "4emJ3S77Gex7",
        "colab": {}
      },
      "source": [
        "classifier = RNNModel(INPUT_SIZE, 2, [100, 100, 100])"
      ],
      "execution_count": 0,
      "outputs": []
    },
    {
      "cell_type": "code",
      "metadata": {
        "colab_type": "code",
        "id": "zbzRelW2GeyD",
        "colab": {}
      },
      "source": [
        "optimizer = torch.optim.Adam(classifier.parameters(), lr=0.001)\n",
        "criterion = nn.CrossEntropyLoss()"
      ],
      "execution_count": 0,
      "outputs": []
    },
    {
      "cell_type": "code",
      "metadata": {
        "colab_type": "code",
        "id": "2az6-B2FGey3",
        "outputId": "2d5f92b7-0016-4554-b931-8dc5a1ee87ad",
        "colab": {
          "base_uri": "https://localhost:8080/",
          "height": 1000
        }
      },
      "source": [
        "%%time\n",
        "for epoch in range(1, EPOCHS+1):\n",
        "    print('Epoch #{}\\n{}'.format(epoch, 12*'-'))\n",
        "    train()\n",
        "    test()"
      ],
      "execution_count": 23,
      "outputs": [
        {
          "output_type": "stream",
          "text": [
            "Epoch #1\n",
            "------------\n",
            "1600/18750\tLoss: 7.00142\n",
            "3200/18750\tLoss: 6.74586\n",
            "4800/18750\tLoss: 7.43151\n",
            "6400/18750\tLoss: 8.24770\n",
            "8000/18750\tLoss: 8.46640\n",
            "9600/18750\tLoss: 8.22325\n",
            "11200/18750\tLoss: 8.01226\n",
            "12800/18750\tLoss: 7.89724\n",
            "14400/18750\tLoss: 7.87459\n",
            "16000/18750\tLoss: 7.60291\n",
            "17600/18750\tLoss: 7.78550\n",
            "\n",
            "Accuracy: 57.74%\n",
            "\n",
            "Epoch #2\n",
            "------------\n",
            "1600/18750\tLoss: 10.20909\n",
            "3200/18750\tLoss: 8.53184\n",
            "4800/18750\tLoss: 7.35276\n",
            "6400/18750\tLoss: 6.72714\n",
            "8000/18750\tLoss: 6.35689\n",
            "9600/18750\tLoss: 6.12576\n",
            "11200/18750\tLoss: 5.98646\n",
            "12800/18750\tLoss: 5.90620\n",
            "14400/18750\tLoss: 5.78676\n",
            "16000/18750\tLoss: 5.76708\n",
            "17600/18750\tLoss: 5.68095\n",
            "\n",
            "Accuracy: 77.68%\n",
            "\n",
            "Epoch #3\n",
            "------------\n",
            "1600/18750\tLoss: 6.04699\n",
            "3200/18750\tLoss: 6.75271\n",
            "4800/18750\tLoss: 6.86866\n",
            "6400/18750\tLoss: 7.09330\n",
            "8000/18750\tLoss: 6.93144\n",
            "9600/18750\tLoss: 6.92827\n",
            "11200/18750\tLoss: 6.86993\n",
            "12800/18750\tLoss: 6.76911\n",
            "14400/18750\tLoss: 6.64081\n",
            "16000/18750\tLoss: 6.52474\n",
            "17600/18750\tLoss: 6.44454\n",
            "\n",
            "Accuracy: 91.78%\n",
            "\n",
            "Epoch #4\n",
            "------------\n",
            "1600/18750\tLoss: 4.35979\n",
            "3200/18750\tLoss: 4.11123\n",
            "4800/18750\tLoss: 4.12736\n",
            "6400/18750\tLoss: 4.12062\n",
            "8000/18750\tLoss: 4.11036\n",
            "9600/18750\tLoss: 4.07168\n",
            "11200/18750\tLoss: 4.08344\n",
            "12800/18750\tLoss: 4.03781\n",
            "14400/18750\tLoss: 4.00359\n",
            "16000/18750\tLoss: 3.97548\n",
            "17600/18750\tLoss: 3.93866\n",
            "\n",
            "Accuracy: 93.22%\n",
            "\n",
            "Epoch #5\n",
            "------------\n",
            "1600/18750\tLoss: 3.92745\n",
            "3200/18750\tLoss: 3.62710\n",
            "4800/18750\tLoss: 3.51735\n",
            "6400/18750\tLoss: 3.58454\n",
            "8000/18750\tLoss: 3.61993\n",
            "9600/18750\tLoss: 3.62110\n",
            "11200/18750\tLoss: 3.55502\n",
            "12800/18750\tLoss: 3.49702\n",
            "14400/18750\tLoss: 3.47616\n",
            "16000/18750\tLoss: 3.52744\n",
            "17600/18750\tLoss: 3.80177\n",
            "\n",
            "Accuracy: 82.35%\n",
            "\n",
            "Epoch #6\n",
            "------------\n",
            "1600/18750\tLoss: 6.28121\n",
            "3200/18750\tLoss: 6.28193\n",
            "4800/18750\tLoss: 6.31248\n",
            "6400/18750\tLoss: 6.30396\n",
            "8000/18750\tLoss: 6.37423\n",
            "9600/18750\tLoss: 6.35492\n",
            "11200/18750\tLoss: 6.39499\n",
            "12800/18750\tLoss: 6.42800\n",
            "14400/18750\tLoss: 6.51233\n",
            "16000/18750\tLoss: 6.59699\n",
            "17600/18750\tLoss: 6.67569\n",
            "\n",
            "Accuracy: 81.14%\n",
            "\n",
            "Epoch #7\n",
            "------------\n",
            "1600/18750\tLoss: 7.10657\n",
            "3200/18750\tLoss: 7.26912\n",
            "4800/18750\tLoss: 6.84588\n",
            "6400/18750\tLoss: 6.60892\n",
            "8000/18750\tLoss: 6.28170\n",
            "9600/18750\tLoss: 6.17603\n",
            "11200/18750\tLoss: 6.05650\n",
            "12800/18750\tLoss: 5.94360\n",
            "14400/18750\tLoss: 5.84509\n",
            "16000/18750\tLoss: 5.75273\n",
            "17600/18750\tLoss: 5.72754\n",
            "\n",
            "Accuracy: 89.18%\n",
            "\n",
            "Epoch #8\n",
            "------------\n",
            "1600/18750\tLoss: 4.95165\n",
            "3200/18750\tLoss: 5.02689\n",
            "4800/18750\tLoss: 5.14056\n",
            "6400/18750\tLoss: 5.30905\n",
            "8000/18750\tLoss: 5.38345\n",
            "9600/18750\tLoss: 5.37800\n",
            "11200/18750\tLoss: 5.39318\n",
            "12800/18750\tLoss: 5.34965\n",
            "14400/18750\tLoss: 5.37345\n",
            "16000/18750\tLoss: 5.46165\n",
            "17600/18750\tLoss: 5.44133\n",
            "\n",
            "Accuracy: 87.97%\n",
            "\n",
            "Epoch #9\n",
            "------------\n",
            "1600/18750\tLoss: 4.40041\n",
            "3200/18750\tLoss: 5.32034\n",
            "4800/18750\tLoss: 5.52114\n",
            "6400/18750\tLoss: 5.63812\n",
            "8000/18750\tLoss: 5.66626\n",
            "9600/18750\tLoss: 5.62532\n",
            "11200/18750\tLoss: 5.63061\n",
            "12800/18750\tLoss: 5.62387\n",
            "14400/18750\tLoss: 5.59937\n",
            "16000/18750\tLoss: 5.57842\n",
            "17600/18750\tLoss: 5.60798\n",
            "\n",
            "Accuracy: 85.84%\n",
            "\n",
            "Epoch #10\n",
            "------------\n",
            "1600/18750\tLoss: 5.64779\n",
            "3200/18750\tLoss: 5.85150\n",
            "4800/18750\tLoss: 5.82650\n",
            "6400/18750\tLoss: 5.85293\n",
            "8000/18750\tLoss: 5.76935\n",
            "9600/18750\tLoss: 5.78352\n",
            "11200/18750\tLoss: 5.77650\n",
            "12800/18750\tLoss: 5.78324\n",
            "14400/18750\tLoss: 5.77467\n",
            "16000/18750\tLoss: 5.77201\n",
            "17600/18750\tLoss: 5.72722\n",
            "\n",
            "Accuracy: 85.84%\n",
            "\n",
            "Epoch #11\n",
            "------------\n",
            "1600/18750\tLoss: 5.55126\n",
            "3200/18750\tLoss: 5.41282\n",
            "4800/18750\tLoss: 5.51770\n",
            "6400/18750\tLoss: 5.51286\n",
            "8000/18750\tLoss: 5.58196\n",
            "9600/18750\tLoss: 5.58166\n",
            "11200/18750\tLoss: 5.64398\n",
            "12800/18750\tLoss: 5.68265\n",
            "14400/18750\tLoss: 5.67312\n",
            "16000/18750\tLoss: 5.65095\n",
            "17600/18750\tLoss: 5.67397\n",
            "\n",
            "Accuracy: 85.86%\n",
            "\n",
            "Epoch #12\n",
            "------------\n",
            "1600/18750\tLoss: 5.48294\n",
            "3200/18750\tLoss: 5.55782\n",
            "4800/18750\tLoss: 5.72105\n",
            "6400/18750\tLoss: 5.63666\n",
            "8000/18750\tLoss: 5.90772\n",
            "9600/18750\tLoss: 5.72406\n",
            "11200/18750\tLoss: 5.56017\n",
            "12800/18750\tLoss: 5.43472\n",
            "14400/18750\tLoss: 5.30292\n",
            "16000/18750\tLoss: 5.21849\n",
            "17600/18750\tLoss: 5.12767\n",
            "\n",
            "Accuracy: 90.64%\n",
            "\n",
            "Epoch #13\n",
            "------------\n",
            "1600/18750\tLoss: 4.81699\n",
            "3200/18750\tLoss: 5.51146\n",
            "4800/18750\tLoss: 5.67503\n",
            "6400/18750\tLoss: 5.65219\n",
            "8000/18750\tLoss: 5.59807\n",
            "9600/18750\tLoss: 5.59269\n",
            "11200/18750\tLoss: 5.57236\n",
            "12800/18750\tLoss: 5.64325\n",
            "14400/18750\tLoss: 5.66494\n",
            "16000/18750\tLoss: 5.66537\n",
            "17600/18750\tLoss: 5.71024\n",
            "\n",
            "Accuracy: 85.57%\n",
            "\n",
            "Epoch #14\n",
            "------------\n",
            "1600/18750\tLoss: 5.70334\n",
            "3200/18750\tLoss: 5.66370\n",
            "4800/18750\tLoss: 5.69152\n",
            "6400/18750\tLoss: 5.58940\n",
            "8000/18750\tLoss: 5.59632\n",
            "9600/18750\tLoss: 5.66000\n",
            "11200/18750\tLoss: 5.59789\n",
            "12800/18750\tLoss: 5.48709\n",
            "14400/18750\tLoss: 5.35024\n",
            "16000/18750\tLoss: 5.23394\n",
            "17600/18750\tLoss: 5.16837\n",
            "\n",
            "Accuracy: 91.15%\n",
            "\n",
            "Epoch #15\n",
            "------------\n",
            "1600/18750\tLoss: 4.56978\n",
            "3200/18750\tLoss: 4.31187\n",
            "4800/18750\tLoss: 4.30533\n",
            "6400/18750\tLoss: 4.28044\n",
            "8000/18750\tLoss: 4.24520\n",
            "9600/18750\tLoss: 4.30554\n",
            "11200/18750\tLoss: 4.30359\n",
            "12800/18750\tLoss: 4.29692\n",
            "14400/18750\tLoss: 4.26524\n",
            "16000/18750\tLoss: 4.26042\n",
            "17600/18750\tLoss: 4.26751\n",
            "\n",
            "Accuracy: 91.38%\n",
            "\n",
            "Epoch #16\n",
            "------------\n",
            "1600/18750\tLoss: 4.24549\n",
            "3200/18750\tLoss: 4.20736\n",
            "4800/18750\tLoss: 4.04309\n",
            "6400/18750\tLoss: 4.08698\n",
            "8000/18750\tLoss: 4.04216\n",
            "9600/18750\tLoss: 4.12082\n",
            "11200/18750\tLoss: 4.11905\n",
            "12800/18750\tLoss: 4.15451\n",
            "14400/18750\tLoss: 4.12132\n",
            "16000/18750\tLoss: 4.13293\n",
            "17600/18750\tLoss: 4.14357\n",
            "\n",
            "Accuracy: 91.38%\n",
            "\n",
            "Epoch #17\n",
            "------------\n",
            "1600/18750\tLoss: 4.34229\n",
            "3200/18750\tLoss: 4.34956\n",
            "4800/18750\tLoss: 4.25945\n",
            "6400/18750\tLoss: 4.32836\n",
            "8000/18750\tLoss: 4.30949\n",
            "9600/18750\tLoss: 4.28994\n",
            "11200/18750\tLoss: 4.25486\n",
            "12800/18750\tLoss: 4.20001\n",
            "14400/18750\tLoss: 4.18590\n",
            "16000/18750\tLoss: 4.18760\n",
            "17600/18750\tLoss: 4.18734\n",
            "\n",
            "Accuracy: 91.36%\n",
            "\n",
            "Epoch #18\n",
            "------------\n",
            "1600/18750\tLoss: 4.60026\n",
            "3200/18750\tLoss: 4.62951\n",
            "4800/18750\tLoss: 4.58941\n",
            "6400/18750\tLoss: 4.54766\n",
            "8000/18750\tLoss: 4.52206\n",
            "9600/18750\tLoss: 4.69916\n",
            "11200/18750\tLoss: 4.89222\n",
            "12800/18750\tLoss: 5.01672\n",
            "14400/18750\tLoss: 5.12265\n",
            "16000/18750\tLoss: 5.18180\n",
            "17600/18750\tLoss: 5.26901\n",
            "\n",
            "Accuracy: 85.26%\n",
            "\n",
            "Epoch #19\n",
            "------------\n",
            "1600/18750\tLoss: 5.73010\n",
            "3200/18750\tLoss: 5.99431\n",
            "4800/18750\tLoss: 5.88118\n",
            "6400/18750\tLoss: 5.83889\n",
            "8000/18750\tLoss: 5.95220\n",
            "9600/18750\tLoss: 5.86206\n",
            "11200/18750\tLoss: 5.93168\n",
            "12800/18750\tLoss: 5.91747\n",
            "14400/18750\tLoss: 5.90019\n",
            "16000/18750\tLoss: 5.93096\n",
            "17600/18750\tLoss: 5.94610\n",
            "\n",
            "Accuracy: 85.09%\n",
            "\n",
            "Epoch #20\n",
            "------------\n",
            "1600/18750\tLoss: 5.53467\n",
            "3200/18750\tLoss: 5.81453\n",
            "4800/18750\tLoss: 5.80524\n",
            "6400/18750\tLoss: 6.00680\n",
            "8000/18750\tLoss: 6.02936\n",
            "9600/18750\tLoss: 6.06262\n",
            "11200/18750\tLoss: 6.03860\n",
            "12800/18750\tLoss: 6.01220\n",
            "14400/18750\tLoss: 6.02094\n",
            "16000/18750\tLoss: 5.99288\n",
            "17600/18750\tLoss: 5.97747\n",
            "\n",
            "Accuracy: 85.46%\n",
            "\n",
            "Epoch #21\n",
            "------------\n",
            "1600/18750\tLoss: 6.03214\n",
            "3200/18750\tLoss: 5.87153\n",
            "4800/18750\tLoss: 5.85146\n",
            "6400/18750\tLoss: 5.89322\n",
            "8000/18750\tLoss: 5.89229\n",
            "9600/18750\tLoss: 5.94350\n",
            "11200/18750\tLoss: 5.95614\n",
            "12800/18750\tLoss: 5.95042\n",
            "14400/18750\tLoss: 5.94180\n",
            "16000/18750\tLoss: 5.93730\n",
            "17600/18750\tLoss: 5.91400\n",
            "\n",
            "Accuracy: 85.49%\n",
            "\n",
            "Epoch #22\n",
            "------------\n",
            "1600/18750\tLoss: 5.48851\n",
            "3200/18750\tLoss: 5.77727\n",
            "4800/18750\tLoss: 5.79069\n",
            "6400/18750\tLoss: 5.85176\n",
            "8000/18750\tLoss: 5.91167\n",
            "9600/18750\tLoss: 5.90921\n",
            "11200/18750\tLoss: 5.83690\n",
            "12800/18750\tLoss: 5.89055\n",
            "14400/18750\tLoss: 5.86038\n",
            "16000/18750\tLoss: 5.83752\n",
            "17600/18750\tLoss: 5.85216\n",
            "\n",
            "Accuracy: 85.49%\n",
            "\n",
            "Epoch #23\n",
            "------------\n",
            "1600/18750\tLoss: 5.71174\n",
            "3200/18750\tLoss: 5.82365\n",
            "4800/18750\tLoss: 5.84098\n",
            "6400/18750\tLoss: 5.85969\n",
            "8000/18750\tLoss: 5.87399\n",
            "9600/18750\tLoss: 5.86514\n",
            "11200/18750\tLoss: 5.86449\n",
            "12800/18750\tLoss: 5.86955\n",
            "14400/18750\tLoss: 5.86040\n",
            "16000/18750\tLoss: 5.84939\n",
            "17600/18750\tLoss: 5.87485\n",
            "\n",
            "Accuracy: 85.49%\n",
            "\n",
            "Epoch #24\n",
            "------------\n",
            "1600/18750\tLoss: 5.78307\n",
            "3200/18750\tLoss: 5.93429\n",
            "4800/18750\tLoss: 5.96208\n",
            "6400/18750\tLoss: 5.94382\n",
            "8000/18750\tLoss: 5.90598\n",
            "9600/18750\tLoss: 5.90889\n",
            "11200/18750\tLoss: 5.86875\n",
            "12800/18750\tLoss: 5.86482\n",
            "14400/18750\tLoss: 5.87836\n",
            "16000/18750\tLoss: 5.88045\n",
            "17600/18750\tLoss: 5.89228\n",
            "\n",
            "Accuracy: 85.49%\n",
            "\n",
            "Epoch #25\n",
            "------------\n",
            "1600/18750\tLoss: 5.86754\n",
            "3200/18750\tLoss: 6.00040\n",
            "4800/18750\tLoss: 6.02063\n",
            "6400/18750\tLoss: 5.86523\n",
            "8000/18750\tLoss: 5.77732\n",
            "9600/18750\tLoss: 5.70103\n",
            "11200/18750\tLoss: 5.71640\n",
            "12800/18750\tLoss: 5.70791\n",
            "14400/18750\tLoss: 5.57933\n",
            "16000/18750\tLoss: 5.36772\n",
            "17600/18750\tLoss: 5.24009\n",
            "\n",
            "Accuracy: 92.16%\n",
            "\n",
            "Epoch #26\n",
            "------------\n",
            "1600/18750\tLoss: 3.82690\n",
            "3200/18750\tLoss: 3.99514\n",
            "4800/18750\tLoss: 3.96165\n",
            "6400/18750\tLoss: 3.98935\n",
            "8000/18750\tLoss: 4.05586\n",
            "9600/18750\tLoss: 4.02485\n",
            "11200/18750\tLoss: 4.06844\n",
            "12800/18750\tLoss: 3.99777\n",
            "14400/18750\tLoss: 4.00395\n",
            "16000/18750\tLoss: 4.01150\n",
            "17600/18750\tLoss: 3.99886\n",
            "\n",
            "Accuracy: 92.16%\n",
            "\n",
            "Epoch #27\n",
            "------------\n",
            "1600/18750\tLoss: 4.01869\n",
            "3200/18750\tLoss: 3.96236\n",
            "4800/18750\tLoss: 4.08870\n",
            "6400/18750\tLoss: 3.99355\n",
            "8000/18750\tLoss: 3.98163\n",
            "9600/18750\tLoss: 3.99943\n",
            "11200/18750\tLoss: 3.97844\n",
            "12800/18750\tLoss: 4.02079\n",
            "14400/18750\tLoss: 4.05805\n",
            "16000/18750\tLoss: 4.02973\n",
            "17600/18750\tLoss: 4.05494\n",
            "\n",
            "Accuracy: 92.16%\n",
            "\n",
            "Epoch #28\n",
            "------------\n",
            "1600/18750\tLoss: 4.04186\n",
            "3200/18750\tLoss: 3.97513\n",
            "4800/18750\tLoss: 4.04920\n",
            "6400/18750\tLoss: 4.03636\n",
            "8000/18750\tLoss: 4.07887\n",
            "9600/18750\tLoss: 4.06780\n",
            "11200/18750\tLoss: 3.98677\n",
            "12800/18750\tLoss: 4.01994\n",
            "14400/18750\tLoss: 4.05006\n",
            "16000/18750\tLoss: 4.08691\n",
            "17600/18750\tLoss: 4.10139\n",
            "\n",
            "Accuracy: 90.88%\n",
            "\n",
            "Epoch #29\n",
            "------------\n",
            "1600/18750\tLoss: 4.50918\n",
            "3200/18750\tLoss: 4.40048\n",
            "4800/18750\tLoss: 4.44193\n",
            "6400/18750\tLoss: 4.49596\n",
            "8000/18750\tLoss: 4.42781\n",
            "9600/18750\tLoss: 4.51707\n",
            "11200/18750\tLoss: 4.47208\n",
            "12800/18750\tLoss: 4.46600\n",
            "14400/18750\tLoss: 4.42822\n",
            "16000/18750\tLoss: 4.39522\n",
            "17600/18750\tLoss: 4.39421\n",
            "\n",
            "Accuracy: 90.88%\n",
            "\n",
            "Epoch #30\n",
            "------------\n",
            "1600/18750\tLoss: 4.20984\n",
            "3200/18750\tLoss: 4.40280\n",
            "4800/18750\tLoss: 4.26845\n",
            "6400/18750\tLoss: 4.27764\n",
            "8000/18750\tLoss: 4.33188\n",
            "9600/18750\tLoss: 4.38920\n",
            "11200/18750\tLoss: 4.43493\n",
            "12800/18750\tLoss: 4.42807\n",
            "14400/18750\tLoss: 4.41420\n",
            "16000/18750\tLoss: 4.45879\n",
            "17600/18750\tLoss: 4.44686\n",
            "\n",
            "Accuracy: 91.15%\n",
            "\n",
            "CPU times: user 22min 54s, sys: 14.3 s, total: 23min 8s\n",
            "Wall time: 23min 15s\n"
          ],
          "name": "stdout"
        }
      ]
    },
    {
      "cell_type": "code",
      "metadata": {
        "id": "hBcNe-rQVAHg",
        "colab_type": "code",
        "colab": {
          "base_uri": "https://localhost:8080/",
          "height": 350
        },
        "outputId": "0758215e-511d-4245-9bd1-eb0cd1f29de7"
      },
      "source": [
        "plt.figure(figsize=(8, 5))\n",
        "plt.title('{} Test Evaluation'.format(MODEL.upper()))\n",
        "plt.xlabel('Epochs')\n",
        "plt.ylabel('Accuracy %')\n",
        "plt.savefig('{}_accuracies.png'.format(MODEL.upper()))\n",
        "plt.plot(range(1, len(test_acc)+1), test_acc);"
      ],
      "execution_count": 24,
      "outputs": [
        {
          "output_type": "display_data",
          "data": {
            "image/png": "[encoded data removed]",
            "text/plain": [
              "<Figure size 576x360 with 1 Axes>"
            ]
          },
          "metadata": {
            "tags": []
          }
        }
      ]
    },
    {
      "cell_type": "markdown",
      "metadata": {
        "id": "zdFairpCRiWk",
        "colab_type": "text"
      },
      "source": [
        "#### Save model and `state_dict` of model"
      ]
    },
    {
      "cell_type": "code",
      "metadata": {
        "id": "WwmhF6IQWQVH",
        "colab_type": "code",
        "colab": {}
      },
      "source": [
        "with open('{}_accuracies.txt'.format(MODEL.upper()), 'a') as f:\n",
        "    f.write('{}'.format(MODEL.upper()) + ':' + ','.join(str(a.item()) for a in test_acc) + '\\n')"
      ],
      "execution_count": 0,
      "outputs": []
    },
    {
      "cell_type": "code",
      "metadata": {
        "id": "J9lyRNkjRo66",
        "colab_type": "code",
        "colab": {}
      },
      "source": [
        "torch.save(classifier.state_dict(), './{}_state_dict.pt'.format(MODEL.upper()))"
      ],
      "execution_count": 0,
      "outputs": []
    },
    {
      "cell_type": "code",
      "metadata": {
        "id": "jEu0CimySHip",
        "colab_type": "code",
        "colab": {
          "base_uri": "https://localhost:8080/",
          "height": 221
        },
        "outputId": "01b9bc68-0762-4f31-9ac2-8458c9c63de3"
      },
      "source": [
        "torch.save(classifier, './{}.pt'.format(MODEL.upper()))"
      ],
      "execution_count": 27,
      "outputs": [
        {
          "output_type": "stream",
          "text": [
            "/usr/local/lib/python3.6/dist-packages/torch/serialization.py:292: UserWarning: Couldn't retrieve source code for container of type RNNModel. It won't be checked for correctness upon loading.\n",
            "  \"type \" + obj.__name__ + \". It won't be checked \"\n",
            "/usr/local/lib/python3.6/dist-packages/torch/serialization.py:292: UserWarning: Couldn't retrieve source code for container of type Embedding. It won't be checked for correctness upon loading.\n",
            "  \"type \" + obj.__name__ + \". It won't be checked \"\n",
            "/usr/local/lib/python3.6/dist-packages/torch/serialization.py:292: UserWarning: Couldn't retrieve source code for container of type DeepRNN. It won't be checked for correctness upon loading.\n",
            "  \"type \" + obj.__name__ + \". It won't be checked \"\n",
            "/usr/local/lib/python3.6/dist-packages/torch/serialization.py:292: UserWarning: Couldn't retrieve source code for container of type RNNCell. It won't be checked for correctness upon loading.\n",
            "  \"type \" + obj.__name__ + \". It won't be checked \"\n",
            "/usr/local/lib/python3.6/dist-packages/torch/serialization.py:292: UserWarning: Couldn't retrieve source code for container of type ModuleList. It won't be checked for correctness upon loading.\n",
            "  \"type \" + obj.__name__ + \". It won't be checked \"\n",
            "/usr/local/lib/python3.6/dist-packages/torch/serialization.py:292: UserWarning: Couldn't retrieve source code for container of type Linear. It won't be checked for correctness upon loading.\n",
            "  \"type \" + obj.__name__ + \". It won't be checked \"\n"
          ],
          "name": "stderr"
        }
      ]
    }
  ]
}