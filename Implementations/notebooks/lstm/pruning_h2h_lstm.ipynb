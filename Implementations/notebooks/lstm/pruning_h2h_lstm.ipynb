{
  "nbformat": 4,
  "nbformat_minor": 0,
  "metadata": {
    "accelerator": "GPU",
    "colab": {
      "name": "pruning_h2h_lstm.ipynb",
      "provenance": [],
      "collapsed_sections": [],
      "toc_visible": true
    },
    "kernelspec": {
      "display_name": "Python 3",
      "language": "python",
      "name": "python3"
    },
    "language_info": {
      "codemirror_mode": {
        "name": "ipython",
        "version": 3
      },
      "file_extension": ".py",
      "mimetype": "text/x-python",
      "name": "python",
      "nbconvert_exporter": "python",
      "pygments_lexer": "ipython3",
      "version": "3.6.9"
    }
  },
  "cells": [
    {
      "cell_type": "code",
      "metadata": {
        "id": "YTdml_ZZO04W",
        "colab_type": "code",
        "colab": {}
      },
      "source": [
        "import sys\n",
        "sys.path.append('../')"
      ],
      "execution_count": 0,
      "outputs": []
    },
    {
      "cell_type": "code",
      "metadata": {
        "colab_type": "code",
        "id": "jnlVHBXYGevQ",
        "colab": {}
      },
      "source": [
        "import torch\n",
        "import torch.nn as nn\n",
        "from torch.autograd import Variable\n",
        "from torch.utils.data import Dataset, DataLoader\n",
        "from torch.nn.utils.rnn import pack_padded_sequence, pad_packed_sequence\n",
        "\n",
        "from MaskedRNN import MaskedDeepLSTM\n",
        "\n",
        "import pandas as pd\n",
        "import matplotlib.pyplot as plt\n",
        "import seaborn as sns"
      ],
      "execution_count": 0,
      "outputs": []
    },
    {
      "cell_type": "code",
      "metadata": {
        "id": "SnJ89dAtiljA",
        "colab_type": "code",
        "colab": {}
      },
      "source": [
        "plt.rcParams.update({'font.size': 12})\n",
        "sns.set_style('darkgrid')"
      ],
      "execution_count": 0,
      "outputs": []
    },
    {
      "cell_type": "code",
      "metadata": {
        "id": "0ZDPVjuQxtey",
        "colab_type": "code",
        "colab": {}
      },
      "source": [
        "device = torch.device('cuda:0' if torch.cuda.is_available() else 'cpu') "
      ],
      "execution_count": 0,
      "outputs": []
    },
    {
      "cell_type": "markdown",
      "metadata": {
        "colab_type": "text",
        "id": "OQRUiZIIGevb"
      },
      "source": [
        "#### Import, shuffle and split dataset"
      ]
    },
    {
      "cell_type": "code",
      "metadata": {
        "colab_type": "code",
        "id": "Hc-jfPQDGevd",
        "colab": {}
      },
      "source": [
        "data = pd.read_csv('reber_sequences.csv')"
      ],
      "execution_count": 0,
      "outputs": []
    },
    {
      "cell_type": "code",
      "metadata": {
        "colab_type": "code",
        "id": "VZt1tuMDGevl",
        "colab": {}
      },
      "source": [
        "data = data.sample(frac=1).reset_index(drop=True)"
      ],
      "execution_count": 0,
      "outputs": []
    },
    {
      "cell_type": "code",
      "metadata": {
        "colab_type": "code",
        "id": "9FVvyiR2Gevt",
        "colab": {}
      },
      "source": [
        "train_data = data[:int(.75*len(data))]\n",
        "test_data = data[len(train_data):]"
      ],
      "execution_count": 0,
      "outputs": []
    },
    {
      "cell_type": "code",
      "metadata": {
        "colab_type": "code",
        "id": "hFGa03AvGevx",
        "outputId": "9663b2eb-bb2b-4e9e-d838-5c7aa5e3cd6d",
        "colab": {
          "base_uri": "https://localhost:8080/",
          "height": 68
        }
      },
      "source": [
        "print('Total length: {}\\nTrain data length: {}\\nTest data length: {}'.format(len(data), len(train_data), len(test_data)))"
      ],
      "execution_count": 8,
      "outputs": [
        {
          "output_type": "stream",
          "text": [
            "Total length: 25000\n",
            "Train data length: 18750\n",
            "Test data length: 6250\n"
          ],
          "name": "stdout"
        }
      ]
    },
    {
      "cell_type": "markdown",
      "metadata": {
        "colab_type": "text",
        "id": "uCoah1gRGev6"
      },
      "source": [
        "#### Parameters"
      ]
    },
    {
      "cell_type": "code",
      "metadata": {
        "id": "CKtaST_DiqQR",
        "colab_type": "code",
        "colab": {}
      },
      "source": [
        "MODEL = 'lstm'"
      ],
      "execution_count": 0,
      "outputs": []
    },
    {
      "cell_type": "code",
      "metadata": {
        "colab_type": "code",
        "id": "6wDwJmInGev8",
        "colab": {}
      },
      "source": [
        "BATCH_SIZE = 16\n",
        "\n",
        "INPUT_SIZE = 128\n",
        "EMBEDDING_DIM = 100\n",
        "OUTPUT_SIZE = 2\n",
        "\n",
        "EPOCHS = 30\n",
        "HIDDEN_LAYERS = [50, 50, 50]"
      ],
      "execution_count": 0,
      "outputs": []
    },
    {
      "cell_type": "markdown",
      "metadata": {
        "colab_type": "text",
        "id": "mETf9K_7GewC"
      },
      "source": [
        "#### Customize `Dataset`"
      ]
    },
    {
      "cell_type": "code",
      "metadata": {
        "colab_type": "code",
        "id": "tvZNBTBqGewD",
        "colab": {}
      },
      "source": [
        "class MakeDataset(Dataset):\n",
        "    def __init__(self, data):\n",
        "        self.strings = list(data['string'])\n",
        "        self.valid = list(data['valid'])\n",
        "        self.len = len(self.valid)\n",
        "        self.valid_list = [0, 1]\n",
        "\n",
        "    def __getitem__(self, index):\n",
        "        return self.strings[index], self.valid[index]\n",
        "\n",
        "    def __len__(self):\n",
        "        return self.len"
      ],
      "execution_count": 0,
      "outputs": []
    },
    {
      "cell_type": "markdown",
      "metadata": {
        "colab_type": "text",
        "id": "qtRtnbUPGewI"
      },
      "source": [
        "#### Train/Test Loader"
      ]
    },
    {
      "cell_type": "code",
      "metadata": {
        "colab_type": "code",
        "id": "qIkc37iDGewJ",
        "colab": {}
      },
      "source": [
        "dataset = MakeDataset(train_data)\n",
        "train_loader = DataLoader(dataset=dataset, batch_size=BATCH_SIZE, shuffle=True)"
      ],
      "execution_count": 0,
      "outputs": []
    },
    {
      "cell_type": "code",
      "metadata": {
        "colab_type": "code",
        "id": "8me9-GUdGewP",
        "colab": {}
      },
      "source": [
        "dataset = MakeDataset(test_data)\n",
        "test_loader = DataLoader(dataset=dataset, batch_size=BATCH_SIZE, shuffle=True)"
      ],
      "execution_count": 0,
      "outputs": []
    },
    {
      "cell_type": "markdown",
      "metadata": {
        "colab_type": "text",
        "id": "HiAzJtMSGewW"
      },
      "source": [
        "#### Helper functions"
      ]
    },
    {
      "cell_type": "code",
      "metadata": {
        "colab_type": "code",
        "id": "VX5oPdsWGewX",
        "colab": {}
      },
      "source": [
        "def create_variable(tensor):\n",
        "    return Variable(tensor.to(device))"
      ],
      "execution_count": 0,
      "outputs": []
    },
    {
      "cell_type": "code",
      "metadata": {
        "colab_type": "code",
        "id": "rCKTIEbbGewh",
        "colab": {}
      },
      "source": [
        "def pad_seq(vect_seqs, seq_lens, valid):\n",
        "    seq_tensor = torch.zeros((len(vect_seqs), seq_lens.max())).long()\n",
        "    \n",
        "    for index, (seq, seq_len) in enumerate(zip(vect_seqs, seq_lens)):\n",
        "        seq_tensor[index, :seq_len] = torch.LongTensor(seq)\n",
        "        \n",
        "    return create_variable(seq_tensor), create_variable(seq_lens), create_variable(valid)"
      ],
      "execution_count": 0,
      "outputs": []
    },
    {
      "cell_type": "code",
      "metadata": {
        "colab_type": "code",
        "id": "BOeyEku_Gewn",
        "colab": {}
      },
      "source": [
        "def str2ascii(string):\n",
        "    ascii_arr = [ord(s) for s in string]\n",
        "    return ascii_arr, len(ascii_arr)"
      ],
      "execution_count": 0,
      "outputs": []
    },
    {
      "cell_type": "code",
      "metadata": {
        "colab_type": "code",
        "id": "g5HS0oTzGewq",
        "colab": {}
      },
      "source": [
        "def make_variables(strings, valid):\n",
        "    seqs_and_lens = [str2ascii(string)for string in strings]\n",
        "    vect_seqs = [s[0] for s in seqs_and_lens]\n",
        "    seq_lens = torch.LongTensor([s[1] for s in seqs_and_lens])\n",
        "    valid = torch.LongTensor(valid)\n",
        "    return pad_seq(vect_seqs, seq_lens, valid)"
      ],
      "execution_count": 0,
      "outputs": []
    },
    {
      "cell_type": "markdown",
      "metadata": {
        "id": "3Lr3KHufagGQ",
        "colab_type": "text"
      },
      "source": [
        "#### Model"
      ]
    },
    {
      "cell_type": "code",
      "metadata": {
        "id": "ZIhsCJgk7Em7",
        "colab_type": "code",
        "colab": {}
      },
      "source": [
        "class Model(nn.Module):\n",
        "    def __init__(self, input_size, output_size, hidden_layers: list):\n",
        "        super(Model, self).__init__()\n",
        "\n",
        "        self.embedding = nn.Embedding(num_embeddings=input_size, embedding_dim=hidden_layers[0]).to(device)\n",
        "        self.recurrent = MaskedDeepLSTM(hidden_layers[0], hidden_layers).to(device)\n",
        "        self.fc = nn.Linear(hidden_layers[-1], output_size).to(device)\n",
        "        \n",
        "    def forward(self, input):\n",
        "        input = input.t()\n",
        "        embedded = self.embedding(input)\n",
        "        output = self.recurrent(embedded)\n",
        "        return self.fc(output)"
      ],
      "execution_count": 0,
      "outputs": []
    },
    {
      "cell_type": "markdown",
      "metadata": {
        "colab_type": "text",
        "id": "lQT4Qq2WGexR"
      },
      "source": [
        "#### Train & Test"
      ]
    },
    {
      "cell_type": "code",
      "metadata": {
        "colab_type": "code",
        "id": "ZRmp2k9KGexW",
        "colab": {}
      },
      "source": [
        "def train():\n",
        "    total_loss = 0\n",
        "    \n",
        "    for i, (string, valid) in enumerate(train_loader, 1):\n",
        "        input, seq_lens, target = make_variables(string, valid)\n",
        "\n",
        "        output = model(input)\n",
        "        \n",
        "        loss = criterion(output, target)\n",
        "        total_loss += loss.data.item()\n",
        "        \n",
        "        model.zero_grad()\n",
        "        loss.backward()\n",
        "        optimizer.step()"
      ],
      "execution_count": 0,
      "outputs": []
    },
    {
      "cell_type": "code",
      "metadata": {
        "colab_type": "code",
        "id": "EtDP_hJ0Gexh",
        "colab": {}
      },
      "source": [
        "def test():\n",
        "    correct = 0.\n",
        "    test_data_size = len(test_loader.dataset)\n",
        "    \n",
        "    for string, valid in test_loader:\n",
        "        input, seq_lens, target = make_variables(string, valid)\n",
        "\n",
        "        output = model(input)\n",
        "\n",
        "        pred = output.data.max(1, keepdim=True)[1]\n",
        "        correct += pred.eq(target.data.view_as(pred)).cpu().sum()\n",
        "\n",
        "    acc = 100 * correct / test_data_size\n",
        "    return acc"
      ],
      "execution_count": 0,
      "outputs": []
    },
    {
      "cell_type": "markdown",
      "metadata": {
        "id": "KnOT6vDo66zO",
        "colab_type": "text"
      },
      "source": [
        "#### Pruning"
      ]
    },
    {
      "cell_type": "code",
      "metadata": {
        "colab_type": "code",
        "id": "2az6-B2FGey3",
        "colab": {}
      },
      "source": [
        "pruned_perc = [10, 20, 30, 40, 50, 60, 70, 80, 90, 100]\n",
        "pruned_acc = []"
      ],
      "execution_count": 0,
      "outputs": []
    },
    {
      "cell_type": "code",
      "metadata": {
        "id": "i4l-h6dJrfIe",
        "colab_type": "code",
        "colab": {}
      },
      "source": [
        "model = Model(INPUT_SIZE, OUTPUT_SIZE, HIDDEN_LAYERS)"
      ],
      "execution_count": 0,
      "outputs": []
    },
    {
      "cell_type": "code",
      "metadata": {
        "id": "TNkPn2Jb7Ftx",
        "colab_type": "code",
        "outputId": "093bfa4c-58e5-4ed4-af57-63d0d2a098aa",
        "colab": {
          "base_uri": "https://localhost:8080/",
          "height": 34
        }
      },
      "source": [
        "param_dict = torch.load('lstm-dict.pt')\n",
        "model.load_state_dict(param_dict)"
      ],
      "execution_count": 23,
      "outputs": [
        {
          "output_type": "execute_result",
          "data": {
            "text/plain": [
              "<All keys matched successfully>"
            ]
          },
          "metadata": {
            "tags": []
          },
          "execution_count": 23
        }
      ]
    },
    {
      "cell_type": "code",
      "metadata": {
        "id": "CD1AtIGn7GZD",
        "colab_type": "code",
        "outputId": "907ae5f3-b19d-4197-a81d-7c598eb068dc",
        "colab": {
          "base_uri": "https://localhost:8080/",
          "height": 527
        }
      },
      "source": [
        "for perc in pruned_perc:\n",
        "    print('Pruned {}%'.format(perc))\n",
        "    model.recurrent.set_h2h_mask(perc)\n",
        "    acc = test()\n",
        "    print('Accuracy: {:.2f}%\\n'.format(acc))\n",
        "    pruned_acc.append(acc)"
      ],
      "execution_count": 24,
      "outputs": [
        {
          "output_type": "stream",
          "text": [
            "Pruned 10%\n",
            "Accuracy: 100.00%\n",
            "\n",
            "Pruned 20%\n",
            "Accuracy: 100.00%\n",
            "\n",
            "Pruned 30%\n",
            "Accuracy: 100.00%\n",
            "\n",
            "Pruned 40%\n",
            "Accuracy: 100.00%\n",
            "\n",
            "Pruned 50%\n",
            "Accuracy: 100.00%\n",
            "\n",
            "Pruned 60%\n",
            "Accuracy: 100.00%\n",
            "\n",
            "Pruned 70%\n",
            "Accuracy: 100.00%\n",
            "\n",
            "Pruned 80%\n",
            "Accuracy: 99.90%\n",
            "\n",
            "Pruned 90%\n",
            "Accuracy: 98.91%\n",
            "\n",
            "Pruned 100%\n",
            "Accuracy: 50.66%\n",
            "\n"
          ],
          "name": "stdout"
        }
      ]
    },
    {
      "cell_type": "code",
      "metadata": {
        "id": "m8blHyCy7dls",
        "colab_type": "code",
        "outputId": "cd0250f4-8edd-4834-fe41-75cde2897924",
        "colab": {
          "base_uri": "https://localhost:8080/",
          "height": 411
        }
      },
      "source": [
        "plt.figure(figsize=(10, 6))\n",
        "plt.title('{} h2h Pruning Evaluation'.format(MODEL.upper()))\n",
        "plt.xlabel('% Pruned')\n",
        "plt.ylabel('Accuracy %')\n",
        "plt.savefig('./accuracies/{}-h2h-pruning-accuracy.png'.format(MODEL))\n",
        "plt.plot(pruned_perc, pruned_acc);"
      ],
      "execution_count": 25,
      "outputs": [
        {
          "output_type": "display_data",
          "data": {
            "image/png": "[encoded data removed]",
            "text/plain": [
              "<Figure size 720x432 with 1 Axes>"
            ]
          },
          "metadata": {
            "tags": []
          }
        }
      ]
    },
    {
      "cell_type": "code",
      "metadata": {
        "id": "WZkB1_kHCLgi",
        "colab_type": "code",
        "colab": {}
      },
      "source": [
        "with open('./accuracies/{}-h2h-pruning-accuracies.txt'.format(MODEL), 'a') as f:\n",
        "    f.write('{}'.format(MODEL.upper()) + ':' + ','.join(str(a.item()) for a in pruned_acc) + '\\n')"
      ],
      "execution_count": 0,
      "outputs": []
    },
    {
      "cell_type": "markdown",
      "metadata": {
        "id": "30mwjPkOv7B8",
        "colab_type": "text"
      },
      "source": [
        "#### Re-train"
      ]
    },
    {
      "cell_type": "code",
      "metadata": {
        "id": "tbsc6kRZv8Vs",
        "colab_type": "code",
        "colab": {}
      },
      "source": [
        "retrain_after = [90, 100]\n",
        "retrain_accs = []"
      ],
      "execution_count": 0,
      "outputs": []
    },
    {
      "cell_type": "code",
      "metadata": {
        "id": "Mu_1oqpnwRME",
        "colab_type": "code",
        "outputId": "a7bf25eb-4cc4-4024-f2ae-f0d95ef92800",
        "colab": {
          "base_uri": "https://localhost:8080/",
          "height": 391
        }
      },
      "source": [
        "%%time\n",
        "for perc in retrain_after:\n",
        "    model = Model(INPUT_SIZE, OUTPUT_SIZE, HIDDEN_LAYERS)\n",
        "    model.load_state_dict(param_dict)\n",
        "    optimizer = torch.optim.Adam(model.parameters(), lr=0.001)\n",
        "    criterion = nn.CrossEntropyLoss()\n",
        "\n",
        "    print('Pruned {}%\\n{}'.format(perc, '-'*12))\n",
        "    model.recurrent.set_h2h_mask(perc)\n",
        "\n",
        "    base_acc = test()\n",
        "\n",
        "    acc = [base_acc]\n",
        "    for e in range(6):\n",
        "        print('Epoch {}: {:.2f}%'.format(e, base_acc))\n",
        "        train()\n",
        "        base_acc = test()\n",
        "        acc.append(base_acc)\n",
        "\n",
        "    retrain_accs.append(acc)\n",
        "    print('\\n')"
      ],
      "execution_count": 28,
      "outputs": [
        {
          "output_type": "stream",
          "text": [
            "Pruned 90%\n",
            "------------\n",
            "Epoch 0: 98.94%\n",
            "Epoch 1: 100.00%\n",
            "Epoch 2: 100.00%\n",
            "Epoch 3: 100.00%\n",
            "Epoch 4: 100.00%\n",
            "Epoch 5: 100.00%\n",
            "\n",
            "\n",
            "Pruned 100%\n",
            "------------\n",
            "Epoch 0: 50.66%\n",
            "Epoch 1: 99.97%\n",
            "Epoch 2: 100.00%\n",
            "Epoch 3: 100.00%\n",
            "Epoch 4: 100.00%\n",
            "Epoch 5: 99.94%\n",
            "\n",
            "\n",
            "CPU times: user 16min 1s, sys: 1.27 s, total: 16min 2s\n",
            "Wall time: 16min 5s\n"
          ],
          "name": "stdout"
        }
      ]
    },
    {
      "cell_type": "code",
      "metadata": {
        "id": "E6Lw0rVl0zVK",
        "colab_type": "code",
        "outputId": "f3ce99ad-7d9d-464b-b00c-8ad297d50c2f",
        "colab": {
          "base_uri": "https://localhost:8080/",
          "height": 411
        }
      },
      "source": [
        "plt.figure(figsize=(16, 6))\n",
        "plt.subplots_adjust(hspace=0.5)\n",
        "for i, perc in enumerate(retrain_after):\n",
        "    plt.subplot(1,2,i+1)\n",
        "    plt.title('Pruned {}%'.format(retrain_after[i]))\n",
        "    plt.xlabel('Epochs')\n",
        "    plt.ylabel('Accuracy %')\n",
        "    plt.plot(retrain_accs[i])\n",
        "plt.savefig('./accuracies/{}-h2h-retrain-accuracy.png'.format(MODEL))"
      ],
      "execution_count": 29,
      "outputs": [
        {
          "output_type": "display_data",
          "data": {
            "image/png": "[encoded data removed]",
            "text/plain": [
              "<Figure size 1152x432 with 2 Axes>"
            ]
          },
          "metadata": {
            "tags": []
          }
        }
      ]
    },
    {
      "cell_type": "code",
      "metadata": {
        "id": "xfzxYQ7WD99N",
        "colab_type": "code",
        "colab": {}
      },
      "source": [
        "write_line = ''"
      ],
      "execution_count": 0,
      "outputs": []
    },
    {
      "cell_type": "code",
      "metadata": {
        "id": "4ZaiRLywD2T0",
        "colab_type": "code",
        "colab": {}
      },
      "source": [
        "for i, a in enumerate(retrain_accs):\n",
        "    write_line += '{}%'.format(retrain_after[i]) + ':' + ','.join(str(_a.item()) for _a in a) + '\\n'"
      ],
      "execution_count": 0,
      "outputs": []
    },
    {
      "cell_type": "code",
      "metadata": {
        "id": "OSykb9-gEb92",
        "colab_type": "code",
        "colab": {}
      },
      "source": [
        "with open('./accuracies/{}-h2h-retrain-accuracies.txt'.format(MODEL), 'a') as f:\n",
        "    f.write(write_line)"
      ],
      "execution_count": 0,
      "outputs": []
    }
  ]
}