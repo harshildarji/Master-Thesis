{
  "nbformat": 4,
  "nbformat_minor": 0,
  "metadata": {
    "accelerator": "GPU",
    "colab": {
      "name": "tanh.ipynb",
      "provenance": [],
      "collapsed_sections": []
    },
    "kernelspec": {
      "display_name": "Python 3",
      "language": "python",
      "name": "python3"
    },
    "language_info": {
      "codemirror_mode": {
        "name": "ipython",
        "version": 3
      },
      "file_extension": ".py",
      "mimetype": "text/x-python",
      "name": "python",
      "nbconvert_exporter": "python",
      "pygments_lexer": "ipython3",
      "version": "3.6.9"
    }
  },
  "cells": [
    {
      "cell_type": "code",
      "metadata": {
        "id": "YTdml_ZZO04W",
        "colab_type": "code",
        "colab": {}
      },
      "source": [
        "import sys\n",
        "sys.path.append('../')"
      ],
      "execution_count": 0,
      "outputs": []
    },
    {
      "cell_type": "code",
      "metadata": {
        "colab_type": "code",
        "id": "jnlVHBXYGevQ",
        "colab": {}
      },
      "source": [
        "import torch\n",
        "import torch.nn as nn\n",
        "from torch.autograd import Variable\n",
        "from torch.utils.data import Dataset, DataLoader\n",
        "from torch.nn.utils.rnn import pack_padded_sequence, pad_packed_sequence\n",
        "\n",
        "from MaskedRNN import MaskedDeepRNN\n",
        "from MaskedRNN import weight_prune\n",
        "\n",
        "import pandas as pd\n",
        "import matplotlib.pyplot as plt\n",
        "import seaborn as sns"
      ],
      "execution_count": 0,
      "outputs": []
    },
    {
      "cell_type": "code",
      "metadata": {
        "id": "SnJ89dAtiljA",
        "colab_type": "code",
        "colab": {}
      },
      "source": [
        "sns.set_style('darkgrid')"
      ],
      "execution_count": 0,
      "outputs": []
    },
    {
      "cell_type": "code",
      "metadata": {
        "id": "0ZDPVjuQxtey",
        "colab_type": "code",
        "colab": {}
      },
      "source": [
        "device = torch.device('cuda:0' if torch.cuda.is_available() else 'cpu') "
      ],
      "execution_count": 0,
      "outputs": []
    },
    {
      "cell_type": "markdown",
      "metadata": {
        "colab_type": "text",
        "id": "OQRUiZIIGevb"
      },
      "source": [
        "#### Import, shuffle and split dataset"
      ]
    },
    {
      "cell_type": "code",
      "metadata": {
        "colab_type": "code",
        "id": "Hc-jfPQDGevd",
        "colab": {}
      },
      "source": [
        "data = pd.read_csv('reber_sequences.csv')"
      ],
      "execution_count": 0,
      "outputs": []
    },
    {
      "cell_type": "code",
      "metadata": {
        "colab_type": "code",
        "id": "VZt1tuMDGevl",
        "colab": {}
      },
      "source": [
        "data = data.sample(frac=1).reset_index(drop=True)"
      ],
      "execution_count": 0,
      "outputs": []
    },
    {
      "cell_type": "code",
      "metadata": {
        "colab_type": "code",
        "id": "9FVvyiR2Gevt",
        "colab": {}
      },
      "source": [
        "train_data = data[:int(.75*len(data))]\n",
        "test_data = data[len(train_data):]"
      ],
      "execution_count": 0,
      "outputs": []
    },
    {
      "cell_type": "code",
      "metadata": {
        "colab_type": "code",
        "id": "hFGa03AvGevx",
        "outputId": "7526da28-6649-4566-ae0f-a1f4035cae1e",
        "colab": {
          "base_uri": "https://localhost:8080/",
          "height": 68
        }
      },
      "source": [
        "print('Total length: {}\\nTrain data length: {}\\nTest data length: {}'.format(len(data), len(train_data), len(test_data)))"
      ],
      "execution_count": 8,
      "outputs": [
        {
          "output_type": "stream",
          "text": [
            "Total length: 25000\n",
            "Train data length: 18750\n",
            "Test data length: 6250\n"
          ],
          "name": "stdout"
        }
      ]
    },
    {
      "cell_type": "markdown",
      "metadata": {
        "colab_type": "text",
        "id": "uCoah1gRGev6"
      },
      "source": [
        "#### Parameters"
      ]
    },
    {
      "cell_type": "code",
      "metadata": {
        "id": "CKtaST_DiqQR",
        "colab_type": "code",
        "colab": {}
      },
      "source": [
        "MODEL = 'lstm'"
      ],
      "execution_count": 0,
      "outputs": []
    },
    {
      "cell_type": "code",
      "metadata": {
        "colab_type": "code",
        "id": "6wDwJmInGev8",
        "colab": {}
      },
      "source": [
        "BATCH_SIZE = 16\n",
        "\n",
        "INPUT_SIZE = 128\n",
        "EMBEDDING_DIM = 100\n",
        "OUTPUT_SIZE = 2\n",
        "\n",
        "EPOCHS = 30\n",
        "HIDDEN_LAYERS = [100, 100, 100]"
      ],
      "execution_count": 0,
      "outputs": []
    },
    {
      "cell_type": "markdown",
      "metadata": {
        "colab_type": "text",
        "id": "mETf9K_7GewC"
      },
      "source": [
        "#### Customize `Dataset`"
      ]
    },
    {
      "cell_type": "code",
      "metadata": {
        "colab_type": "code",
        "id": "tvZNBTBqGewD",
        "colab": {}
      },
      "source": [
        "class MakeDataset(Dataset):\n",
        "    def __init__(self, data):\n",
        "        self.strings = list(data['string'])\n",
        "        self.valid = list(data['valid'])\n",
        "        self.len = len(self.valid)\n",
        "        self.valid_list = [0, 1]\n",
        "\n",
        "    def __getitem__(self, index):\n",
        "        return self.strings[index], self.valid[index]\n",
        "\n",
        "    def __len__(self):\n",
        "        return self.len"
      ],
      "execution_count": 0,
      "outputs": []
    },
    {
      "cell_type": "markdown",
      "metadata": {
        "colab_type": "text",
        "id": "qtRtnbUPGewI"
      },
      "source": [
        "#### Train/Test Loader"
      ]
    },
    {
      "cell_type": "code",
      "metadata": {
        "colab_type": "code",
        "id": "qIkc37iDGewJ",
        "colab": {}
      },
      "source": [
        "dataset = MakeDataset(train_data)\n",
        "train_loader = DataLoader(dataset=dataset, batch_size=BATCH_SIZE, shuffle=True)"
      ],
      "execution_count": 0,
      "outputs": []
    },
    {
      "cell_type": "code",
      "metadata": {
        "colab_type": "code",
        "id": "8me9-GUdGewP",
        "colab": {}
      },
      "source": [
        "dataset = MakeDataset(test_data)\n",
        "test_loader = DataLoader(dataset=dataset, batch_size=BATCH_SIZE, shuffle=True)"
      ],
      "execution_count": 0,
      "outputs": []
    },
    {
      "cell_type": "markdown",
      "metadata": {
        "colab_type": "text",
        "id": "HiAzJtMSGewW"
      },
      "source": [
        "#### Helper functions"
      ]
    },
    {
      "cell_type": "code",
      "metadata": {
        "colab_type": "code",
        "id": "VX5oPdsWGewX",
        "colab": {}
      },
      "source": [
        "def create_variable(tensor):\n",
        "    return Variable(tensor.to(device))"
      ],
      "execution_count": 0,
      "outputs": []
    },
    {
      "cell_type": "code",
      "metadata": {
        "colab_type": "code",
        "id": "rCKTIEbbGewh",
        "colab": {}
      },
      "source": [
        "def pad_seq(vect_seqs, seq_lens, valid):\n",
        "    seq_tensor = torch.zeros((len(vect_seqs), seq_lens.max())).long()\n",
        "    \n",
        "    for index, (seq, seq_len) in enumerate(zip(vect_seqs, seq_lens)):\n",
        "        seq_tensor[index, :seq_len] = torch.LongTensor(seq)\n",
        "        \n",
        "    return create_variable(seq_tensor), create_variable(seq_lens), create_variable(valid)"
      ],
      "execution_count": 0,
      "outputs": []
    },
    {
      "cell_type": "code",
      "metadata": {
        "colab_type": "code",
        "id": "BOeyEku_Gewn",
        "colab": {}
      },
      "source": [
        "def str2ascii(string):\n",
        "    ascii_arr = [ord(s) for s in string]\n",
        "    return ascii_arr, len(ascii_arr)"
      ],
      "execution_count": 0,
      "outputs": []
    },
    {
      "cell_type": "code",
      "metadata": {
        "colab_type": "code",
        "id": "g5HS0oTzGewq",
        "colab": {}
      },
      "source": [
        "def make_variables(strings, valid):\n",
        "    seqs_and_lens = [str2ascii(string)for string in strings]\n",
        "    vect_seqs = [s[0] for s in seqs_and_lens]\n",
        "    seq_lens = torch.LongTensor([s[1] for s in seqs_and_lens])\n",
        "    valid = torch.LongTensor(valid)\n",
        "    return pad_seq(vect_seqs, seq_lens, valid)"
      ],
      "execution_count": 0,
      "outputs": []
    },
    {
      "cell_type": "markdown",
      "metadata": {
        "id": "3Lr3KHufagGQ",
        "colab_type": "text"
      },
      "source": [
        "#### Model"
      ]
    },
    {
      "cell_type": "code",
      "metadata": {
        "id": "ZIhsCJgk7Em7",
        "colab_type": "code",
        "colab": {}
      },
      "source": [
        "class Model(nn.Module):\n",
        "    def __init__(self, input_size, output_size, hidden_layers: list, mode):\n",
        "        super(Model, self).__init__()\n",
        "\n",
        "        self.embedding = nn.Embedding(num_embeddings=input_size, embedding_dim=hidden_layers[0]).to(device)\n",
        "        self.recurrent = MaskedDeepRNN(hidden_layers[0], hidden_layers, mode=mode).to(device)\n",
        "        self.fc = nn.Linear(hidden_layers[-1], output_size).to(device)\n",
        "        \n",
        "    def forward(self, input):\n",
        "        input = input.t()\n",
        "        embedded = self.embedding(input)\n",
        "        output = self.recurrent(embedded)\n",
        "        return self.fc(output)"
      ],
      "execution_count": 0,
      "outputs": []
    },
    {
      "cell_type": "code",
      "metadata": {
        "id": "CEWO7ihK81cE",
        "colab_type": "code",
        "colab": {}
      },
      "source": [
        "model = Model(INPUT_SIZE, OUTPUT_SIZE, HIDDEN_LAYERS, mode='lstm')"
      ],
      "execution_count": 0,
      "outputs": []
    },
    {
      "cell_type": "code",
      "metadata": {
        "id": "AkV3kS4nLMKP",
        "colab_type": "code",
        "colab": {}
      },
      "source": [
        "optimizer = torch.optim.Adam(model.parameters(), lr=0.001)\n",
        "criterion = nn.CrossEntropyLoss()"
      ],
      "execution_count": 0,
      "outputs": []
    },
    {
      "cell_type": "code",
      "metadata": {
        "id": "7SwNgu-kaax0",
        "colab_type": "code",
        "outputId": "8d4d1121-3c16-441e-ffc1-1c1392da95b9",
        "colab": {
          "base_uri": "https://localhost:8080/",
          "height": 204
        }
      },
      "source": [
        "print(model)"
      ],
      "execution_count": 21,
      "outputs": [
        {
          "output_type": "stream",
          "text": [
            "Model(\n",
            "  (embedding): Embedding(128, 100)\n",
            "  (recurrent): MaskedDeepRNN(\n",
            "    (recurrent_layers): ModuleList(\n",
            "      (0): MaskedRecurrentLayer(100, 100)\n",
            "      (1): MaskedRecurrentLayer(100, 100)\n",
            "      (2): MaskedRecurrentLayer(100, 100)\n",
            "    )\n",
            "  )\n",
            "  (fc): Linear(in_features=100, out_features=2, bias=True)\n",
            ")\n"
          ],
          "name": "stdout"
        }
      ]
    },
    {
      "cell_type": "markdown",
      "metadata": {
        "colab_type": "text",
        "id": "lQT4Qq2WGexR"
      },
      "source": [
        "#### Train & Test"
      ]
    },
    {
      "cell_type": "code",
      "metadata": {
        "colab_type": "code",
        "id": "ZRmp2k9KGexW",
        "colab": {}
      },
      "source": [
        "def train():\n",
        "    total_loss = 0\n",
        "    \n",
        "    for i, (string, valid) in enumerate(train_loader, 1):\n",
        "        input, seq_lens, target = make_variables(string, valid)\n",
        "\n",
        "        output = model(input)\n",
        "        \n",
        "        loss = criterion(output, target)\n",
        "        total_loss += loss.data.item()\n",
        "        \n",
        "        model.zero_grad()\n",
        "        loss.backward()\n",
        "        optimizer.step()\n",
        "        \n",
        "        if i % 100 == 0:\n",
        "            print('{}/{}\\tLoss: {:.5f}'.format(i * len(string), len(train_loader.dataset), total_loss / i * len(string)))"
      ],
      "execution_count": 0,
      "outputs": []
    },
    {
      "cell_type": "code",
      "metadata": {
        "colab_type": "code",
        "id": "ferW61amIjFP",
        "colab": {}
      },
      "source": [
        "test_acc = []"
      ],
      "execution_count": 0,
      "outputs": []
    },
    {
      "cell_type": "code",
      "metadata": {
        "colab_type": "code",
        "id": "EtDP_hJ0Gexh",
        "colab": {}
      },
      "source": [
        "def test():\n",
        "    correct = 0.\n",
        "    test_data_size = len(test_loader.dataset)\n",
        "    \n",
        "    for string, valid in test_loader:\n",
        "        input, seq_lens, target = make_variables(string, valid)\n",
        "\n",
        "        output = model(input)\n",
        "\n",
        "        pred = output.data.max(1, keepdim=True)[1]\n",
        "        correct += pred.eq(target.data.view_as(pred)).cpu().sum()\n",
        "\n",
        "    acc = 100 * correct / test_data_size\n",
        "    test_acc.append(acc)\n",
        "        \n",
        "    print('\\nAccuracy: {:.2f}%\\n'.format(acc))"
      ],
      "execution_count": 0,
      "outputs": []
    },
    {
      "cell_type": "code",
      "metadata": {
        "colab_type": "code",
        "id": "2az6-B2FGey3",
        "outputId": "b2d699bd-cf47-4f46-b12d-220602f2de5a",
        "colab": {
          "base_uri": "https://localhost:8080/",
          "height": 1000
        }
      },
      "source": [
        "%%time\n",
        "for epoch in range(1, EPOCHS+1):\n",
        "    print('Epoch #{}\\n{}'.format(epoch, 12*'-'))\n",
        "    train()\n",
        "    test()"
      ],
      "execution_count": 25,
      "outputs": [
        {
          "output_type": "stream",
          "text": [
            "Epoch #1\n",
            "------------\n",
            "1600/18750\tLoss: 7.19149\n",
            "3200/18750\tLoss: 5.94952\n",
            "4800/18750\tLoss: 5.20669\n",
            "6400/18750\tLoss: 4.74157\n",
            "8000/18750\tLoss: 4.38235\n",
            "9600/18750\tLoss: 4.12990\n",
            "11200/18750\tLoss: 3.87891\n",
            "12800/18750\tLoss: 3.40688\n",
            "14400/18750\tLoss: 3.03963\n",
            "16000/18750\tLoss: 2.73685\n",
            "17600/18750\tLoss: 2.49622\n",
            "\n",
            "Accuracy: 94.74%\n",
            "\n",
            "Epoch #2\n",
            "------------\n",
            "1600/18750\tLoss: 1.87160\n",
            "3200/18750\tLoss: 0.98758\n",
            "4800/18750\tLoss: 0.67036\n",
            "6400/18750\tLoss: 0.57721\n",
            "8000/18750\tLoss: 0.61979\n",
            "9600/18750\tLoss: 0.53252\n",
            "11200/18750\tLoss: 0.46524\n",
            "12800/18750\tLoss: 0.41963\n",
            "14400/18750\tLoss: 0.37412\n",
            "16000/18750\tLoss: 0.34580\n",
            "17600/18750\tLoss: 0.32824\n",
            "\n",
            "Accuracy: 99.95%\n",
            "\n",
            "Epoch #3\n",
            "------------\n",
            "1600/18750\tLoss: 0.15660\n",
            "3200/18750\tLoss: 0.11826\n",
            "4800/18750\tLoss: 0.08142\n",
            "6400/18750\tLoss: 0.07963\n",
            "8000/18750\tLoss: 0.08583\n",
            "9600/18750\tLoss: 0.08051\n",
            "11200/18750\tLoss: 0.07434\n",
            "12800/18750\tLoss: 0.06537\n",
            "14400/18750\tLoss: 0.05931\n",
            "16000/18750\tLoss: 0.05357\n",
            "17600/18750\tLoss: 0.05003\n",
            "\n",
            "Accuracy: 99.98%\n",
            "\n",
            "Epoch #4\n",
            "------------\n",
            "1600/18750\tLoss: 0.00714\n",
            "3200/18750\tLoss: 0.00395\n",
            "4800/18750\tLoss: 0.00457\n",
            "6400/18750\tLoss: 0.00377\n",
            "8000/18750\tLoss: 0.00313\n",
            "9600/18750\tLoss: 0.00274\n",
            "11200/18750\tLoss: 0.00309\n",
            "12800/18750\tLoss: 0.00365\n",
            "14400/18750\tLoss: 0.00328\n",
            "16000/18750\tLoss: 0.00308\n",
            "17600/18750\tLoss: 0.00297\n",
            "\n",
            "Accuracy: 99.98%\n",
            "\n",
            "Epoch #5\n",
            "------------\n",
            "1600/18750\tLoss: 0.00022\n",
            "3200/18750\tLoss: 0.00032\n",
            "4800/18750\tLoss: 0.00033\n",
            "6400/18750\tLoss: 0.00029\n",
            "8000/18750\tLoss: 0.00034\n",
            "9600/18750\tLoss: 0.00034\n",
            "11200/18750\tLoss: 0.00031\n",
            "12800/18750\tLoss: 0.00029\n",
            "14400/18750\tLoss: 0.00028\n",
            "16000/18750\tLoss: 0.00026\n",
            "17600/18750\tLoss: 0.00026\n",
            "\n",
            "Accuracy: 99.98%\n",
            "\n",
            "Epoch #6\n",
            "------------\n",
            "1600/18750\tLoss: 0.00010\n",
            "3200/18750\tLoss: 0.00012\n",
            "4800/18750\tLoss: 0.00011\n",
            "6400/18750\tLoss: 0.00010\n",
            "8000/18750\tLoss: 0.00011\n",
            "9600/18750\tLoss: 0.00010\n",
            "11200/18750\tLoss: 0.00010\n",
            "12800/18750\tLoss: 0.00010\n",
            "14400/18750\tLoss: 0.00009\n",
            "16000/18750\tLoss: 0.00009\n",
            "17600/18750\tLoss: 0.00009\n",
            "\n",
            "Accuracy: 99.98%\n",
            "\n",
            "Epoch #7\n",
            "------------\n",
            "1600/18750\tLoss: 0.00005\n",
            "3200/18750\tLoss: 0.00006\n",
            "4800/18750\tLoss: 0.00006\n",
            "6400/18750\tLoss: 0.00005\n",
            "8000/18750\tLoss: 0.00006\n",
            "9600/18750\tLoss: 0.00006\n",
            "11200/18750\tLoss: 0.00006\n",
            "12800/18750\tLoss: 0.00005\n",
            "14400/18750\tLoss: 0.00005\n",
            "16000/18750\tLoss: 0.00005\n",
            "17600/18750\tLoss: 0.00005\n",
            "\n",
            "Accuracy: 99.98%\n",
            "\n",
            "Epoch #8\n",
            "------------\n",
            "1600/18750\tLoss: 0.00003\n",
            "3200/18750\tLoss: 0.00003\n",
            "4800/18750\tLoss: 0.00003\n",
            "6400/18750\tLoss: 0.00003\n",
            "8000/18750\tLoss: 0.00003\n",
            "9600/18750\tLoss: 0.00003\n",
            "11200/18750\tLoss: 0.00003\n",
            "12800/18750\tLoss: 0.00003\n",
            "14400/18750\tLoss: 0.00003\n",
            "16000/18750\tLoss: 0.00002\n",
            "17600/18750\tLoss: 0.00002\n",
            "\n",
            "Accuracy: 99.97%\n",
            "\n",
            "Epoch #9\n",
            "------------\n",
            "1600/18750\tLoss: 0.00003\n",
            "3200/18750\tLoss: 0.00002\n",
            "4800/18750\tLoss: 0.00002\n",
            "6400/18750\tLoss: 0.00002\n",
            "8000/18750\tLoss: 0.00002\n",
            "9600/18750\tLoss: 0.00002\n",
            "11200/18750\tLoss: 0.00001\n",
            "12800/18750\tLoss: 0.00001\n",
            "14400/18750\tLoss: 0.00001\n",
            "16000/18750\tLoss: 0.00001\n",
            "17600/18750\tLoss: 0.00001\n",
            "\n",
            "Accuracy: 99.97%\n",
            "\n",
            "Epoch #10\n",
            "------------\n",
            "1600/18750\tLoss: 0.00001\n",
            "3200/18750\tLoss: 0.00001\n",
            "4800/18750\tLoss: 0.00001\n",
            "6400/18750\tLoss: 0.00001\n",
            "8000/18750\tLoss: 0.00001\n",
            "9600/18750\tLoss: 0.00001\n",
            "11200/18750\tLoss: 0.00001\n",
            "12800/18750\tLoss: 0.00001\n",
            "14400/18750\tLoss: 0.00001\n",
            "16000/18750\tLoss: 0.00001\n",
            "17600/18750\tLoss: 0.00001\n",
            "\n",
            "Accuracy: 99.98%\n",
            "\n",
            "Epoch #11\n",
            "------------\n",
            "1600/18750\tLoss: 0.00000\n",
            "3200/18750\tLoss: 0.00000\n",
            "4800/18750\tLoss: 0.00000\n",
            "6400/18750\tLoss: 0.00000\n",
            "8000/18750\tLoss: 0.00000\n",
            "9600/18750\tLoss: 0.00000\n",
            "11200/18750\tLoss: 0.00000\n",
            "12800/18750\tLoss: 0.00000\n",
            "14400/18750\tLoss: 0.00000\n",
            "16000/18750\tLoss: 0.00000\n",
            "17600/18750\tLoss: 0.00000\n",
            "\n",
            "Accuracy: 99.98%\n",
            "\n",
            "Epoch #12\n",
            "------------\n",
            "1600/18750\tLoss: 0.00000\n",
            "3200/18750\tLoss: 0.00000\n",
            "4800/18750\tLoss: 0.00000\n",
            "6400/18750\tLoss: 0.00000\n",
            "8000/18750\tLoss: 0.00000\n",
            "9600/18750\tLoss: 0.00000\n",
            "11200/18750\tLoss: 0.00000\n",
            "12800/18750\tLoss: 0.00000\n",
            "14400/18750\tLoss: 0.00000\n",
            "16000/18750\tLoss: 0.00000\n",
            "17600/18750\tLoss: 0.00000\n",
            "\n",
            "Accuracy: 99.98%\n",
            "\n",
            "Epoch #13\n",
            "------------\n",
            "1600/18750\tLoss: 0.00000\n",
            "3200/18750\tLoss: 0.00000\n",
            "4800/18750\tLoss: 0.00000\n",
            "6400/18750\tLoss: 0.00000\n",
            "8000/18750\tLoss: 0.00000\n",
            "9600/18750\tLoss: 0.42134\n",
            "11200/18750\tLoss: 0.39657\n",
            "12800/18750\tLoss: 0.35151\n",
            "14400/18750\tLoss: 0.32689\n",
            "16000/18750\tLoss: 0.29480\n",
            "17600/18750\tLoss: 0.26826\n",
            "\n",
            "Accuracy: 99.97%\n",
            "\n",
            "Epoch #14\n",
            "------------\n",
            "1600/18750\tLoss: 0.00156\n",
            "3200/18750\tLoss: 0.00920\n",
            "4800/18750\tLoss: 0.00898\n",
            "6400/18750\tLoss: 0.00697\n",
            "8000/18750\tLoss: 0.00777\n",
            "9600/18750\tLoss: 0.00819\n",
            "11200/18750\tLoss: 0.00711\n",
            "12800/18750\tLoss: 0.00850\n",
            "14400/18750\tLoss: 0.00769\n",
            "16000/18750\tLoss: 0.00854\n",
            "17600/18750\tLoss: 0.00785\n",
            "\n",
            "Accuracy: 100.00%\n",
            "\n",
            "Epoch #15\n",
            "------------\n",
            "1600/18750\tLoss: 0.00688\n",
            "3200/18750\tLoss: 0.00360\n",
            "4800/18750\tLoss: 0.00364\n",
            "6400/18750\tLoss: 0.00331\n",
            "8000/18750\tLoss: 0.00288\n",
            "9600/18750\tLoss: 0.00248\n",
            "11200/18750\tLoss: 0.00356\n",
            "12800/18750\tLoss: 0.00966\n",
            "14400/18750\tLoss: 0.00896\n",
            "16000/18750\tLoss: 0.00810\n",
            "17600/18750\tLoss: 0.00755\n",
            "\n",
            "Accuracy: 99.97%\n",
            "\n",
            "Epoch #16\n",
            "------------\n",
            "1600/18750\tLoss: 0.00021\n",
            "3200/18750\tLoss: 0.00848\n",
            "4800/18750\tLoss: 0.00652\n",
            "6400/18750\tLoss: 0.00507\n",
            "8000/18750\tLoss: 0.00408\n",
            "9600/18750\tLoss: 0.00348\n",
            "11200/18750\tLoss: 0.00300\n",
            "12800/18750\tLoss: 0.00267\n",
            "14400/18750\tLoss: 0.00240\n",
            "16000/18750\tLoss: 0.00218\n",
            "17600/18750\tLoss: 0.00200\n",
            "\n",
            "Accuracy: 100.00%\n",
            "\n",
            "Epoch #17\n",
            "------------\n",
            "1600/18750\tLoss: 0.00013\n",
            "3200/18750\tLoss: 0.00014\n",
            "4800/18750\tLoss: 0.00011\n",
            "6400/18750\tLoss: 0.00010\n",
            "8000/18750\tLoss: 0.00009\n",
            "9600/18750\tLoss: 0.00009\n",
            "11200/18750\tLoss: 0.00009\n",
            "12800/18750\tLoss: 0.00008\n",
            "14400/18750\tLoss: 0.00008\n",
            "16000/18750\tLoss: 0.00008\n",
            "17600/18750\tLoss: 0.00008\n",
            "\n",
            "Accuracy: 100.00%\n",
            "\n",
            "Epoch #18\n",
            "------------\n",
            "1600/18750\tLoss: 0.00007\n",
            "3200/18750\tLoss: 0.00005\n",
            "4800/18750\tLoss: 0.00005\n",
            "6400/18750\tLoss: 0.00004\n",
            "8000/18750\tLoss: 0.00004\n",
            "9600/18750\tLoss: 0.00004\n",
            "11200/18750\tLoss: 0.00003\n",
            "12800/18750\tLoss: 0.00003\n",
            "14400/18750\tLoss: 0.00003\n",
            "16000/18750\tLoss: 0.00003\n",
            "17600/18750\tLoss: 0.00003\n",
            "\n",
            "Accuracy: 100.00%\n",
            "\n",
            "Epoch #19\n",
            "------------\n",
            "1600/18750\tLoss: 0.00003\n",
            "3200/18750\tLoss: 0.00002\n",
            "4800/18750\tLoss: 0.00002\n",
            "6400/18750\tLoss: 0.00002\n",
            "8000/18750\tLoss: 0.00002\n",
            "9600/18750\tLoss: 0.00002\n",
            "11200/18750\tLoss: 0.00002\n",
            "12800/18750\tLoss: 0.00002\n",
            "14400/18750\tLoss: 0.00001\n",
            "16000/18750\tLoss: 0.00001\n",
            "17600/18750\tLoss: 0.00001\n",
            "\n",
            "Accuracy: 100.00%\n",
            "\n",
            "Epoch #20\n",
            "------------\n",
            "1600/18750\tLoss: 0.00001\n",
            "3200/18750\tLoss: 0.00001\n",
            "4800/18750\tLoss: 0.00001\n",
            "6400/18750\tLoss: 0.00001\n",
            "8000/18750\tLoss: 0.00001\n",
            "9600/18750\tLoss: 0.00001\n",
            "11200/18750\tLoss: 0.00001\n",
            "12800/18750\tLoss: 0.00001\n",
            "14400/18750\tLoss: 0.00001\n",
            "16000/18750\tLoss: 0.00001\n",
            "17600/18750\tLoss: 0.00001\n",
            "\n",
            "Accuracy: 100.00%\n",
            "\n",
            "Epoch #21\n",
            "------------\n",
            "1600/18750\tLoss: 0.00002\n",
            "3200/18750\tLoss: 0.00001\n",
            "4800/18750\tLoss: 0.00001\n",
            "6400/18750\tLoss: 0.00001\n",
            "8000/18750\tLoss: 0.00001\n",
            "9600/18750\tLoss: 0.00001\n",
            "11200/18750\tLoss: 0.00001\n",
            "12800/18750\tLoss: 0.00001\n",
            "14400/18750\tLoss: 0.00001\n",
            "16000/18750\tLoss: 0.00001\n",
            "17600/18750\tLoss: 0.00001\n",
            "\n",
            "Accuracy: 100.00%\n",
            "\n",
            "Epoch #22\n",
            "------------\n",
            "1600/18750\tLoss: 0.00000\n",
            "3200/18750\tLoss: 0.00000\n",
            "4800/18750\tLoss: 0.00000\n",
            "6400/18750\tLoss: 0.00000\n",
            "8000/18750\tLoss: 0.00000\n",
            "9600/18750\tLoss: 0.00000\n",
            "11200/18750\tLoss: 0.00000\n",
            "12800/18750\tLoss: 0.00000\n",
            "14400/18750\tLoss: 0.00000\n",
            "16000/18750\tLoss: 0.00000\n",
            "17600/18750\tLoss: 0.00000\n",
            "\n",
            "Accuracy: 100.00%\n",
            "\n",
            "Epoch #23\n",
            "------------\n",
            "1600/18750\tLoss: 0.00000\n",
            "3200/18750\tLoss: 0.00000\n",
            "4800/18750\tLoss: 0.00000\n",
            "6400/18750\tLoss: 0.00000\n",
            "8000/18750\tLoss: 0.00000\n",
            "9600/18750\tLoss: 0.00000\n",
            "11200/18750\tLoss: 0.00000\n",
            "12800/18750\tLoss: 0.00000\n",
            "14400/18750\tLoss: 0.00000\n",
            "16000/18750\tLoss: 0.00000\n",
            "17600/18750\tLoss: 0.00000\n",
            "\n",
            "Accuracy: 100.00%\n",
            "\n",
            "Epoch #24\n",
            "------------\n",
            "1600/18750\tLoss: 0.00000\n",
            "3200/18750\tLoss: 0.00000\n",
            "4800/18750\tLoss: 0.00000\n",
            "6400/18750\tLoss: 0.00000\n",
            "8000/18750\tLoss: 0.00000\n",
            "9600/18750\tLoss: 0.00000\n",
            "11200/18750\tLoss: 0.00000\n",
            "12800/18750\tLoss: 0.00000\n",
            "14400/18750\tLoss: 0.00000\n",
            "16000/18750\tLoss: 0.00000\n",
            "17600/18750\tLoss: 0.00000\n",
            "\n",
            "Accuracy: 100.00%\n",
            "\n",
            "Epoch #25\n",
            "------------\n",
            "1600/18750\tLoss: 0.00000\n",
            "3200/18750\tLoss: 0.00000\n",
            "4800/18750\tLoss: 0.00000\n",
            "6400/18750\tLoss: 0.00000\n",
            "8000/18750\tLoss: 0.00000\n",
            "9600/18750\tLoss: 0.00000\n",
            "11200/18750\tLoss: 0.00000\n",
            "12800/18750\tLoss: 0.00000\n",
            "14400/18750\tLoss: 0.00000\n",
            "16000/18750\tLoss: 0.00000\n",
            "17600/18750\tLoss: 0.00000\n",
            "\n",
            "Accuracy: 100.00%\n",
            "\n",
            "Epoch #26\n",
            "------------\n",
            "1600/18750\tLoss: 0.00000\n",
            "3200/18750\tLoss: 0.00000\n",
            "4800/18750\tLoss: 0.00000\n",
            "6400/18750\tLoss: 0.00000\n",
            "8000/18750\tLoss: 0.00000\n",
            "9600/18750\tLoss: 0.00000\n",
            "11200/18750\tLoss: 0.00000\n",
            "12800/18750\tLoss: 0.00000\n",
            "14400/18750\tLoss: 0.00000\n",
            "16000/18750\tLoss: 0.00000\n",
            "17600/18750\tLoss: 0.00000\n",
            "\n",
            "Accuracy: 100.00%\n",
            "\n",
            "Epoch #27\n",
            "------------\n",
            "1600/18750\tLoss: 0.00000\n",
            "3200/18750\tLoss: 0.00000\n",
            "4800/18750\tLoss: 0.00000\n",
            "6400/18750\tLoss: 0.00000\n",
            "8000/18750\tLoss: 0.00000\n",
            "9600/18750\tLoss: 0.00000\n",
            "11200/18750\tLoss: 0.00000\n",
            "12800/18750\tLoss: 0.00000\n",
            "14400/18750\tLoss: 0.00000\n",
            "16000/18750\tLoss: 0.00000\n",
            "17600/18750\tLoss: 0.00000\n",
            "\n",
            "Accuracy: 100.00%\n",
            "\n",
            "Epoch #28\n",
            "------------\n",
            "1600/18750\tLoss: 0.00000\n",
            "3200/18750\tLoss: 0.00000\n",
            "4800/18750\tLoss: 0.00000\n",
            "6400/18750\tLoss: 0.00000\n",
            "8000/18750\tLoss: 0.00000\n",
            "9600/18750\tLoss: 0.00000\n",
            "11200/18750\tLoss: 0.00000\n",
            "12800/18750\tLoss: 0.00000\n",
            "14400/18750\tLoss: 0.00000\n",
            "16000/18750\tLoss: 0.00000\n",
            "17600/18750\tLoss: 0.00000\n",
            "\n",
            "Accuracy: 100.00%\n",
            "\n",
            "Epoch #29\n",
            "------------\n",
            "1600/18750\tLoss: 0.00000\n",
            "3200/18750\tLoss: 0.00000\n",
            "4800/18750\tLoss: 0.00000\n",
            "6400/18750\tLoss: 0.00000\n",
            "8000/18750\tLoss: 0.00000\n",
            "9600/18750\tLoss: 0.00000\n",
            "11200/18750\tLoss: 0.00000\n",
            "12800/18750\tLoss: 0.00000\n",
            "14400/18750\tLoss: 0.00000\n",
            "16000/18750\tLoss: 0.00000\n",
            "17600/18750\tLoss: 0.00000\n",
            "\n",
            "Accuracy: 100.00%\n",
            "\n",
            "Epoch #30\n",
            "------------\n",
            "1600/18750\tLoss: 0.00000\n",
            "3200/18750\tLoss: 0.00000\n",
            "4800/18750\tLoss: 0.00000\n",
            "6400/18750\tLoss: 0.00000\n",
            "8000/18750\tLoss: 0.00000\n",
            "9600/18750\tLoss: 0.00000\n",
            "11200/18750\tLoss: 0.00000\n",
            "12800/18750\tLoss: 0.00000\n",
            "14400/18750\tLoss: 0.00000\n",
            "16000/18750\tLoss: 0.00000\n",
            "17600/18750\tLoss: 0.00000\n",
            "\n",
            "Accuracy: 100.00%\n",
            "\n",
            "CPU times: user 28min 5s, sys: 3.37 s, total: 28min 9s\n",
            "Wall time: 28min 18s\n"
          ],
          "name": "stdout"
        }
      ]
    },
    {
      "cell_type": "markdown",
      "metadata": {
        "id": "SeUKJ_86Yiua",
        "colab_type": "text"
      },
      "source": [
        "#### Plot & Save"
      ]
    },
    {
      "cell_type": "code",
      "metadata": {
        "id": "hBcNe-rQVAHg",
        "colab_type": "code",
        "outputId": "898a6cb3-3a9e-40ee-ef16-7b20e8c12140",
        "colab": {
          "base_uri": "https://localhost:8080/",
          "height": 404
        }
      },
      "source": [
        "plt.figure(figsize=(10, 6))\n",
        "plt.title('{} Test Accuracy'.format(MODEL.upper()))\n",
        "plt.xlabel('Epoch')\n",
        "plt.ylabel('Accuracy %')\n",
        "plt.savefig('{}-accuracy.png'.format(MODEL))\n",
        "plt.plot(range(1, len(test_acc)+1), test_acc, marker='o', ms='2');"
      ],
      "execution_count": 26,
      "outputs": [
        {
          "output_type": "display_data",
          "data": {
            "image/png": "[encoded data removed]",
            "text/plain": [
              "<Figure size 720x432 with 1 Axes>"
            ]
          },
          "metadata": {
            "tags": []
          }
        }
      ]
    },
    {
      "cell_type": "code",
      "metadata": {
        "id": "KY-iIkDnXUtl",
        "colab_type": "code",
        "colab": {}
      },
      "source": [
        "with open('{}-accuracies.txt'.format(MODEL), 'a') as f:\n",
        "    f.write('{}'.format(MODEL.upper()) + ':' + ','.join(str(a.item()) for a in test_acc) + '\\n')"
      ],
      "execution_count": 0,
      "outputs": []
    },
    {
      "cell_type": "code",
      "metadata": {
        "id": "DUzzwNRBrsef",
        "colab_type": "code",
        "colab": {}
      },
      "source": [
        "torch.save(model.state_dict(), './{}-dict.pt'.format(MODEL))"
      ],
      "execution_count": 0,
      "outputs": []
    },
    {
      "cell_type": "markdown",
      "metadata": {
        "id": "AF2OK-ZlYywh",
        "colab_type": "text"
      },
      "source": [
        "#### Parameters Info"
      ]
    },
    {
      "cell_type": "code",
      "metadata": {
        "id": "N-yjwepoxfHs",
        "colab_type": "code",
        "outputId": "20fee67e-186f-4578-c432-98b25bd5d3fe",
        "colab": {
          "base_uri": "https://localhost:8080/",
          "height": 34
        }
      },
      "source": [
        "next(model.parameters()).is_cuda"
      ],
      "execution_count": 29,
      "outputs": [
        {
          "output_type": "execute_result",
          "data": {
            "text/plain": [
              "True"
            ]
          },
          "metadata": {
            "tags": []
          },
          "execution_count": 29
        }
      ]
    },
    {
      "cell_type": "code",
      "metadata": {
        "id": "X55xl3WKY3fM",
        "colab_type": "code",
        "colab": {}
      },
      "source": [
        "def count_parameters(model):\n",
        "    total_params = sum(p.numel() for p in model.parameters())\n",
        "    trainable_params = sum(p.numel() for p in model.parameters() if p.requires_grad)\n",
        "    return total_params, trainable_params"
      ],
      "execution_count": 0,
      "outputs": []
    },
    {
      "cell_type": "code",
      "metadata": {
        "id": "sgP15vHyY9UB",
        "colab_type": "code",
        "outputId": "0b69d581-24ec-469d-a5fe-52f1d129fb4d",
        "colab": {
          "base_uri": "https://localhost:8080/",
          "height": 51
        }
      },
      "source": [
        "total_params, trainable_params = count_parameters(model)\n",
        "print('Total parameters: {}\\nTrainable parameters: {}'.format(total_params, trainable_params))"
      ],
      "execution_count": 31,
      "outputs": [
        {
          "output_type": "stream",
          "text": [
            "Total parameters: 255402\n",
            "Trainable parameters: 255402\n"
          ],
          "name": "stdout"
        }
      ]
    },
    {
      "cell_type": "code",
      "metadata": {
        "id": "_kIVVl0LZAfc",
        "colab_type": "code",
        "outputId": "0414bbe4-10c9-4e6c-9ac8-a250186a896d",
        "colab": {
          "base_uri": "https://localhost:8080/",
          "height": 272
        }
      },
      "source": [
        "for name, param in model.named_parameters():\n",
        "    if param.requires_grad:\n",
        "        print('{}: {}'.format(name, param.data.nelement()))"
      ],
      "execution_count": 32,
      "outputs": [
        {
          "output_type": "stream",
          "text": [
            "embedding.weight: 12800\n",
            "recurrent.recurrent_layers.0.weight_ih: 40000\n",
            "recurrent.recurrent_layers.0.weight_hh: 40000\n",
            "recurrent.recurrent_layers.0.bias_ih: 400\n",
            "recurrent.recurrent_layers.0.bias_hh: 400\n",
            "recurrent.recurrent_layers.1.weight_ih: 40000\n",
            "recurrent.recurrent_layers.1.weight_hh: 40000\n",
            "recurrent.recurrent_layers.1.bias_ih: 400\n",
            "recurrent.recurrent_layers.1.bias_hh: 400\n",
            "recurrent.recurrent_layers.2.weight_ih: 40000\n",
            "recurrent.recurrent_layers.2.weight_hh: 40000\n",
            "recurrent.recurrent_layers.2.bias_ih: 400\n",
            "recurrent.recurrent_layers.2.bias_hh: 400\n",
            "fc.weight: 200\n",
            "fc.bias: 2\n"
          ],
          "name": "stdout"
        }
      ]
    },
    {
      "cell_type": "markdown",
      "metadata": {
        "id": "6eC1cDeuZIZ7",
        "colab_type": "text"
      },
      "source": [
        "#### Weights"
      ]
    },
    {
      "cell_type": "code",
      "metadata": {
        "id": "rNYGLazuZCzZ",
        "colab_type": "code",
        "colab": {}
      },
      "source": [
        "weights = [model.recurrent.recurrent_layers[0].weight_ih, model.recurrent.recurrent_layers[0].weight_hh,\n",
        "           model.recurrent.recurrent_layers[1].weight_ih, model.recurrent.recurrent_layers[1].weight_hh,\n",
        "           model.recurrent.recurrent_layers[2].weight_ih, model.recurrent.recurrent_layers[2].weight_hh]"
      ],
      "execution_count": 0,
      "outputs": []
    },
    {
      "cell_type": "code",
      "metadata": {
        "id": "TO2pEgo9ZodR",
        "colab_type": "code",
        "colab": {}
      },
      "source": [
        "titles = ['Recurrent Layer 1 - weight_ih', 'Recurrent Layer 1 - weight_hh',\n",
        "          'Recurrent Layer 2 - weight_ih', 'Recurrent Layer 2 - weight_hh',\n",
        "          'Recurrent Layer 3 - weight_ih', 'Recurrent Layer 3 - weight_hh']"
      ],
      "execution_count": 0,
      "outputs": []
    },
    {
      "cell_type": "code",
      "metadata": {
        "id": "_Kd7fhBmZ7ts",
        "colab_type": "code",
        "outputId": "c72601b4-a489-4586-9a88-2097cd002392",
        "colab": {
          "base_uri": "https://localhost:8080/",
          "height": 607
        }
      },
      "source": [
        "plt.figure(figsize=(16, 10))\n",
        "plt.subplots_adjust(hspace=0.7)\n",
        "for i, weight in enumerate(weights):\n",
        "    plt.subplot(3,2,i+1)\n",
        "    plt.title('{}'.format(titles[i]))\n",
        "    plt.hist(weight.cpu().detach().numpy().reshape(-1), bins=100)\n",
        "    plt.xlim(-0.5, 0.5)\n",
        "plt.savefig('{}-weights.png'.format(MODEL))"
      ],
      "execution_count": 35,
      "outputs": [
        {
          "output_type": "display_data",
          "data": {
            "image/png": "[encoded data removed]",
            "text/plain": [
              "<Figure size 1152x720 with 6 Axes>"
            ]
          },
          "metadata": {
            "tags": []
          }
        }
      ]
    }
  ]
}