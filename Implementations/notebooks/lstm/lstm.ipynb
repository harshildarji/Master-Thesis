{
  "nbformat": 4,
  "nbformat_minor": 0,
  "metadata": {
    "accelerator": "GPU",
    "colab": {
      "name": "rnn.ipynb",
      "provenance": [],
      "collapsed_sections": [],
      "toc_visible": true
    },
    "kernelspec": {
      "display_name": "Python 3",
      "language": "python",
      "name": "python3"
    },
    "language_info": {
      "codemirror_mode": {
        "name": "ipython",
        "version": 3
      },
      "file_extension": ".py",
      "mimetype": "text/x-python",
      "name": "python",
      "nbconvert_exporter": "python",
      "pygments_lexer": "ipython3",
      "version": "3.6.9"
    }
  },
  "cells": [
    {
      "cell_type": "code",
      "metadata": {
        "id": "YTdml_ZZO04W",
        "colab_type": "code",
        "colab": {}
      },
      "source": [
        "import sys\n",
        "sys.path.append('../')"
      ],
      "execution_count": 0,
      "outputs": []
    },
    {
      "cell_type": "code",
      "metadata": {
        "colab_type": "code",
        "id": "jnlVHBXYGevQ",
        "colab": {}
      },
      "source": [
        "import torch\n",
        "import torch.nn as nn\n",
        "from torch.autograd import Variable\n",
        "from torch.utils.data import Dataset, DataLoader\n",
        "from torch.nn.utils.rnn import pack_padded_sequence, pad_packed_sequence\n",
        "\n",
        "from CustomRNN import DeepRNN\n",
        "\n",
        "import pandas as pd\n",
        "import matplotlib.pyplot as plt\n",
        "import seaborn as sns\n",
        "\n",
        "from torchsummary import summary"
      ],
      "execution_count": 0,
      "outputs": []
    },
    {
      "cell_type": "code",
      "metadata": {
        "id": "SnJ89dAtiljA",
        "colab_type": "code",
        "colab": {}
      },
      "source": [
        "sns.set_style(\"darkgrid\")"
      ],
      "execution_count": 0,
      "outputs": []
    },
    {
      "cell_type": "markdown",
      "metadata": {
        "colab_type": "text",
        "id": "OQRUiZIIGevb"
      },
      "source": [
        "#### Import, shuffle and split dataset"
      ]
    },
    {
      "cell_type": "code",
      "metadata": {
        "colab_type": "code",
        "id": "Hc-jfPQDGevd",
        "colab": {}
      },
      "source": [
        "data = pd.read_csv('reber_sequences.csv')"
      ],
      "execution_count": 0,
      "outputs": []
    },
    {
      "cell_type": "code",
      "metadata": {
        "colab_type": "code",
        "id": "VZt1tuMDGevl",
        "colab": {}
      },
      "source": [
        "data = data.sample(frac=1).reset_index(drop=True)"
      ],
      "execution_count": 0,
      "outputs": []
    },
    {
      "cell_type": "code",
      "metadata": {
        "colab_type": "code",
        "id": "9FVvyiR2Gevt",
        "colab": {}
      },
      "source": [
        "train_data = data[:int(.75*len(data))]\n",
        "test_data = data[len(train_data):]"
      ],
      "execution_count": 0,
      "outputs": []
    },
    {
      "cell_type": "code",
      "metadata": {
        "colab_type": "code",
        "id": "hFGa03AvGevx",
        "outputId": "eb31fa36-eb75-4f2c-cf2b-c0ae44f9a446",
        "colab": {
          "base_uri": "https://localhost:8080/",
          "height": 68
        }
      },
      "source": [
        "print('Total length: {}\\nTrain data length: {}\\nTest data length: {}'.format(len(data), len(train_data), len(test_data)))"
      ],
      "execution_count": 7,
      "outputs": [
        {
          "output_type": "stream",
          "text": [
            "Total length: 25000\n",
            "Train data length: 18750\n",
            "Test data length: 6250\n"
          ],
          "name": "stdout"
        }
      ]
    },
    {
      "cell_type": "markdown",
      "metadata": {
        "colab_type": "text",
        "id": "uCoah1gRGev6"
      },
      "source": [
        "#### Parameters"
      ]
    },
    {
      "cell_type": "code",
      "metadata": {
        "colab_type": "code",
        "id": "6wDwJmInGev8",
        "colab": {}
      },
      "source": [
        "BATCH_SIZE = 16\n",
        "EPOCHS = 30\n",
        "OUTPUT_SIZE = 2\n",
        "INPUT_SIZE = 128"
      ],
      "execution_count": 0,
      "outputs": []
    },
    {
      "cell_type": "code",
      "metadata": {
        "id": "CKtaST_DiqQR",
        "colab_type": "code",
        "colab": {}
      },
      "source": [
        "MODEL = 'lstm'"
      ],
      "execution_count": 0,
      "outputs": []
    },
    {
      "cell_type": "markdown",
      "metadata": {
        "colab_type": "text",
        "id": "mETf9K_7GewC"
      },
      "source": [
        "#### Customize `Dataset` and create loaders"
      ]
    },
    {
      "cell_type": "code",
      "metadata": {
        "colab_type": "code",
        "id": "tvZNBTBqGewD",
        "colab": {}
      },
      "source": [
        "class MakeDataset(Dataset):\n",
        "    def __init__(self, data):\n",
        "        self.strings = list(data['string'])\n",
        "        self.valid = list(data['valid'])\n",
        "        self.len = len(self.valid)\n",
        "        self.valid_list = [0, 1]\n",
        "\n",
        "    def __getitem__(self, index):\n",
        "        return self.strings[index], self.valid[index]\n",
        "\n",
        "    def __len__(self):\n",
        "        return self.len"
      ],
      "execution_count": 0,
      "outputs": []
    },
    {
      "cell_type": "markdown",
      "metadata": {
        "colab_type": "text",
        "id": "qtRtnbUPGewI"
      },
      "source": [
        "Create train loader"
      ]
    },
    {
      "cell_type": "code",
      "metadata": {
        "colab_type": "code",
        "id": "qIkc37iDGewJ",
        "colab": {}
      },
      "source": [
        "dataset = MakeDataset(train_data)\n",
        "train_loader = DataLoader(dataset=dataset, batch_size=BATCH_SIZE, shuffle=True)"
      ],
      "execution_count": 0,
      "outputs": []
    },
    {
      "cell_type": "markdown",
      "metadata": {
        "colab_type": "text",
        "id": "Onw5bwfjGewO"
      },
      "source": [
        "Create test loader"
      ]
    },
    {
      "cell_type": "code",
      "metadata": {
        "colab_type": "code",
        "id": "8me9-GUdGewP",
        "colab": {}
      },
      "source": [
        "dataset = MakeDataset(test_data)\n",
        "test_loader = DataLoader(dataset=dataset, batch_size=BATCH_SIZE, shuffle=True)"
      ],
      "execution_count": 0,
      "outputs": []
    },
    {
      "cell_type": "markdown",
      "metadata": {
        "colab_type": "text",
        "id": "HiAzJtMSGewW"
      },
      "source": [
        "#### Some helper functions"
      ]
    },
    {
      "cell_type": "code",
      "metadata": {
        "colab_type": "code",
        "id": "VX5oPdsWGewX",
        "colab": {}
      },
      "source": [
        "def create_variable(tensor):\n",
        "    return Variable(tensor)"
      ],
      "execution_count": 0,
      "outputs": []
    },
    {
      "cell_type": "code",
      "metadata": {
        "colab_type": "code",
        "id": "rCKTIEbbGewh",
        "colab": {}
      },
      "source": [
        "def pad_seq(vect_seqs, seq_lens, valid):\n",
        "    seq_tensor = torch.zeros((len(vect_seqs), seq_lens.max())).long()\n",
        "    \n",
        "    for index, (seq, seq_len) in enumerate(zip(vect_seqs, seq_lens)):\n",
        "        seq_tensor[index, :seq_len] = torch.LongTensor(seq)\n",
        "        \n",
        "    return create_variable(seq_tensor), create_variable(seq_lens), create_variable(valid)"
      ],
      "execution_count": 0,
      "outputs": []
    },
    {
      "cell_type": "code",
      "metadata": {
        "colab_type": "code",
        "id": "BOeyEku_Gewn",
        "colab": {}
      },
      "source": [
        "def str2ascii(string):\n",
        "    ascii_arr = [ord(s) for s in string]\n",
        "    return ascii_arr, len(ascii_arr)"
      ],
      "execution_count": 0,
      "outputs": []
    },
    {
      "cell_type": "code",
      "metadata": {
        "colab_type": "code",
        "id": "g5HS0oTzGewq",
        "colab": {}
      },
      "source": [
        "def make_variables(strings, valid):\n",
        "    seqs_and_lens = [str2ascii(string)for string in strings]\n",
        "    vect_seqs = [s[0] for s in seqs_and_lens]\n",
        "    seq_lens = torch.LongTensor([s[1] for s in seqs_and_lens])\n",
        "    valid = torch.LongTensor(valid)\n",
        "    return pad_seq(vect_seqs, seq_lens, valid)"
      ],
      "execution_count": 0,
      "outputs": []
    },
    {
      "cell_type": "markdown",
      "metadata": {
        "colab_type": "text",
        "id": "P1kyF1n6GexA"
      },
      "source": [
        "#### Define model class"
      ]
    },
    {
      "cell_type": "code",
      "metadata": {
        "colab_type": "code",
        "id": "VKVStR_zDbs1",
        "colab": {}
      },
      "source": [
        "class RNNModel(nn.Module):\n",
        "    def __init__(self, input_size, output_size, hidden_layers : list):\n",
        "        super(RNNModel, self).__init__()\n",
        "\n",
        "        self.embedding = nn.Embedding(input_size, hidden_layers[0])\n",
        "        self.rnn = DeepRNN(hidden_layers[0], hidden_layers, mode='lstm')\n",
        "        self.fc = nn.Linear(hidden_layers[-1], output_size)\n",
        "        \n",
        "    def forward(self, input):\n",
        "        input = input.t()\n",
        "        embedded = self.embedding(input)\n",
        "\n",
        "        output, hiddens = self.rnn(embedded)\n",
        "\n",
        "        output = self.fc(output[-1])\n",
        "        return output"
      ],
      "execution_count": 0,
      "outputs": []
    },
    {
      "cell_type": "markdown",
      "metadata": {
        "colab_type": "text",
        "id": "lQT4Qq2WGexR"
      },
      "source": [
        "#### Training function"
      ]
    },
    {
      "cell_type": "code",
      "metadata": {
        "colab_type": "code",
        "id": "ZRmp2k9KGexW",
        "colab": {}
      },
      "source": [
        "def train():\n",
        "    total_loss = 0\n",
        "    \n",
        "    for i, (string, valid) in enumerate(train_loader, 1):\n",
        "        input, seq_lens, target = make_variables(string, valid)\n",
        "\n",
        "        output = classifier(input)\n",
        "        \n",
        "        loss = criterion(output, target)\n",
        "        total_loss += loss.data.item()\n",
        "        \n",
        "        classifier.zero_grad()\n",
        "        loss.backward()\n",
        "        optimizer.step()\n",
        "        \n",
        "        if i % 100 == 0:\n",
        "            print('{}/{}\\tLoss: {:.5f}'.format(i * len(string), len(train_loader.dataset), total_loss / i * len(string)))"
      ],
      "execution_count": 0,
      "outputs": []
    },
    {
      "cell_type": "markdown",
      "metadata": {
        "colab_type": "text",
        "id": "zsOtVzFNGexe"
      },
      "source": [
        "#### Testing function"
      ]
    },
    {
      "cell_type": "code",
      "metadata": {
        "colab_type": "code",
        "id": "ferW61amIjFP",
        "colab": {}
      },
      "source": [
        "test_acc = []"
      ],
      "execution_count": 0,
      "outputs": []
    },
    {
      "cell_type": "code",
      "metadata": {
        "colab_type": "code",
        "id": "EtDP_hJ0Gexh",
        "colab": {}
      },
      "source": [
        "def test():\n",
        "    correct = 0.\n",
        "    test_data_size = len(test_loader.dataset)\n",
        "    \n",
        "    for string, valid in test_loader:\n",
        "        input, seq_lens, target = make_variables(string, valid)\n",
        "\n",
        "        output = classifier(input)\n",
        "\n",
        "        pred = output.data.max(1, keepdim=True)[1]\n",
        "        correct += pred.eq(target.data.view_as(pred)).cpu().sum()\n",
        "\n",
        "    acc = 100 * correct / test_data_size\n",
        "    test_acc.append(acc)\n",
        "        \n",
        "    print('\\nAccuracy: {:.2f}%\\n'.format(acc))"
      ],
      "execution_count": 0,
      "outputs": []
    },
    {
      "cell_type": "markdown",
      "metadata": {
        "colab_type": "text",
        "id": "Yudx6wVtGex2"
      },
      "source": [
        "#### Time for action!"
      ]
    },
    {
      "cell_type": "markdown",
      "metadata": {
        "colab_type": "text",
        "id": "e3jvvliDejlg"
      },
      "source": [
        "#### Base RNN"
      ]
    },
    {
      "cell_type": "code",
      "metadata": {
        "colab_type": "code",
        "id": "4emJ3S77Gex7",
        "colab": {}
      },
      "source": [
        "classifier = RNNModel(INPUT_SIZE, 2, [100, 100, 100])"
      ],
      "execution_count": 0,
      "outputs": []
    },
    {
      "cell_type": "code",
      "metadata": {
        "colab_type": "code",
        "id": "10fUO7njcK06",
        "colab": {}
      },
      "source": [
        "optimizer = torch.optim.Adam(classifier.parameters(), lr=0.001)\n",
        "criterion = nn.CrossEntropyLoss()"
      ],
      "execution_count": 0,
      "outputs": []
    },
    {
      "cell_type": "code",
      "metadata": {
        "colab_type": "code",
        "id": "2az6-B2FGey3",
        "outputId": "860b521c-f1fc-4d42-87fc-e3fa9cd31d71",
        "colab": {
          "base_uri": "https://localhost:8080/",
          "height": 1000
        }
      },
      "source": [
        "%%time\n",
        "for epoch in range(1, EPOCHS+1):\n",
        "    print('Epoch #{}\\n{}'.format(epoch, 12*'-'))\n",
        "    train()\n",
        "    test()"
      ],
      "execution_count": 23,
      "outputs": [
        {
          "output_type": "stream",
          "text": [
            "Epoch #1\n",
            "------------\n",
            "1600/18750\tLoss: 6.84215\n",
            "3200/18750\tLoss: 5.22083\n",
            "4800/18750\tLoss: 4.54836\n",
            "6400/18750\tLoss: 4.19193\n",
            "8000/18750\tLoss: 3.86605\n",
            "9600/18750\tLoss: 3.40945\n",
            "11200/18750\tLoss: 2.96861\n",
            "12800/18750\tLoss: 2.60730\n",
            "14400/18750\tLoss: 2.31788\n",
            "16000/18750\tLoss: 2.08643\n",
            "17600/18750\tLoss: 1.89765\n",
            "\n",
            "Accuracy: 99.98%\n",
            "\n",
            "Epoch #2\n",
            "------------\n",
            "1600/18750\tLoss: 0.00723\n",
            "3200/18750\tLoss: 0.01738\n",
            "4800/18750\tLoss: 0.01300\n",
            "6400/18750\tLoss: 0.13316\n",
            "8000/18750\tLoss: 0.14233\n",
            "9600/18750\tLoss: 0.15429\n",
            "11200/18750\tLoss: 0.13470\n",
            "12800/18750\tLoss: 0.12496\n",
            "14400/18750\tLoss: 0.11371\n",
            "16000/18750\tLoss: 0.10284\n",
            "17600/18750\tLoss: 0.09480\n",
            "\n",
            "Accuracy: 100.00%\n",
            "\n",
            "Epoch #3\n",
            "------------\n",
            "1600/18750\tLoss: 0.00038\n",
            "3200/18750\tLoss: 0.00108\n",
            "4800/18750\tLoss: 0.00083\n",
            "6400/18750\tLoss: 0.00125\n",
            "8000/18750\tLoss: 0.00426\n",
            "9600/18750\tLoss: 0.00380\n",
            "11200/18750\tLoss: 0.00353\n",
            "12800/18750\tLoss: 0.00311\n",
            "14400/18750\tLoss: 0.00284\n",
            "16000/18750\tLoss: 0.00419\n",
            "17600/18750\tLoss: 0.00387\n",
            "\n",
            "Accuracy: 100.00%\n",
            "\n",
            "Epoch #4\n",
            "------------\n",
            "1600/18750\tLoss: 0.00009\n",
            "3200/18750\tLoss: 0.00009\n",
            "4800/18750\tLoss: 0.00023\n",
            "6400/18750\tLoss: 0.00018\n",
            "8000/18750\tLoss: 0.00016\n",
            "9600/18750\tLoss: 0.00014\n",
            "11200/18750\tLoss: 0.00013\n",
            "12800/18750\tLoss: 0.00012\n",
            "14400/18750\tLoss: 0.00011\n",
            "16000/18750\tLoss: 0.00011\n",
            "17600/18750\tLoss: 0.00010\n",
            "\n",
            "Accuracy: 100.00%\n",
            "\n",
            "Epoch #5\n",
            "------------\n",
            "1600/18750\tLoss: 0.00004\n",
            "3200/18750\tLoss: 0.00003\n",
            "4800/18750\tLoss: 0.00003\n",
            "6400/18750\tLoss: 0.00003\n",
            "8000/18750\tLoss: 0.00003\n",
            "9600/18750\tLoss: 0.00004\n",
            "11200/18750\tLoss: 0.00004\n",
            "12800/18750\tLoss: 0.00011\n",
            "14400/18750\tLoss: 0.00010\n",
            "16000/18750\tLoss: 0.00010\n",
            "17600/18750\tLoss: 0.00009\n",
            "\n",
            "Accuracy: 100.00%\n",
            "\n",
            "Epoch #6\n",
            "------------\n",
            "1600/18750\tLoss: 0.00002\n",
            "3200/18750\tLoss: 0.00002\n",
            "4800/18750\tLoss: 0.00002\n",
            "6400/18750\tLoss: 0.00002\n",
            "8000/18750\tLoss: 0.00002\n",
            "9600/18750\tLoss: 0.00002\n",
            "11200/18750\tLoss: 0.00001\n",
            "12800/18750\tLoss: 0.00001\n",
            "14400/18750\tLoss: 0.00001\n",
            "16000/18750\tLoss: 0.00001\n",
            "17600/18750\tLoss: 0.00001\n",
            "\n",
            "Accuracy: 100.00%\n",
            "\n",
            "Epoch #7\n",
            "------------\n",
            "1600/18750\tLoss: 0.00001\n",
            "3200/18750\tLoss: 0.00001\n",
            "4800/18750\tLoss: 0.00001\n",
            "6400/18750\tLoss: 0.00001\n",
            "8000/18750\tLoss: 0.00001\n",
            "9600/18750\tLoss: 0.00001\n",
            "11200/18750\tLoss: 0.00001\n",
            "12800/18750\tLoss: 0.00001\n",
            "14400/18750\tLoss: 0.00001\n",
            "16000/18750\tLoss: 0.00001\n",
            "17600/18750\tLoss: 0.00001\n",
            "\n",
            "Accuracy: 100.00%\n",
            "\n",
            "Epoch #8\n",
            "------------\n",
            "1600/18750\tLoss: 0.00000\n",
            "3200/18750\tLoss: 0.00000\n",
            "4800/18750\tLoss: 0.00000\n",
            "6400/18750\tLoss: 0.00000\n",
            "8000/18750\tLoss: 0.00000\n",
            "9600/18750\tLoss: 0.00000\n",
            "11200/18750\tLoss: 0.00000\n",
            "12800/18750\tLoss: 0.00000\n",
            "14400/18750\tLoss: 0.00000\n",
            "16000/18750\tLoss: 0.00000\n",
            "17600/18750\tLoss: 0.00000\n",
            "\n",
            "Accuracy: 100.00%\n",
            "\n",
            "Epoch #9\n",
            "------------\n",
            "1600/18750\tLoss: 0.00000\n",
            "3200/18750\tLoss: 0.00000\n",
            "4800/18750\tLoss: 0.00000\n",
            "6400/18750\tLoss: 0.00000\n",
            "8000/18750\tLoss: 0.00000\n",
            "9600/18750\tLoss: 0.00000\n",
            "11200/18750\tLoss: 0.00000\n",
            "12800/18750\tLoss: 0.00000\n",
            "14400/18750\tLoss: 0.00000\n",
            "16000/18750\tLoss: 0.00000\n",
            "17600/18750\tLoss: 0.00000\n",
            "\n",
            "Accuracy: 100.00%\n",
            "\n",
            "Epoch #10\n",
            "------------\n",
            "1600/18750\tLoss: 0.00000\n",
            "3200/18750\tLoss: 0.00000\n",
            "4800/18750\tLoss: 0.00000\n",
            "6400/18750\tLoss: 0.00000\n",
            "8000/18750\tLoss: 0.00000\n",
            "9600/18750\tLoss: 0.00000\n",
            "11200/18750\tLoss: 0.00000\n",
            "12800/18750\tLoss: 0.00000\n",
            "14400/18750\tLoss: 0.00000\n",
            "16000/18750\tLoss: 0.00000\n",
            "17600/18750\tLoss: 0.00000\n",
            "\n",
            "Accuracy: 100.00%\n",
            "\n",
            "Epoch #11\n",
            "------------\n",
            "1600/18750\tLoss: 0.00000\n",
            "3200/18750\tLoss: 0.00000\n",
            "4800/18750\tLoss: 0.00000\n",
            "6400/18750\tLoss: 0.00000\n",
            "8000/18750\tLoss: 0.00000\n",
            "9600/18750\tLoss: 0.00000\n",
            "11200/18750\tLoss: 0.00000\n",
            "12800/18750\tLoss: 0.00000\n",
            "14400/18750\tLoss: 0.00000\n",
            "16000/18750\tLoss: 0.00000\n",
            "17600/18750\tLoss: 0.00000\n",
            "\n",
            "Accuracy: 100.00%\n",
            "\n",
            "Epoch #12\n",
            "------------\n",
            "1600/18750\tLoss: 0.00000\n",
            "3200/18750\tLoss: 0.00000\n",
            "4800/18750\tLoss: 0.00000\n",
            "6400/18750\tLoss: 0.00000\n",
            "8000/18750\tLoss: 0.00000\n",
            "9600/18750\tLoss: 0.00000\n",
            "11200/18750\tLoss: 0.00000\n",
            "12800/18750\tLoss: 0.00000\n",
            "14400/18750\tLoss: 0.00000\n",
            "16000/18750\tLoss: 0.00000\n",
            "17600/18750\tLoss: 0.00000\n",
            "\n",
            "Accuracy: 100.00%\n",
            "\n",
            "Epoch #13\n",
            "------------\n",
            "1600/18750\tLoss: 0.00000\n",
            "3200/18750\tLoss: 0.00000\n",
            "4800/18750\tLoss: 0.00000\n",
            "6400/18750\tLoss: 0.00000\n",
            "8000/18750\tLoss: 0.00000\n",
            "9600/18750\tLoss: 0.00000\n",
            "11200/18750\tLoss: 0.00000\n",
            "12800/18750\tLoss: 0.00000\n",
            "14400/18750\tLoss: 0.00000\n",
            "16000/18750\tLoss: 0.00000\n",
            "17600/18750\tLoss: 0.00000\n",
            "\n",
            "Accuracy: 100.00%\n",
            "\n",
            "Epoch #14\n",
            "------------\n",
            "1600/18750\tLoss: 0.00000\n",
            "3200/18750\tLoss: 0.00000\n",
            "4800/18750\tLoss: 0.00000\n",
            "6400/18750\tLoss: 0.00000\n",
            "8000/18750\tLoss: 0.00000\n",
            "9600/18750\tLoss: 0.00000\n",
            "11200/18750\tLoss: 0.00000\n",
            "12800/18750\tLoss: 0.00000\n",
            "14400/18750\tLoss: 0.00000\n",
            "16000/18750\tLoss: 0.00000\n",
            "17600/18750\tLoss: 0.00000\n",
            "\n",
            "Accuracy: 100.00%\n",
            "\n",
            "Epoch #15\n",
            "------------\n",
            "1600/18750\tLoss: 0.00000\n",
            "3200/18750\tLoss: 0.00000\n",
            "4800/18750\tLoss: 0.00000\n",
            "6400/18750\tLoss: 0.00000\n",
            "8000/18750\tLoss: 0.00000\n",
            "9600/18750\tLoss: 0.00000\n",
            "11200/18750\tLoss: 0.00000\n",
            "12800/18750\tLoss: 0.00000\n",
            "14400/18750\tLoss: 0.00000\n",
            "16000/18750\tLoss: 0.00000\n",
            "17600/18750\tLoss: 0.00000\n",
            "\n",
            "Accuracy: 100.00%\n",
            "\n",
            "Epoch #16\n",
            "------------\n",
            "1600/18750\tLoss: 0.00000\n",
            "3200/18750\tLoss: 0.00000\n",
            "4800/18750\tLoss: 0.00000\n",
            "6400/18750\tLoss: 0.00000\n",
            "8000/18750\tLoss: 0.00000\n",
            "9600/18750\tLoss: 0.00000\n",
            "11200/18750\tLoss: 0.00000\n",
            "12800/18750\tLoss: 0.00000\n",
            "14400/18750\tLoss: 0.00000\n",
            "16000/18750\tLoss: 0.00000\n",
            "17600/18750\tLoss: 0.00000\n",
            "\n",
            "Accuracy: 100.00%\n",
            "\n",
            "Epoch #17\n",
            "------------\n",
            "1600/18750\tLoss: 0.00000\n",
            "3200/18750\tLoss: 0.00000\n",
            "4800/18750\tLoss: 0.00000\n",
            "6400/18750\tLoss: 0.00000\n",
            "8000/18750\tLoss: 0.00000\n",
            "9600/18750\tLoss: 0.00000\n",
            "11200/18750\tLoss: 0.00000\n",
            "12800/18750\tLoss: 0.00000\n",
            "14400/18750\tLoss: 0.00000\n",
            "16000/18750\tLoss: 0.00000\n",
            "17600/18750\tLoss: 0.00000\n",
            "\n",
            "Accuracy: 100.00%\n",
            "\n",
            "Epoch #18\n",
            "------------\n",
            "1600/18750\tLoss: 0.00000\n",
            "3200/18750\tLoss: 0.00000\n",
            "4800/18750\tLoss: 0.00000\n",
            "6400/18750\tLoss: 0.00000\n",
            "8000/18750\tLoss: 0.00000\n",
            "9600/18750\tLoss: 0.00000\n",
            "11200/18750\tLoss: 0.00000\n",
            "12800/18750\tLoss: 0.00000\n",
            "14400/18750\tLoss: 0.00000\n",
            "16000/18750\tLoss: 0.00000\n",
            "17600/18750\tLoss: 0.00000\n",
            "\n",
            "Accuracy: 100.00%\n",
            "\n",
            "Epoch #19\n",
            "------------\n",
            "1600/18750\tLoss: 0.00000\n",
            "3200/18750\tLoss: 0.00000\n",
            "4800/18750\tLoss: 0.00000\n",
            "6400/18750\tLoss: 0.00000\n",
            "8000/18750\tLoss: 0.00000\n",
            "9600/18750\tLoss: 0.00000\n",
            "11200/18750\tLoss: 0.00000\n",
            "12800/18750\tLoss: 0.00000\n",
            "14400/18750\tLoss: 0.00000\n",
            "16000/18750\tLoss: 0.00000\n",
            "17600/18750\tLoss: 0.00000\n",
            "\n",
            "Accuracy: 100.00%\n",
            "\n",
            "Epoch #20\n",
            "------------\n",
            "1600/18750\tLoss: 0.00000\n",
            "3200/18750\tLoss: 0.00000\n",
            "4800/18750\tLoss: 0.00000\n",
            "6400/18750\tLoss: 0.00000\n",
            "8000/18750\tLoss: 0.00000\n",
            "9600/18750\tLoss: 0.00000\n",
            "11200/18750\tLoss: 0.00000\n",
            "12800/18750\tLoss: 0.00000\n",
            "14400/18750\tLoss: 0.00000\n",
            "16000/18750\tLoss: 0.00000\n",
            "17600/18750\tLoss: 0.00000\n",
            "\n",
            "Accuracy: 100.00%\n",
            "\n",
            "Epoch #21\n",
            "------------\n",
            "1600/18750\tLoss: 0.00000\n",
            "3200/18750\tLoss: 0.00000\n",
            "4800/18750\tLoss: 0.00000\n",
            "6400/18750\tLoss: 0.00000\n",
            "8000/18750\tLoss: 0.00000\n",
            "9600/18750\tLoss: 0.00000\n",
            "11200/18750\tLoss: 0.00000\n",
            "12800/18750\tLoss: 0.00000\n",
            "14400/18750\tLoss: 0.00000\n",
            "16000/18750\tLoss: 0.00000\n",
            "17600/18750\tLoss: 0.00000\n",
            "\n",
            "Accuracy: 100.00%\n",
            "\n",
            "Epoch #22\n",
            "------------\n",
            "1600/18750\tLoss: 0.00000\n",
            "3200/18750\tLoss: 0.00000\n",
            "4800/18750\tLoss: 0.00000\n",
            "6400/18750\tLoss: 0.00000\n",
            "8000/18750\tLoss: 0.00000\n",
            "9600/18750\tLoss: 0.00000\n",
            "11200/18750\tLoss: 0.00000\n",
            "12800/18750\tLoss: 0.00000\n",
            "14400/18750\tLoss: 0.00000\n",
            "16000/18750\tLoss: 0.00000\n",
            "17600/18750\tLoss: 0.00000\n",
            "\n",
            "Accuracy: 100.00%\n",
            "\n",
            "Epoch #23\n",
            "------------\n",
            "1600/18750\tLoss: 0.00000\n",
            "3200/18750\tLoss: 0.00000\n",
            "4800/18750\tLoss: 0.00000\n",
            "6400/18750\tLoss: 0.00000\n",
            "8000/18750\tLoss: 0.00000\n",
            "9600/18750\tLoss: 0.00000\n",
            "11200/18750\tLoss: 0.00000\n",
            "12800/18750\tLoss: 0.00000\n",
            "14400/18750\tLoss: 0.00000\n",
            "16000/18750\tLoss: 0.00000\n",
            "17600/18750\tLoss: 0.00000\n",
            "\n",
            "Accuracy: 100.00%\n",
            "\n",
            "Epoch #24\n",
            "------------\n",
            "1600/18750\tLoss: 0.00000\n",
            "3200/18750\tLoss: 0.00000\n",
            "4800/18750\tLoss: 0.00000\n",
            "6400/18750\tLoss: 0.00000\n",
            "8000/18750\tLoss: 0.00000\n",
            "9600/18750\tLoss: 0.00000\n",
            "11200/18750\tLoss: 0.00000\n",
            "12800/18750\tLoss: 0.00000\n",
            "14400/18750\tLoss: 0.00000\n",
            "16000/18750\tLoss: 0.00000\n",
            "17600/18750\tLoss: 0.00000\n",
            "\n",
            "Accuracy: 100.00%\n",
            "\n",
            "Epoch #25\n",
            "------------\n",
            "1600/18750\tLoss: 0.00000\n",
            "3200/18750\tLoss: 0.00000\n",
            "4800/18750\tLoss: 0.00000\n",
            "6400/18750\tLoss: 0.00000\n",
            "8000/18750\tLoss: 0.00000\n",
            "9600/18750\tLoss: 0.00000\n",
            "11200/18750\tLoss: 0.00000\n",
            "12800/18750\tLoss: 0.00000\n",
            "14400/18750\tLoss: 0.00000\n",
            "16000/18750\tLoss: 0.00000\n",
            "17600/18750\tLoss: 0.00000\n",
            "\n",
            "Accuracy: 100.00%\n",
            "\n",
            "Epoch #26\n",
            "------------\n",
            "1600/18750\tLoss: 0.00000\n",
            "3200/18750\tLoss: 0.00000\n",
            "4800/18750\tLoss: 0.00000\n",
            "6400/18750\tLoss: 0.00000\n",
            "8000/18750\tLoss: 0.00000\n",
            "9600/18750\tLoss: 0.00000\n",
            "11200/18750\tLoss: 0.00000\n",
            "12800/18750\tLoss: 0.00000\n",
            "14400/18750\tLoss: 0.00000\n",
            "16000/18750\tLoss: 0.00000\n",
            "17600/18750\tLoss: 0.00000\n",
            "\n",
            "Accuracy: 100.00%\n",
            "\n",
            "Epoch #27\n",
            "------------\n",
            "1600/18750\tLoss: 0.00000\n",
            "3200/18750\tLoss: 0.00000\n",
            "4800/18750\tLoss: 0.00000\n",
            "6400/18750\tLoss: 0.00000\n",
            "8000/18750\tLoss: 0.00000\n",
            "9600/18750\tLoss: 0.00000\n",
            "11200/18750\tLoss: 0.00000\n",
            "12800/18750\tLoss: 0.00000\n",
            "14400/18750\tLoss: 0.00000\n",
            "16000/18750\tLoss: 0.00000\n",
            "17600/18750\tLoss: 0.00000\n",
            "\n",
            "Accuracy: 100.00%\n",
            "\n",
            "Epoch #28\n",
            "------------\n",
            "1600/18750\tLoss: 0.00000\n",
            "3200/18750\tLoss: 0.00000\n",
            "4800/18750\tLoss: 0.00000\n",
            "6400/18750\tLoss: 0.00000\n",
            "8000/18750\tLoss: 0.00000\n",
            "9600/18750\tLoss: 0.00000\n",
            "11200/18750\tLoss: 0.00000\n",
            "12800/18750\tLoss: 0.00000\n",
            "14400/18750\tLoss: 0.00000\n",
            "16000/18750\tLoss: 0.00000\n",
            "17600/18750\tLoss: 0.00000\n",
            "\n",
            "Accuracy: 100.00%\n",
            "\n",
            "Epoch #29\n",
            "------------\n",
            "1600/18750\tLoss: 0.00000\n",
            "3200/18750\tLoss: 0.00000\n",
            "4800/18750\tLoss: 0.00000\n",
            "6400/18750\tLoss: 0.00000\n",
            "8000/18750\tLoss: 0.00000\n",
            "9600/18750\tLoss: 0.00000\n",
            "11200/18750\tLoss: 0.00000\n",
            "12800/18750\tLoss: 0.00000\n",
            "14400/18750\tLoss: 0.00000\n",
            "16000/18750\tLoss: 0.00000\n",
            "17600/18750\tLoss: 0.00000\n",
            "\n",
            "Accuracy: 100.00%\n",
            "\n",
            "Epoch #30\n",
            "------------\n",
            "1600/18750\tLoss: 0.00000\n",
            "3200/18750\tLoss: 0.00000\n",
            "4800/18750\tLoss: 0.00000\n",
            "6400/18750\tLoss: 0.00000\n",
            "8000/18750\tLoss: 0.00000\n",
            "9600/18750\tLoss: 0.00000\n",
            "11200/18750\tLoss: 0.00000\n",
            "12800/18750\tLoss: 0.00000\n",
            "14400/18750\tLoss: 0.00000\n",
            "16000/18750\tLoss: 0.00000\n",
            "17600/18750\tLoss: 0.00000\n",
            "\n",
            "Accuracy: 100.00%\n",
            "\n",
            "CPU times: user 1h 36min 38s, sys: 25.2 s, total: 1h 37min 3s\n",
            "Wall time: 1h 37min 17s\n"
          ],
          "name": "stdout"
        }
      ]
    },
    {
      "cell_type": "code",
      "metadata": {
        "id": "hBcNe-rQVAHg",
        "colab_type": "code",
        "outputId": "bf41350d-9a00-4405-e8fe-abdb448d3b3c",
        "colab": {
          "base_uri": "https://localhost:8080/",
          "height": 350
        }
      },
      "source": [
        "plt.figure(figsize=(8, 5))\n",
        "plt.title('{} Test Evaluation'.format(MODEL.upper()))\n",
        "plt.xlabel('Epochs')\n",
        "plt.ylabel('Accuracy %')\n",
        "plt.savefig('{}_accuracies.png'.format(MODEL.upper()))\n",
        "plt.plot(range(1, EPOCHS+1), test_acc);"
      ],
      "execution_count": 53,
      "outputs": [
        {
          "output_type": "display_data",
          "data": {
            "image/png": "[encoded data removed]",
            "text/plain": [
              "<Figure size 576x360 with 1 Axes>"
            ]
          },
          "metadata": {
            "tags": []
          }
        }
      ]
    },
    {
      "cell_type": "markdown",
      "metadata": {
        "id": "zdFairpCRiWk",
        "colab_type": "text"
      },
      "source": [
        "#### Save model and `state_dict` of model"
      ]
    },
    {
      "cell_type": "code",
      "metadata": {
        "id": "WwmhF6IQWQVH",
        "colab_type": "code",
        "colab": {}
      },
      "source": [
        "with open('{}_accuracies.txt'.format(MODEL.upper()), 'a') as f:\n",
        "    f.write('{}'.format(MODEL.upper()) + ':' + ','.join(str(a.item()) for a in test_acc) + '\\n')"
      ],
      "execution_count": 0,
      "outputs": []
    },
    {
      "cell_type": "code",
      "metadata": {
        "id": "J9lyRNkjRo66",
        "colab_type": "code",
        "colab": {}
      },
      "source": [
        "torch.save(classifier.state_dict(), './{}_state_dict.pt'.format(MODEL.upper()))"
      ],
      "execution_count": 0,
      "outputs": []
    },
    {
      "cell_type": "code",
      "metadata": {
        "id": "jEu0CimySHip",
        "colab_type": "code",
        "outputId": "00387da0-ffad-406f-fa88-8c5ee9835b69",
        "colab": {
          "base_uri": "https://localhost:8080/",
          "height": 241
        }
      },
      "source": [
        "torch.save(classifier, './{}.pt'.format(MODEL.upper()))"
      ],
      "execution_count": 27,
      "outputs": [
        {
          "output_type": "stream",
          "text": [
            "/usr/local/lib/python3.6/dist-packages/torch/serialization.py:292: UserWarning: Couldn't retrieve source code for container of type RNNModel. It won't be checked for correctness upon loading.\n",
            "  \"type \" + obj.__name__ + \". It won't be checked \"\n",
            "/usr/local/lib/python3.6/dist-packages/torch/serialization.py:292: UserWarning: Couldn't retrieve source code for container of type Embedding. It won't be checked for correctness upon loading.\n",
            "  \"type \" + obj.__name__ + \". It won't be checked \"\n",
            "/usr/local/lib/python3.6/dist-packages/torch/serialization.py:292: UserWarning: Couldn't retrieve source code for container of type DeepRNN. It won't be checked for correctness upon loading.\n",
            "  \"type \" + obj.__name__ + \". It won't be checked \"\n",
            "/usr/local/lib/python3.6/dist-packages/torch/serialization.py:292: UserWarning: Couldn't retrieve source code for container of type LSTMCell. It won't be checked for correctness upon loading.\n",
            "  \"type \" + obj.__name__ + \". It won't be checked \"\n",
            "/usr/local/lib/python3.6/dist-packages/torch/serialization.py:292: UserWarning: Couldn't retrieve source code for container of type ModuleList. It won't be checked for correctness upon loading.\n",
            "  \"type \" + obj.__name__ + \". It won't be checked \"\n",
            "/usr/local/lib/python3.6/dist-packages/torch/serialization.py:292: UserWarning: Couldn't retrieve source code for container of type Linear. It won't be checked for correctness upon loading.\n",
            "  \"type \" + obj.__name__ + \". It won't be checked \"\n"
          ],
          "name": "stderr"
        }
      ]
    }
  ]
}