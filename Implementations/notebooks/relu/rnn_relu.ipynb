{
  "nbformat": 4,
  "nbformat_minor": 0,
  "metadata": {
    "accelerator": "GPU",
    "colab": {
      "name": "rnn.ipynb",
      "provenance": [],
      "collapsed_sections": [],
      "toc_visible": true
    },
    "kernelspec": {
      "display_name": "Python 3",
      "language": "python",
      "name": "python3"
    },
    "language_info": {
      "codemirror_mode": {
        "name": "ipython",
        "version": 3
      },
      "file_extension": ".py",
      "mimetype": "text/x-python",
      "name": "python",
      "nbconvert_exporter": "python",
      "pygments_lexer": "ipython3",
      "version": "3.6.9"
    }
  },
  "cells": [
    {
      "cell_type": "code",
      "metadata": {
        "id": "YTdml_ZZO04W",
        "colab_type": "code",
        "colab": {}
      },
      "source": [
        "import sys\n",
        "sys.path.append('../')"
      ],
      "execution_count": 0,
      "outputs": []
    },
    {
      "cell_type": "code",
      "metadata": {
        "colab_type": "code",
        "id": "jnlVHBXYGevQ",
        "colab": {}
      },
      "source": [
        "import torch\n",
        "import torch.nn as nn\n",
        "from torch.autograd import Variable\n",
        "from torch.utils.data import Dataset, DataLoader\n",
        "from torch.nn.utils.rnn import pack_padded_sequence, pad_packed_sequence\n",
        "\n",
        "from CustomRNN import DeepRNN\n",
        "\n",
        "import pandas as pd\n",
        "import matplotlib.pyplot as plt\n",
        "import seaborn as sns\n",
        "\n",
        "from torchsummary import summary"
      ],
      "execution_count": 0,
      "outputs": []
    },
    {
      "cell_type": "code",
      "metadata": {
        "id": "SnJ89dAtiljA",
        "colab_type": "code",
        "colab": {}
      },
      "source": [
        "sns.set_style(\"darkgrid\")"
      ],
      "execution_count": 0,
      "outputs": []
    },
    {
      "cell_type": "markdown",
      "metadata": {
        "colab_type": "text",
        "id": "OQRUiZIIGevb"
      },
      "source": [
        "#### Import, shuffle and split dataset"
      ]
    },
    {
      "cell_type": "code",
      "metadata": {
        "colab_type": "code",
        "id": "Hc-jfPQDGevd",
        "colab": {}
      },
      "source": [
        "data = pd.read_csv('reber_sequences.csv')"
      ],
      "execution_count": 0,
      "outputs": []
    },
    {
      "cell_type": "code",
      "metadata": {
        "colab_type": "code",
        "id": "VZt1tuMDGevl",
        "colab": {}
      },
      "source": [
        "data = data.sample(frac=1).reset_index(drop=True)"
      ],
      "execution_count": 0,
      "outputs": []
    },
    {
      "cell_type": "code",
      "metadata": {
        "colab_type": "code",
        "id": "9FVvyiR2Gevt",
        "colab": {}
      },
      "source": [
        "train_data = data[:int(.75*len(data))]\n",
        "test_data = data[len(train_data):]"
      ],
      "execution_count": 0,
      "outputs": []
    },
    {
      "cell_type": "code",
      "metadata": {
        "colab_type": "code",
        "id": "hFGa03AvGevx",
        "outputId": "9dbbe44e-9dcd-4c80-82d2-5463561aa256",
        "colab": {
          "base_uri": "https://localhost:8080/",
          "height": 68
        }
      },
      "source": [
        "print('Total length: {}\\nTrain data length: {}\\nTest data length: {}'.format(len(data), len(train_data), len(test_data)))"
      ],
      "execution_count": 7,
      "outputs": [
        {
          "output_type": "stream",
          "text": [
            "Total length: 25000\n",
            "Train data length: 18750\n",
            "Test data length: 6250\n"
          ],
          "name": "stdout"
        }
      ]
    },
    {
      "cell_type": "markdown",
      "metadata": {
        "colab_type": "text",
        "id": "uCoah1gRGev6"
      },
      "source": [
        "#### Parameters"
      ]
    },
    {
      "cell_type": "code",
      "metadata": {
        "colab_type": "code",
        "id": "6wDwJmInGev8",
        "colab": {}
      },
      "source": [
        "BATCH_SIZE = 16\n",
        "EPOCHS = 30\n",
        "OUTPUT_SIZE = 2\n",
        "INPUT_SIZE = 128"
      ],
      "execution_count": 0,
      "outputs": []
    },
    {
      "cell_type": "code",
      "metadata": {
        "id": "CKtaST_DiqQR",
        "colab_type": "code",
        "colab": {}
      },
      "source": [
        "MODEL = 'rnn-relu'"
      ],
      "execution_count": 0,
      "outputs": []
    },
    {
      "cell_type": "markdown",
      "metadata": {
        "colab_type": "text",
        "id": "mETf9K_7GewC"
      },
      "source": [
        "#### Customize `Dataset` and create loaders"
      ]
    },
    {
      "cell_type": "code",
      "metadata": {
        "colab_type": "code",
        "id": "tvZNBTBqGewD",
        "colab": {}
      },
      "source": [
        "class MakeDataset(Dataset):\n",
        "    def __init__(self, data):\n",
        "        self.strings = list(data['string'])\n",
        "        self.valid = list(data['valid'])\n",
        "        self.len = len(self.valid)\n",
        "        self.valid_list = [0, 1]\n",
        "\n",
        "    def __getitem__(self, index):\n",
        "        return self.strings[index], self.valid[index]\n",
        "\n",
        "    def __len__(self):\n",
        "        return self.len"
      ],
      "execution_count": 0,
      "outputs": []
    },
    {
      "cell_type": "markdown",
      "metadata": {
        "colab_type": "text",
        "id": "qtRtnbUPGewI"
      },
      "source": [
        "Create train loader"
      ]
    },
    {
      "cell_type": "code",
      "metadata": {
        "colab_type": "code",
        "id": "qIkc37iDGewJ",
        "colab": {}
      },
      "source": [
        "dataset = MakeDataset(train_data)\n",
        "train_loader = DataLoader(dataset=dataset, batch_size=BATCH_SIZE, shuffle=True)"
      ],
      "execution_count": 0,
      "outputs": []
    },
    {
      "cell_type": "markdown",
      "metadata": {
        "colab_type": "text",
        "id": "Onw5bwfjGewO"
      },
      "source": [
        "Create test loader"
      ]
    },
    {
      "cell_type": "code",
      "metadata": {
        "colab_type": "code",
        "id": "8me9-GUdGewP",
        "colab": {}
      },
      "source": [
        "dataset = MakeDataset(test_data)\n",
        "test_loader = DataLoader(dataset=dataset, batch_size=BATCH_SIZE, shuffle=True)"
      ],
      "execution_count": 0,
      "outputs": []
    },
    {
      "cell_type": "markdown",
      "metadata": {
        "colab_type": "text",
        "id": "HiAzJtMSGewW"
      },
      "source": [
        "#### Some helper functions"
      ]
    },
    {
      "cell_type": "code",
      "metadata": {
        "colab_type": "code",
        "id": "VX5oPdsWGewX",
        "colab": {}
      },
      "source": [
        "def create_variable(tensor):\n",
        "    return Variable(tensor)"
      ],
      "execution_count": 0,
      "outputs": []
    },
    {
      "cell_type": "code",
      "metadata": {
        "colab_type": "code",
        "id": "rCKTIEbbGewh",
        "colab": {}
      },
      "source": [
        "def pad_seq(vect_seqs, seq_lens, valid):\n",
        "    seq_tensor = torch.zeros((len(vect_seqs), seq_lens.max())).long()\n",
        "    \n",
        "    for index, (seq, seq_len) in enumerate(zip(vect_seqs, seq_lens)):\n",
        "        seq_tensor[index, :seq_len] = torch.LongTensor(seq)\n",
        "        \n",
        "    return create_variable(seq_tensor), create_variable(seq_lens), create_variable(valid)"
      ],
      "execution_count": 0,
      "outputs": []
    },
    {
      "cell_type": "code",
      "metadata": {
        "colab_type": "code",
        "id": "BOeyEku_Gewn",
        "colab": {}
      },
      "source": [
        "def str2ascii(string):\n",
        "    ascii_arr = [ord(s) for s in string]\n",
        "    return ascii_arr, len(ascii_arr)"
      ],
      "execution_count": 0,
      "outputs": []
    },
    {
      "cell_type": "code",
      "metadata": {
        "colab_type": "code",
        "id": "g5HS0oTzGewq",
        "colab": {}
      },
      "source": [
        "def make_variables(strings, valid):\n",
        "    seqs_and_lens = [str2ascii(string)for string in strings]\n",
        "    vect_seqs = [s[0] for s in seqs_and_lens]\n",
        "    seq_lens = torch.LongTensor([s[1] for s in seqs_and_lens])\n",
        "    valid = torch.LongTensor(valid)\n",
        "    return pad_seq(vect_seqs, seq_lens, valid)"
      ],
      "execution_count": 0,
      "outputs": []
    },
    {
      "cell_type": "markdown",
      "metadata": {
        "colab_type": "text",
        "id": "P1kyF1n6GexA"
      },
      "source": [
        "#### Define model class"
      ]
    },
    {
      "cell_type": "code",
      "metadata": {
        "colab_type": "code",
        "id": "VKVStR_zDbs1",
        "colab": {}
      },
      "source": [
        "class RNNModel(nn.Module):\n",
        "    def __init__(self, input_size, output_size, hidden_layers : list):\n",
        "        super(RNNModel, self).__init__()\n",
        "\n",
        "        self.embedding = nn.Embedding(input_size, hidden_layers[0])\n",
        "        self.rnn = DeepRNN(hidden_layers[0], hidden_layers, mode='relu')\n",
        "        self.fc = nn.Linear(hidden_layers[-1], output_size)\n",
        "        \n",
        "    def forward(self, input):\n",
        "        input = input.t()\n",
        "        embedded = self.embedding(input)\n",
        "\n",
        "        output, hiddens = self.rnn(embedded)\n",
        "\n",
        "        output = self.fc(output[-1])\n",
        "        return output"
      ],
      "execution_count": 0,
      "outputs": []
    },
    {
      "cell_type": "markdown",
      "metadata": {
        "colab_type": "text",
        "id": "lQT4Qq2WGexR"
      },
      "source": [
        "#### Training function"
      ]
    },
    {
      "cell_type": "code",
      "metadata": {
        "colab_type": "code",
        "id": "ZRmp2k9KGexW",
        "colab": {}
      },
      "source": [
        "def train():\n",
        "    total_loss = 0\n",
        "    \n",
        "    for i, (string, valid) in enumerate(train_loader, 1):\n",
        "        input, seq_lens, target = make_variables(string, valid)\n",
        "\n",
        "        output = classifier(input)\n",
        "        \n",
        "        loss = criterion(output, target)\n",
        "        total_loss += loss.data.item()\n",
        "        \n",
        "        classifier.zero_grad()\n",
        "        loss.backward()\n",
        "        optimizer.step()\n",
        "        \n",
        "        if i % 100 == 0:\n",
        "            print('{}/{}\\tLoss: {:.5f}'.format(i * len(string), len(train_loader.dataset), total_loss / i * len(string)))"
      ],
      "execution_count": 0,
      "outputs": []
    },
    {
      "cell_type": "markdown",
      "metadata": {
        "colab_type": "text",
        "id": "zsOtVzFNGexe"
      },
      "source": [
        "#### Testing function"
      ]
    },
    {
      "cell_type": "code",
      "metadata": {
        "colab_type": "code",
        "id": "ferW61amIjFP",
        "colab": {}
      },
      "source": [
        "test_acc = []"
      ],
      "execution_count": 0,
      "outputs": []
    },
    {
      "cell_type": "code",
      "metadata": {
        "colab_type": "code",
        "id": "EtDP_hJ0Gexh",
        "colab": {}
      },
      "source": [
        "def test():\n",
        "    correct = 0.\n",
        "    test_data_size = len(test_loader.dataset)\n",
        "    \n",
        "    for string, valid in test_loader:\n",
        "        input, seq_lens, target = make_variables(string, valid)\n",
        "\n",
        "        output = classifier(input)\n",
        "\n",
        "        pred = output.data.max(1, keepdim=True)[1]\n",
        "        correct += pred.eq(target.data.view_as(pred)).cpu().sum()\n",
        "\n",
        "    acc = 100 * correct / test_data_size\n",
        "    test_acc.append(acc)\n",
        "        \n",
        "    print('\\nAccuracy: {:.2f}%\\n'.format(acc))"
      ],
      "execution_count": 0,
      "outputs": []
    },
    {
      "cell_type": "markdown",
      "metadata": {
        "colab_type": "text",
        "id": "Yudx6wVtGex2"
      },
      "source": [
        "#### Time for action!"
      ]
    },
    {
      "cell_type": "markdown",
      "metadata": {
        "colab_type": "text",
        "id": "e3jvvliDejlg"
      },
      "source": [
        "#### Base RNN"
      ]
    },
    {
      "cell_type": "code",
      "metadata": {
        "colab_type": "code",
        "id": "4emJ3S77Gex7",
        "colab": {}
      },
      "source": [
        "classifier = RNNModel(INPUT_SIZE, 2, [100, 100, 100])"
      ],
      "execution_count": 0,
      "outputs": []
    },
    {
      "cell_type": "code",
      "metadata": {
        "colab_type": "code",
        "id": "10fUO7njcK06",
        "colab": {}
      },
      "source": [
        "optimizer = torch.optim.Adam(classifier.parameters(), lr=0.001)\n",
        "criterion = nn.CrossEntropyLoss()"
      ],
      "execution_count": 0,
      "outputs": []
    },
    {
      "cell_type": "code",
      "metadata": {
        "colab_type": "code",
        "id": "2az6-B2FGey3",
        "outputId": "915b32fe-a9e1-41fc-8741-f64c0272d146",
        "colab": {
          "base_uri": "https://localhost:8080/",
          "height": 1000
        }
      },
      "source": [
        "%%time\n",
        "for epoch in range(1, EPOCHS+1):\n",
        "    print('Epoch #{}\\n{}'.format(epoch, 12*'-'))\n",
        "    train()\n",
        "    test()"
      ],
      "execution_count": 23,
      "outputs": [
        {
          "output_type": "stream",
          "text": [
            "Epoch #1\n",
            "------------\n",
            "1600/18750\tLoss: 10.28849\n",
            "3200/18750\tLoss: 7.36211\n",
            "4800/18750\tLoss: 8.37168\n",
            "6400/18750\tLoss: 7.09679\n",
            "8000/18750\tLoss: 6.25665\n",
            "9600/18750\tLoss: 5.68907\n",
            "11200/18750\tLoss: 5.31764\n",
            "12800/18750\tLoss: 5.03728\n",
            "14400/18750\tLoss: 4.81559\n",
            "16000/18750\tLoss: 4.64026\n",
            "17600/18750\tLoss: 4.47845\n",
            "\n",
            "Accuracy: 94.18%\n",
            "\n",
            "Epoch #2\n",
            "------------\n",
            "1600/18750\tLoss: 2.83132\n",
            "3200/18750\tLoss: 3.39134\n",
            "4800/18750\tLoss: 3.40795\n",
            "6400/18750\tLoss: 3.30381\n",
            "8000/18750\tLoss: 3.21927\n",
            "9600/18750\tLoss: 3.51987\n",
            "11200/18750\tLoss: 3.41984\n",
            "12800/18750\tLoss: 3.35950\n",
            "14400/18750\tLoss: 3.36211\n",
            "16000/18750\tLoss: 3.29519\n",
            "17600/18750\tLoss: 3.26739\n",
            "\n",
            "Accuracy: 94.06%\n",
            "\n",
            "Epoch #3\n",
            "------------\n",
            "1600/18750\tLoss: 2.84439\n",
            "3200/18750\tLoss: 2.85387\n",
            "4800/18750\tLoss: 2.86728\n",
            "6400/18750\tLoss: 2.93182\n",
            "8000/18750\tLoss: 2.92925\n",
            "9600/18750\tLoss: 2.83427\n",
            "11200/18750\tLoss: 2.87932\n",
            "12800/18750\tLoss: 3.04463\n",
            "14400/18750\tLoss: 3.00469\n",
            "16000/18750\tLoss: 3.00986\n",
            "17600/18750\tLoss: 2.98507\n",
            "\n",
            "Accuracy: 94.06%\n",
            "\n",
            "Epoch #4\n",
            "------------\n",
            "1600/18750\tLoss: 2.63574\n",
            "3200/18750\tLoss: 2.89375\n",
            "4800/18750\tLoss: 2.89230\n",
            "6400/18750\tLoss: 2.77071\n",
            "8000/18750\tLoss: 2.80461\n",
            "9600/18750\tLoss: 2.82019\n",
            "11200/18750\tLoss: 2.79309\n",
            "12800/18750\tLoss: 2.79869\n",
            "14400/18750\tLoss: 2.79962\n",
            "16000/18750\tLoss: 2.80685\n",
            "17600/18750\tLoss: 2.79719\n",
            "\n",
            "Accuracy: 94.16%\n",
            "\n",
            "Epoch #5\n",
            "------------\n",
            "1600/18750\tLoss: 2.68652\n",
            "3200/18750\tLoss: 2.68401\n",
            "4800/18750\tLoss: 2.66811\n",
            "6400/18750\tLoss: 2.73738\n",
            "8000/18750\tLoss: 2.74107\n",
            "9600/18750\tLoss: 2.73211\n",
            "11200/18750\tLoss: 2.73702\n",
            "12800/18750\tLoss: 2.72656\n",
            "14400/18750\tLoss: 2.74682\n",
            "16000/18750\tLoss: 2.74755\n",
            "17600/18750\tLoss: 19.13769\n",
            "\n",
            "Accuracy: 81.97%\n",
            "\n",
            "Epoch #6\n",
            "------------\n",
            "1600/18750\tLoss: 7.17566\n",
            "3200/18750\tLoss: 6.57745\n",
            "4800/18750\tLoss: 6.04287\n",
            "6400/18750\tLoss: 5.37025\n",
            "8000/18750\tLoss: 4.89334\n",
            "9600/18750\tLoss: 4.47868\n",
            "11200/18750\tLoss: 4.33294\n",
            "12800/18750\tLoss: 4.11395\n",
            "14400/18750\tLoss: 3.99387\n",
            "16000/18750\tLoss: 3.86494\n",
            "17600/18750\tLoss: 3.78970\n",
            "\n",
            "Accuracy: 94.13%\n",
            "\n",
            "Epoch #7\n",
            "------------\n",
            "1600/18750\tLoss: 2.58339\n",
            "3200/18750\tLoss: 2.60512\n",
            "4800/18750\tLoss: 2.67561\n",
            "6400/18750\tLoss: 2.72242\n",
            "8000/18750\tLoss: 2.78915\n",
            "9600/18750\tLoss: 2.81286\n",
            "11200/18750\tLoss: 2.81970\n",
            "12800/18750\tLoss: 2.84587\n",
            "14400/18750\tLoss: 2.80578\n",
            "16000/18750\tLoss: 2.78925\n",
            "17600/18750\tLoss: 2.79459\n",
            "\n",
            "Accuracy: 94.14%\n",
            "\n",
            "Epoch #8\n",
            "------------\n",
            "1600/18750\tLoss: 2.82911\n",
            "3200/18750\tLoss: 2.67426\n",
            "4800/18750\tLoss: 2.62569\n",
            "6400/18750\tLoss: 2.70150\n",
            "8000/18750\tLoss: 2.68700\n",
            "9600/18750\tLoss: 2.71113\n",
            "11200/18750\tLoss: 2.71010\n",
            "12800/18750\tLoss: 2.73021\n",
            "14400/18750\tLoss: 2.74306\n",
            "16000/18750\tLoss: 2.74282\n",
            "17600/18750\tLoss: 2.76016\n",
            "\n",
            "Accuracy: 94.16%\n",
            "\n",
            "Epoch #9\n",
            "------------\n",
            "1600/18750\tLoss: 2.74300\n",
            "3200/18750\tLoss: 2.84192\n",
            "4800/18750\tLoss: 2.81429\n",
            "6400/18750\tLoss: 2.86353\n",
            "8000/18750\tLoss: 2.84661\n",
            "9600/18750\tLoss: 2.84013\n",
            "11200/18750\tLoss: 2.86770\n",
            "12800/18750\tLoss: 2.84747\n",
            "14400/18750\tLoss: 2.78141\n",
            "16000/18750\tLoss: 3.04021\n",
            "17600/18750\tLoss: 3.02221\n",
            "\n",
            "Accuracy: 94.10%\n",
            "\n",
            "Epoch #10\n",
            "------------\n",
            "1600/18750\tLoss: 2.69915\n",
            "3200/18750\tLoss: 2.92034\n",
            "4800/18750\tLoss: 2.90710\n",
            "6400/18750\tLoss: 2.85444\n",
            "8000/18750\tLoss: 2.77171\n",
            "9600/18750\tLoss: 2.79865\n",
            "11200/18750\tLoss: 2.78497\n",
            "12800/18750\tLoss: 2.79738\n",
            "14400/18750\tLoss: 2.79981\n",
            "16000/18750\tLoss: 2.79294\n",
            "17600/18750\tLoss: 2.79473\n",
            "\n",
            "Accuracy: 94.14%\n",
            "\n",
            "Epoch #11\n",
            "------------\n",
            "1600/18750\tLoss: 2.62742\n",
            "3200/18750\tLoss: 2.78922\n",
            "4800/18750\tLoss: 2.73662\n",
            "6400/18750\tLoss: 2.74911\n",
            "8000/18750\tLoss: 2.67245\n",
            "9600/18750\tLoss: 2.71402\n",
            "11200/18750\tLoss: 2.73214\n",
            "12800/18750\tLoss: 2.73562\n",
            "14400/18750\tLoss: 2.75372\n",
            "16000/18750\tLoss: 2.72202\n",
            "17600/18750\tLoss: 2.73821\n",
            "\n",
            "Accuracy: 94.14%\n",
            "\n",
            "Epoch #12\n",
            "------------\n",
            "1600/18750\tLoss: 3.02398\n",
            "3200/18750\tLoss: 2.98077\n",
            "4800/18750\tLoss: 2.81056\n",
            "6400/18750\tLoss: 2.73631\n",
            "8000/18750\tLoss: 2.78630\n",
            "9600/18750\tLoss: 2.72380\n",
            "11200/18750\tLoss: 2.72285\n",
            "12800/18750\tLoss: 2.74010\n",
            "14400/18750\tLoss: 2.74311\n",
            "16000/18750\tLoss: 2.74412\n",
            "17600/18750\tLoss: 2.76394\n",
            "\n",
            "Accuracy: 94.14%\n",
            "\n",
            "Epoch #13\n",
            "------------\n",
            "1600/18750\tLoss: 2.64991\n",
            "3200/18750\tLoss: 2.76224\n",
            "4800/18750\tLoss: 2.70515\n",
            "6400/18750\tLoss: 2.78588\n",
            "8000/18750\tLoss: 2.72523\n",
            "9600/18750\tLoss: 2.70054\n",
            "11200/18750\tLoss: 2.75043\n",
            "12800/18750\tLoss: 2.77196\n",
            "14400/18750\tLoss: 2.77301\n",
            "16000/18750\tLoss: 2.78823\n",
            "17600/18750\tLoss: 2.77137\n",
            "\n",
            "Accuracy: 94.14%\n",
            "\n",
            "Epoch #14\n",
            "------------\n",
            "1600/18750\tLoss: 2.79250\n",
            "3200/18750\tLoss: 2.87920\n",
            "4800/18750\tLoss: 2.91322\n",
            "6400/18750\tLoss: 2.87888\n",
            "8000/18750\tLoss: 2.83511\n",
            "9600/18750\tLoss: 2.88128\n",
            "11200/18750\tLoss: 2.83549\n",
            "12800/18750\tLoss: 2.80718\n",
            "14400/18750\tLoss: 2.82640\n",
            "16000/18750\tLoss: 2.79253\n",
            "17600/18750\tLoss: 2.79039\n",
            "\n",
            "Accuracy: 94.14%\n",
            "\n",
            "Epoch #15\n",
            "------------\n",
            "1600/18750\tLoss: 2.37072\n",
            "3200/18750\tLoss: 2.64181\n",
            "4800/18750\tLoss: 2.62057\n",
            "6400/18750\tLoss: 2.62246\n",
            "8000/18750\tLoss: 2.67454\n",
            "9600/18750\tLoss: 2.67774\n",
            "11200/18750\tLoss: 2.67183\n",
            "12800/18750\tLoss: 2.65857\n",
            "14400/18750\tLoss: 2.71384\n",
            "16000/18750\tLoss: 2.75368\n",
            "17600/18750\tLoss: 2.72257\n",
            "\n",
            "Accuracy: 94.05%\n",
            "\n",
            "Epoch #16\n",
            "------------\n",
            "1600/18750\tLoss: 2.66925\n",
            "3200/18750\tLoss: 134.21941\n",
            "4800/18750\tLoss: 90.42596\n",
            "6400/18750\tLoss: 68.53359\n",
            "8000/18750\tLoss: 55.41071\n",
            "9600/18750\tLoss: 46.65445\n",
            "11200/18750\tLoss: 40.38123\n",
            "12800/18750\tLoss: 35.67624\n",
            "14400/18750\tLoss: 32.05025\n",
            "16000/18750\tLoss: 29.13063\n",
            "17600/18750\tLoss: 26.71710\n",
            "\n",
            "Accuracy: 94.14%\n",
            "\n",
            "Epoch #17\n",
            "------------\n",
            "1600/18750\tLoss: 2.86403\n",
            "3200/18750\tLoss: 2.91065\n",
            "4800/18750\tLoss: 2.89981\n",
            "6400/18750\tLoss: 2.92363\n",
            "8000/18750\tLoss: 2.82121\n",
            "9600/18750\tLoss: 2.94044\n",
            "11200/18750\tLoss: 2.91399\n",
            "12800/18750\tLoss: 2.91479\n",
            "14400/18750\tLoss: 2.89552\n",
            "16000/18750\tLoss: 2.86085\n",
            "17600/18750\tLoss: 2.83153\n",
            "\n",
            "Accuracy: 94.11%\n",
            "\n",
            "Epoch #18\n",
            "------------\n",
            "1600/18750\tLoss: 2.81426\n",
            "3200/18750\tLoss: 2.57867\n",
            "4800/18750\tLoss: 2.70726\n",
            "6400/18750\tLoss: 2.77010\n",
            "8000/18750\tLoss: 2.77707\n",
            "9600/18750\tLoss: 2.77172\n",
            "11200/18750\tLoss: 2.77610\n",
            "12800/18750\tLoss: 2.75942\n",
            "14400/18750\tLoss: 2.76492\n",
            "16000/18750\tLoss: 2.74991\n",
            "17600/18750\tLoss: 2.75504\n",
            "\n",
            "Accuracy: 94.14%\n",
            "\n",
            "Epoch #19\n",
            "------------\n",
            "1600/18750\tLoss: 2.84586\n",
            "3200/18750\tLoss: 2.66905\n",
            "4800/18750\tLoss: 2.71370\n",
            "6400/18750\tLoss: 2.74612\n",
            "8000/18750\tLoss: 2.74805\n",
            "9600/18750\tLoss: 2.76759\n",
            "11200/18750\tLoss: 2.70643\n",
            "12800/18750\tLoss: 2.73527\n",
            "14400/18750\tLoss: 2.74549\n",
            "16000/18750\tLoss: 2.74695\n",
            "17600/18750\tLoss: 2.74983\n",
            "\n",
            "Accuracy: 94.14%\n",
            "\n",
            "Epoch #20\n",
            "------------\n",
            "1600/18750\tLoss: 2.51895\n",
            "3200/18750\tLoss: 2.66443\n",
            "4800/18750\tLoss: 2.70169\n",
            "6400/18750\tLoss: 2.73175\n",
            "8000/18750\tLoss: 2.68348\n",
            "9600/18750\tLoss: 2.69201\n",
            "11200/18750\tLoss: 2.71312\n",
            "12800/18750\tLoss: 2.72232\n",
            "14400/18750\tLoss: 2.77447\n",
            "16000/18750\tLoss: 2.77219\n",
            "17600/18750\tLoss: 2.76055\n",
            "\n",
            "Accuracy: 94.14%\n",
            "\n",
            "Epoch #21\n",
            "------------\n",
            "1600/18750\tLoss: 2.68198\n",
            "3200/18750\tLoss: 2.72284\n",
            "4800/18750\tLoss: 2.77545\n",
            "6400/18750\tLoss: 2.69231\n",
            "8000/18750\tLoss: 2.66422\n",
            "9600/18750\tLoss: 2.68439\n",
            "11200/18750\tLoss: 2.70244\n",
            "12800/18750\tLoss: 2.69574\n",
            "14400/18750\tLoss: 2.68564\n",
            "16000/18750\tLoss: 2.67826\n",
            "17600/18750\tLoss: 2.73135\n",
            "\n",
            "Accuracy: 94.14%\n",
            "\n",
            "Epoch #22\n",
            "------------\n",
            "1600/18750\tLoss: 2.71264\n",
            "3200/18750\tLoss: 2.70655\n",
            "4800/18750\tLoss: 2.74233\n",
            "6400/18750\tLoss: 14.38377\n",
            "8000/18750\tLoss: 12.11871\n",
            "9600/18750\tLoss: 10.57459\n",
            "11200/18750\tLoss: 340.22714\n",
            "12800/18750\tLoss: 298.56902\n",
            "14400/18750\tLoss: 265.77226\n",
            "16000/18750\tLoss: 239.50704\n",
            "17600/18750\tLoss: 217.98763\n",
            "\n",
            "Accuracy: 93.94%\n",
            "\n",
            "Epoch #23\n",
            "------------\n",
            "1600/18750\tLoss: 3.23334\n",
            "3200/18750\tLoss: 2.94443\n",
            "4800/18750\tLoss: 2.97867\n",
            "6400/18750\tLoss: 2.94582\n",
            "8000/18750\tLoss: 98.80099\n",
            "9600/18750\tLoss: 83.00425\n",
            "11200/18750\tLoss: 71.59590\n",
            "12800/18750\tLoss: 63.03940\n",
            "14400/18750\tLoss: 56.39748\n",
            "16000/18750\tLoss: 51.05807\n",
            "17600/18750\tLoss: 46.69772\n",
            "\n",
            "Accuracy: 93.74%\n",
            "\n",
            "Epoch #24\n",
            "------------\n",
            "1600/18750\tLoss: 2.76056\n",
            "3200/18750\tLoss: 2.76287\n",
            "4800/18750\tLoss: 2.74920\n",
            "6400/18750\tLoss: 2.69831\n",
            "8000/18750\tLoss: 3.09550\n",
            "9600/18750\tLoss: 3.06585\n",
            "11200/18750\tLoss: 3.03533\n",
            "12800/18750\tLoss: 3.05510\n",
            "14400/18750\tLoss: 3.04481\n",
            "16000/18750\tLoss: 3.06370\n",
            "17600/18750\tLoss: 3.03779\n",
            "\n",
            "Accuracy: 94.08%\n",
            "\n",
            "Epoch #25\n",
            "------------\n",
            "1600/18750\tLoss: 3.18171\n",
            "3200/18750\tLoss: 2.89962\n",
            "4800/18750\tLoss: 3.01270\n",
            "6400/18750\tLoss: 2.93817\n",
            "8000/18750\tLoss: 2.91062\n",
            "9600/18750\tLoss: 2.86411\n",
            "11200/18750\tLoss: 2.86990\n",
            "12800/18750\tLoss: 2.83793\n",
            "14400/18750\tLoss: 2.84659\n",
            "16000/18750\tLoss: 2.80145\n",
            "17600/18750\tLoss: 5.20895\n",
            "\n",
            "Accuracy: 91.95%\n",
            "\n",
            "Epoch #26\n",
            "------------\n",
            "1600/18750\tLoss: 3.07404\n",
            "3200/18750\tLoss: 3.04872\n",
            "4800/18750\tLoss: 3.07506\n",
            "6400/18750\tLoss: 3.00543\n",
            "8000/18750\tLoss: 2.98559\n",
            "9600/18750\tLoss: 2.93609\n",
            "11200/18750\tLoss: 2.83381\n",
            "12800/18750\tLoss: 2.75704\n",
            "14400/18750\tLoss: 2.71813\n",
            "16000/18750\tLoss: 2.67691\n",
            "17600/18750\tLoss: 2.64311\n",
            "\n",
            "Accuracy: 94.13%\n",
            "\n",
            "Epoch #27\n",
            "------------\n",
            "1600/18750\tLoss: 2.50567\n",
            "3200/18750\tLoss: 2.39169\n",
            "4800/18750\tLoss: 2.22952\n",
            "6400/18750\tLoss: 2.12576\n",
            "8000/18750\tLoss: 2.05880\n",
            "9600/18750\tLoss: 2.20128\n",
            "11200/18750\tLoss: 2.26138\n",
            "12800/18750\tLoss: 2.19591\n",
            "14400/18750\tLoss: 2.11676\n",
            "16000/18750\tLoss: 2.02294\n",
            "17600/18750\tLoss: 1.89713\n",
            "\n",
            "Accuracy: 99.70%\n",
            "\n",
            "Epoch #28\n",
            "------------\n",
            "1600/18750\tLoss: 0.22550\n",
            "3200/18750\tLoss: 0.54501\n",
            "4800/18750\tLoss: 1.15219\n",
            "6400/18750\tLoss: 1.10175\n",
            "8000/18750\tLoss: 0.92865\n",
            "9600/18750\tLoss: 0.78487\n",
            "11200/18750\tLoss: 0.72503\n",
            "12800/18750\tLoss: 0.66260\n",
            "14400/18750\tLoss: 0.60089\n",
            "16000/18750\tLoss: 0.54519\n",
            "17600/18750\tLoss: 0.51494\n",
            "\n",
            "Accuracy: 99.95%\n",
            "\n",
            "Epoch #29\n",
            "------------\n",
            "1600/18750\tLoss: 0.06404\n",
            "3200/18750\tLoss: 0.06781\n",
            "4800/18750\tLoss: 0.08038\n",
            "6400/18750\tLoss: 0.06242\n",
            "8000/18750\tLoss: 0.05122\n",
            "9600/18750\tLoss: 0.05104\n",
            "11200/18750\tLoss: 0.05018\n",
            "12800/18750\tLoss: 0.04926\n",
            "14400/18750\tLoss: 0.04409\n",
            "16000/18750\tLoss: 0.04420\n",
            "17600/18750\tLoss: 0.04525\n",
            "\n",
            "Accuracy: 99.92%\n",
            "\n",
            "Epoch #30\n",
            "------------\n",
            "1600/18750\tLoss: 0.03724\n",
            "3200/18750\tLoss: 0.92403\n",
            "4800/18750\tLoss: 0.62860\n",
            "6400/18750\tLoss: 1.48664\n",
            "8000/18750\tLoss: 1.47896\n",
            "9600/18750\tLoss: 1.28722\n",
            "11200/18750\tLoss: 1.11231\n",
            "12800/18750\tLoss: 0.98228\n",
            "14400/18750\tLoss: 0.87494\n",
            "16000/18750\tLoss: 0.78903\n",
            "17600/18750\tLoss: 0.78157\n",
            "\n",
            "Accuracy: 99.89%\n",
            "\n",
            "CPU times: user 22min 24s, sys: 23.7 s, total: 22min 48s\n",
            "Wall time: 22min 55s\n"
          ],
          "name": "stdout"
        }
      ]
    },
    {
      "cell_type": "code",
      "metadata": {
        "id": "hBcNe-rQVAHg",
        "colab_type": "code",
        "outputId": "1d67557f-74d2-4be6-dbe8-140d68a0254a",
        "colab": {
          "base_uri": "https://localhost:8080/",
          "height": 350
        }
      },
      "source": [
        "plt.figure(figsize=(8, 5))\n",
        "plt.title('{} Test Evaluation'.format(MODEL.upper()))\n",
        "plt.xlabel('Epochs')\n",
        "plt.ylabel('Accuracy %')\n",
        "plt.savefig('{}_accuracies.png'.format(MODEL.upper()))\n",
        "plt.plot(range(1, len(test_acc)+1), test_acc);"
      ],
      "execution_count": 24,
      "outputs": [
        {
          "output_type": "display_data",
          "data": {
            "image/png": "[encoded data removed]",
            "text/plain": [
              "<Figure size 576x360 with 1 Axes>"
            ]
          },
          "metadata": {
            "tags": []
          }
        }
      ]
    },
    {
      "cell_type": "markdown",
      "metadata": {
        "id": "zdFairpCRiWk",
        "colab_type": "text"
      },
      "source": [
        "#### Save model and `state_dict` of model"
      ]
    },
    {
      "cell_type": "code",
      "metadata": {
        "id": "WwmhF6IQWQVH",
        "colab_type": "code",
        "colab": {}
      },
      "source": [
        "with open('{}_accuracies.txt'.format(MODEL.upper()), 'a') as f:\n",
        "    f.write('{}'.format(MODEL.upper()) + ':' + ','.join(str(a.item()) for a in test_acc) + '\\n')"
      ],
      "execution_count": 0,
      "outputs": []
    },
    {
      "cell_type": "code",
      "metadata": {
        "id": "J9lyRNkjRo66",
        "colab_type": "code",
        "colab": {}
      },
      "source": [
        "torch.save(classifier.state_dict(), './{}_state_dict.pt'.format(MODEL.upper()))"
      ],
      "execution_count": 0,
      "outputs": []
    },
    {
      "cell_type": "code",
      "metadata": {
        "id": "jEu0CimySHip",
        "colab_type": "code",
        "outputId": "e3fd69b8-64c1-4df0-8f3a-8a70e8e01846",
        "colab": {
          "base_uri": "https://localhost:8080/",
          "height": 241
        }
      },
      "source": [
        "torch.save(classifier, './{}.pt'.format(MODEL.upper()))"
      ],
      "execution_count": 27,
      "outputs": [
        {
          "output_type": "stream",
          "text": [
            "/usr/local/lib/python3.6/dist-packages/torch/serialization.py:292: UserWarning: Couldn't retrieve source code for container of type RNNModel. It won't be checked for correctness upon loading.\n",
            "  \"type \" + obj.__name__ + \". It won't be checked \"\n",
            "/usr/local/lib/python3.6/dist-packages/torch/serialization.py:292: UserWarning: Couldn't retrieve source code for container of type Embedding. It won't be checked for correctness upon loading.\n",
            "  \"type \" + obj.__name__ + \". It won't be checked \"\n",
            "/usr/local/lib/python3.6/dist-packages/torch/serialization.py:292: UserWarning: Couldn't retrieve source code for container of type DeepRNN. It won't be checked for correctness upon loading.\n",
            "  \"type \" + obj.__name__ + \". It won't be checked \"\n",
            "/usr/local/lib/python3.6/dist-packages/torch/serialization.py:292: UserWarning: Couldn't retrieve source code for container of type RNNCell. It won't be checked for correctness upon loading.\n",
            "  \"type \" + obj.__name__ + \". It won't be checked \"\n",
            "/usr/local/lib/python3.6/dist-packages/torch/serialization.py:292: UserWarning: Couldn't retrieve source code for container of type ModuleList. It won't be checked for correctness upon loading.\n",
            "  \"type \" + obj.__name__ + \". It won't be checked \"\n",
            "/usr/local/lib/python3.6/dist-packages/torch/serialization.py:292: UserWarning: Couldn't retrieve source code for container of type Linear. It won't be checked for correctness upon loading.\n",
            "  \"type \" + obj.__name__ + \". It won't be checked \"\n"
          ],
          "name": "stderr"
        }
      ]
    }
  ]
}