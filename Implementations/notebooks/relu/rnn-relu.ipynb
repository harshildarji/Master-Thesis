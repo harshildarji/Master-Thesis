{
  "nbformat": 4,
  "nbformat_minor": 0,
  "metadata": {
    "accelerator": "GPU",
    "colab": {
      "name": "tanh.ipynb",
      "provenance": [],
      "collapsed_sections": []
    },
    "kernelspec": {
      "display_name": "Python 3",
      "language": "python",
      "name": "python3"
    },
    "language_info": {
      "codemirror_mode": {
        "name": "ipython",
        "version": 3
      },
      "file_extension": ".py",
      "mimetype": "text/x-python",
      "name": "python",
      "nbconvert_exporter": "python",
      "pygments_lexer": "ipython3",
      "version": "3.6.9"
    }
  },
  "cells": [
    {
      "cell_type": "code",
      "metadata": {
        "id": "YTdml_ZZO04W",
        "colab_type": "code",
        "colab": {}
      },
      "source": [
        "import sys\n",
        "sys.path.append('../')"
      ],
      "execution_count": 0,
      "outputs": []
    },
    {
      "cell_type": "code",
      "metadata": {
        "colab_type": "code",
        "id": "jnlVHBXYGevQ",
        "colab": {}
      },
      "source": [
        "import torch\n",
        "import torch.nn as nn\n",
        "from torch.autograd import Variable\n",
        "from torch.utils.data import Dataset, DataLoader\n",
        "from torch.nn.utils.rnn import pack_padded_sequence, pad_packed_sequence\n",
        "\n",
        "from MaskedRNN import MaskedDeepRNN\n",
        "from MaskedRNN import weight_prune\n",
        "\n",
        "import pandas as pd\n",
        "import matplotlib.pyplot as plt\n",
        "import seaborn as sns"
      ],
      "execution_count": 0,
      "outputs": []
    },
    {
      "cell_type": "code",
      "metadata": {
        "id": "SnJ89dAtiljA",
        "colab_type": "code",
        "colab": {}
      },
      "source": [
        "sns.set_style('darkgrid')"
      ],
      "execution_count": 0,
      "outputs": []
    },
    {
      "cell_type": "code",
      "metadata": {
        "id": "0ZDPVjuQxtey",
        "colab_type": "code",
        "colab": {}
      },
      "source": [
        "device = torch.device('cuda:0' if torch.cuda.is_available() else 'cpu') "
      ],
      "execution_count": 0,
      "outputs": []
    },
    {
      "cell_type": "markdown",
      "metadata": {
        "colab_type": "text",
        "id": "OQRUiZIIGevb"
      },
      "source": [
        "#### Import, shuffle and split dataset"
      ]
    },
    {
      "cell_type": "code",
      "metadata": {
        "colab_type": "code",
        "id": "Hc-jfPQDGevd",
        "colab": {}
      },
      "source": [
        "data = pd.read_csv('reber_sequences.csv')"
      ],
      "execution_count": 0,
      "outputs": []
    },
    {
      "cell_type": "code",
      "metadata": {
        "colab_type": "code",
        "id": "VZt1tuMDGevl",
        "colab": {}
      },
      "source": [
        "data = data.sample(frac=1).reset_index(drop=True)"
      ],
      "execution_count": 0,
      "outputs": []
    },
    {
      "cell_type": "code",
      "metadata": {
        "colab_type": "code",
        "id": "9FVvyiR2Gevt",
        "colab": {}
      },
      "source": [
        "train_data = data[:int(.75*len(data))]\n",
        "test_data = data[len(train_data):]"
      ],
      "execution_count": 0,
      "outputs": []
    },
    {
      "cell_type": "code",
      "metadata": {
        "colab_type": "code",
        "id": "hFGa03AvGevx",
        "outputId": "e37f5931-06fb-4a75-d2e7-28b7908b1815",
        "colab": {
          "base_uri": "https://localhost:8080/",
          "height": 68
        }
      },
      "source": [
        "print('Total length: {}\\nTrain data length: {}\\nTest data length: {}'.format(len(data), len(train_data), len(test_data)))"
      ],
      "execution_count": 8,
      "outputs": [
        {
          "output_type": "stream",
          "text": [
            "Total length: 25000\n",
            "Train data length: 18750\n",
            "Test data length: 6250\n"
          ],
          "name": "stdout"
        }
      ]
    },
    {
      "cell_type": "markdown",
      "metadata": {
        "colab_type": "text",
        "id": "uCoah1gRGev6"
      },
      "source": [
        "#### Parameters"
      ]
    },
    {
      "cell_type": "code",
      "metadata": {
        "id": "CKtaST_DiqQR",
        "colab_type": "code",
        "colab": {}
      },
      "source": [
        "MODEL = 'rnn-relu'"
      ],
      "execution_count": 0,
      "outputs": []
    },
    {
      "cell_type": "code",
      "metadata": {
        "colab_type": "code",
        "id": "6wDwJmInGev8",
        "colab": {}
      },
      "source": [
        "BATCH_SIZE = 16\n",
        "\n",
        "INPUT_SIZE = 128\n",
        "EMBEDDING_DIM = 100\n",
        "OUTPUT_SIZE = 2\n",
        "\n",
        "EPOCHS = 30\n",
        "HIDDEN_LAYERS = [100, 100, 100]"
      ],
      "execution_count": 0,
      "outputs": []
    },
    {
      "cell_type": "markdown",
      "metadata": {
        "colab_type": "text",
        "id": "mETf9K_7GewC"
      },
      "source": [
        "#### Customize `Dataset`"
      ]
    },
    {
      "cell_type": "code",
      "metadata": {
        "colab_type": "code",
        "id": "tvZNBTBqGewD",
        "colab": {}
      },
      "source": [
        "class MakeDataset(Dataset):\n",
        "    def __init__(self, data):\n",
        "        self.strings = list(data['string'])\n",
        "        self.valid = list(data['valid'])\n",
        "        self.len = len(self.valid)\n",
        "        self.valid_list = [0, 1]\n",
        "\n",
        "    def __getitem__(self, index):\n",
        "        return self.strings[index], self.valid[index]\n",
        "\n",
        "    def __len__(self):\n",
        "        return self.len"
      ],
      "execution_count": 0,
      "outputs": []
    },
    {
      "cell_type": "markdown",
      "metadata": {
        "colab_type": "text",
        "id": "qtRtnbUPGewI"
      },
      "source": [
        "#### Train/Test Loader"
      ]
    },
    {
      "cell_type": "code",
      "metadata": {
        "colab_type": "code",
        "id": "qIkc37iDGewJ",
        "colab": {}
      },
      "source": [
        "dataset = MakeDataset(train_data)\n",
        "train_loader = DataLoader(dataset=dataset, batch_size=BATCH_SIZE, shuffle=True)"
      ],
      "execution_count": 0,
      "outputs": []
    },
    {
      "cell_type": "code",
      "metadata": {
        "colab_type": "code",
        "id": "8me9-GUdGewP",
        "colab": {}
      },
      "source": [
        "dataset = MakeDataset(test_data)\n",
        "test_loader = DataLoader(dataset=dataset, batch_size=BATCH_SIZE, shuffle=True)"
      ],
      "execution_count": 0,
      "outputs": []
    },
    {
      "cell_type": "markdown",
      "metadata": {
        "colab_type": "text",
        "id": "HiAzJtMSGewW"
      },
      "source": [
        "#### Helper functions"
      ]
    },
    {
      "cell_type": "code",
      "metadata": {
        "colab_type": "code",
        "id": "VX5oPdsWGewX",
        "colab": {}
      },
      "source": [
        "def create_variable(tensor):\n",
        "    return Variable(tensor.to(device))"
      ],
      "execution_count": 0,
      "outputs": []
    },
    {
      "cell_type": "code",
      "metadata": {
        "colab_type": "code",
        "id": "rCKTIEbbGewh",
        "colab": {}
      },
      "source": [
        "def pad_seq(vect_seqs, seq_lens, valid):\n",
        "    seq_tensor = torch.zeros((len(vect_seqs), seq_lens.max())).long()\n",
        "    \n",
        "    for index, (seq, seq_len) in enumerate(zip(vect_seqs, seq_lens)):\n",
        "        seq_tensor[index, :seq_len] = torch.LongTensor(seq)\n",
        "        \n",
        "    return create_variable(seq_tensor), create_variable(seq_lens), create_variable(valid)"
      ],
      "execution_count": 0,
      "outputs": []
    },
    {
      "cell_type": "code",
      "metadata": {
        "colab_type": "code",
        "id": "BOeyEku_Gewn",
        "colab": {}
      },
      "source": [
        "def str2ascii(string):\n",
        "    ascii_arr = [ord(s) for s in string]\n",
        "    return ascii_arr, len(ascii_arr)"
      ],
      "execution_count": 0,
      "outputs": []
    },
    {
      "cell_type": "code",
      "metadata": {
        "colab_type": "code",
        "id": "g5HS0oTzGewq",
        "colab": {}
      },
      "source": [
        "def make_variables(strings, valid):\n",
        "    seqs_and_lens = [str2ascii(string)for string in strings]\n",
        "    vect_seqs = [s[0] for s in seqs_and_lens]\n",
        "    seq_lens = torch.LongTensor([s[1] for s in seqs_and_lens])\n",
        "    valid = torch.LongTensor(valid)\n",
        "    return pad_seq(vect_seqs, seq_lens, valid)"
      ],
      "execution_count": 0,
      "outputs": []
    },
    {
      "cell_type": "markdown",
      "metadata": {
        "id": "3Lr3KHufagGQ",
        "colab_type": "text"
      },
      "source": [
        "#### Model"
      ]
    },
    {
      "cell_type": "code",
      "metadata": {
        "id": "ZIhsCJgk7Em7",
        "colab_type": "code",
        "colab": {}
      },
      "source": [
        "class Model(nn.Module):\n",
        "    def __init__(self, input_size, output_size, hidden_layers: list, mode):\n",
        "        super(Model, self).__init__()\n",
        "\n",
        "        self.embedding = nn.Embedding(num_embeddings=input_size, embedding_dim=hidden_layers[0]).to(device)\n",
        "        self.recurrent = MaskedDeepRNN(hidden_layers[0], hidden_layers, mode=mode).to(device)\n",
        "        self.fc = nn.Linear(hidden_layers[-1], output_size).to(device)\n",
        "        \n",
        "    def forward(self, input):\n",
        "        input = input.t()\n",
        "        embedded = self.embedding(input)\n",
        "        output = self.recurrent(embedded)\n",
        "        return self.fc(output)"
      ],
      "execution_count": 0,
      "outputs": []
    },
    {
      "cell_type": "code",
      "metadata": {
        "id": "CEWO7ihK81cE",
        "colab_type": "code",
        "colab": {}
      },
      "source": [
        "model = Model(INPUT_SIZE, OUTPUT_SIZE, HIDDEN_LAYERS, mode='relu')"
      ],
      "execution_count": 0,
      "outputs": []
    },
    {
      "cell_type": "code",
      "metadata": {
        "id": "AkV3kS4nLMKP",
        "colab_type": "code",
        "colab": {}
      },
      "source": [
        "optimizer = torch.optim.Adam(model.parameters(), lr=0.001)\n",
        "criterion = nn.CrossEntropyLoss()"
      ],
      "execution_count": 0,
      "outputs": []
    },
    {
      "cell_type": "code",
      "metadata": {
        "id": "7SwNgu-kaax0",
        "colab_type": "code",
        "outputId": "72e9aeea-95c0-4f58-967f-23257b5aa566",
        "colab": {
          "base_uri": "https://localhost:8080/",
          "height": 204
        }
      },
      "source": [
        "print(model)"
      ],
      "execution_count": 21,
      "outputs": [
        {
          "output_type": "stream",
          "text": [
            "Model(\n",
            "  (embedding): Embedding(128, 100)\n",
            "  (recurrent): MaskedDeepRNN(\n",
            "    (recurrent_layers): ModuleList(\n",
            "      (0): MaskedRecurrentLayer(100, 100)\n",
            "      (1): MaskedRecurrentLayer(100, 100)\n",
            "      (2): MaskedRecurrentLayer(100, 100)\n",
            "    )\n",
            "  )\n",
            "  (fc): Linear(in_features=100, out_features=2, bias=True)\n",
            ")\n"
          ],
          "name": "stdout"
        }
      ]
    },
    {
      "cell_type": "markdown",
      "metadata": {
        "colab_type": "text",
        "id": "lQT4Qq2WGexR"
      },
      "source": [
        "#### Train & Test"
      ]
    },
    {
      "cell_type": "code",
      "metadata": {
        "colab_type": "code",
        "id": "ZRmp2k9KGexW",
        "colab": {}
      },
      "source": [
        "def train():\n",
        "    total_loss = 0\n",
        "    \n",
        "    for i, (string, valid) in enumerate(train_loader, 1):\n",
        "        input, seq_lens, target = make_variables(string, valid)\n",
        "\n",
        "        output = model(input)\n",
        "        \n",
        "        loss = criterion(output, target)\n",
        "        total_loss += loss.data.item()\n",
        "        \n",
        "        model.zero_grad()\n",
        "        loss.backward()\n",
        "        optimizer.step()\n",
        "        \n",
        "        if i % 100 == 0:\n",
        "            print('{}/{}\\tLoss: {:.5f}'.format(i * len(string), len(train_loader.dataset), total_loss / i * len(string)))"
      ],
      "execution_count": 0,
      "outputs": []
    },
    {
      "cell_type": "code",
      "metadata": {
        "colab_type": "code",
        "id": "ferW61amIjFP",
        "colab": {}
      },
      "source": [
        "test_acc = []"
      ],
      "execution_count": 0,
      "outputs": []
    },
    {
      "cell_type": "code",
      "metadata": {
        "colab_type": "code",
        "id": "EtDP_hJ0Gexh",
        "colab": {}
      },
      "source": [
        "def test():\n",
        "    correct = 0.\n",
        "    test_data_size = len(test_loader.dataset)\n",
        "    \n",
        "    for string, valid in test_loader:\n",
        "        input, seq_lens, target = make_variables(string, valid)\n",
        "\n",
        "        output = model(input)\n",
        "\n",
        "        pred = output.data.max(1, keepdim=True)[1]\n",
        "        correct += pred.eq(target.data.view_as(pred)).cpu().sum()\n",
        "\n",
        "    acc = 100 * correct / test_data_size\n",
        "    test_acc.append(acc)\n",
        "        \n",
        "    print('\\nAccuracy: {:.2f}%\\n'.format(acc))"
      ],
      "execution_count": 0,
      "outputs": []
    },
    {
      "cell_type": "code",
      "metadata": {
        "colab_type": "code",
        "id": "2az6-B2FGey3",
        "outputId": "d2d3e037-26ee-4dd2-93b3-5b3e301ef0e4",
        "colab": {
          "base_uri": "https://localhost:8080/",
          "height": 1000
        }
      },
      "source": [
        "%%time\n",
        "for epoch in range(1, EPOCHS+1):\n",
        "    print('Epoch #{}\\n{}'.format(epoch, 12*'-'))\n",
        "    train()\n",
        "    test()"
      ],
      "execution_count": 25,
      "outputs": [
        {
          "output_type": "stream",
          "text": [
            "Epoch #1\n",
            "------------\n",
            "1600/18750\tLoss: 8.09492\n",
            "3200/18750\tLoss: 6.80227\n",
            "4800/18750\tLoss: 6.28890\n",
            "6400/18750\tLoss: 5.45409\n",
            "8000/18750\tLoss: 4.93476\n",
            "9600/18750\tLoss: 4.90523\n",
            "11200/18750\tLoss: 7.30873\n",
            "12800/18750\tLoss: 7.14809\n",
            "14400/18750\tLoss: 6.93542\n",
            "16000/18750\tLoss: 6.69365\n",
            "17600/18750\tLoss: 6.38850\n",
            "\n",
            "Accuracy: 93.07%\n",
            "\n",
            "Epoch #2\n",
            "------------\n",
            "1600/18750\tLoss: 4.63488\n",
            "3200/18750\tLoss: 4.61802\n",
            "4800/18750\tLoss: 4.55542\n",
            "6400/18750\tLoss: 4.17402\n",
            "8000/18750\tLoss: 3.87214\n",
            "9600/18750\tLoss: 3.71922\n",
            "11200/18750\tLoss: 5.17777\n",
            "12800/18750\tLoss: 5.38208\n",
            "14400/18750\tLoss: 5.41517\n",
            "16000/18750\tLoss: 5.43118\n",
            "17600/18750\tLoss: 5.40479\n",
            "\n",
            "Accuracy: 89.25%\n",
            "\n",
            "Epoch #3\n",
            "------------\n",
            "1600/18750\tLoss: 4.42414\n",
            "3200/18750\tLoss: 4.39611\n",
            "4800/18750\tLoss: 4.07535\n",
            "6400/18750\tLoss: 3.86713\n",
            "8000/18750\tLoss: 3.68034\n",
            "9600/18750\tLoss: 3.57339\n",
            "11200/18750\tLoss: 3.51041\n",
            "12800/18750\tLoss: 3.43449\n",
            "14400/18750\tLoss: 3.41024\n",
            "16000/18750\tLoss: 3.36298\n",
            "17600/18750\tLoss: 3.29099\n",
            "\n",
            "Accuracy: 49.52%\n",
            "\n",
            "Epoch #4\n",
            "------------\n",
            "1600/18750\tLoss: 9.58247\n",
            "3200/18750\tLoss: 7.72481\n",
            "4800/18750\tLoss: 7.04655\n",
            "6400/18750\tLoss: 6.47872\n",
            "8000/18750\tLoss: 6.17852\n",
            "9600/18750\tLoss: 5.87320\n",
            "11200/18750\tLoss: 193.09759\n",
            "12800/18750\tLoss: 170.52646\n",
            "14400/18750\tLoss: 152.55845\n",
            "16000/18750\tLoss: 138.14013\n",
            "17600/18750\tLoss: 126.27066\n",
            "\n",
            "Accuracy: 77.95%\n",
            "\n",
            "Epoch #5\n",
            "------------\n",
            "1600/18750\tLoss: 7.36935\n",
            "3200/18750\tLoss: 7.41677\n",
            "4800/18750\tLoss: 7.33184\n",
            "6400/18750\tLoss: 7.26304\n",
            "8000/18750\tLoss: 7.18229\n",
            "9600/18750\tLoss: 7.17609\n",
            "11200/18750\tLoss: 7.20365\n",
            "12800/18750\tLoss: 7.22084\n",
            "14400/18750\tLoss: 7.21393\n",
            "16000/18750\tLoss: 7.19425\n",
            "17600/18750\tLoss: 7.16174\n",
            "\n",
            "Accuracy: 78.06%\n",
            "\n",
            "Epoch #6\n",
            "------------\n",
            "1600/18750\tLoss: 7.10994\n",
            "3200/18750\tLoss: 7.22625\n",
            "4800/18750\tLoss: 7.16351\n",
            "6400/18750\tLoss: 7.19223\n",
            "8000/18750\tLoss: 7.17514\n",
            "9600/18750\tLoss: 7.15507\n",
            "11200/18750\tLoss: 7.12430\n",
            "12800/18750\tLoss: 7.12360\n",
            "14400/18750\tLoss: 7.13908\n",
            "16000/18750\tLoss: 7.12260\n",
            "17600/18750\tLoss: 7.07937\n",
            "\n",
            "Accuracy: 78.06%\n",
            "\n",
            "Epoch #7\n",
            "------------\n",
            "1600/18750\tLoss: 7.03431\n",
            "3200/18750\tLoss: 7.04209\n",
            "4800/18750\tLoss: 7.10431\n",
            "6400/18750\tLoss: 7.06069\n",
            "8000/18750\tLoss: 7.08412\n",
            "9600/18750\tLoss: 7.06880\n",
            "11200/18750\tLoss: 7.07689\n",
            "12800/18750\tLoss: 7.06209\n",
            "14400/18750\tLoss: 7.08983\n",
            "16000/18750\tLoss: 7.09129\n",
            "17600/18750\tLoss: 7.09322\n",
            "\n",
            "Accuracy: 78.06%\n",
            "\n",
            "Epoch #8\n",
            "------------\n",
            "1600/18750\tLoss: 7.31233\n",
            "3200/18750\tLoss: 7.26452\n",
            "4800/18750\tLoss: 7.17861\n",
            "6400/18750\tLoss: 7.15206\n",
            "8000/18750\tLoss: 7.14356\n",
            "9600/18750\tLoss: 7.18062\n",
            "11200/18750\tLoss: 7.17051\n",
            "12800/18750\tLoss: 7.14340\n",
            "14400/18750\tLoss: 7.12639\n",
            "16000/18750\tLoss: 7.11788\n",
            "17600/18750\tLoss: 7.08795\n",
            "\n",
            "Accuracy: 78.06%\n",
            "\n",
            "Epoch #9\n",
            "------------\n",
            "1600/18750\tLoss: 7.13951\n",
            "3200/18750\tLoss: 7.05137\n",
            "4800/18750\tLoss: 7.10472\n",
            "6400/18750\tLoss: 7.09805\n",
            "8000/18750\tLoss: 7.08504\n",
            "9600/18750\tLoss: 7.05070\n",
            "11200/18750\tLoss: 7.04513\n",
            "12800/18750\tLoss: 7.04665\n",
            "14400/18750\tLoss: 7.11501\n",
            "16000/18750\tLoss: 7.11472\n",
            "17600/18750\tLoss: 7.11419\n",
            "\n",
            "Accuracy: 78.06%\n",
            "\n",
            "Epoch #10\n",
            "------------\n",
            "1600/18750\tLoss: 6.77380\n",
            "3200/18750\tLoss: 6.94893\n",
            "4800/18750\tLoss: 7.00011\n",
            "6400/18750\tLoss: 7.02462\n",
            "8000/18750\tLoss: 7.09983\n",
            "9600/18750\tLoss: 7.10069\n",
            "11200/18750\tLoss: 7.08048\n",
            "12800/18750\tLoss: 7.07274\n",
            "14400/18750\tLoss: 7.06598\n",
            "16000/18750\tLoss: 7.06491\n",
            "17600/18750\tLoss: 7.08214\n",
            "\n",
            "Accuracy: 78.06%\n",
            "\n",
            "Epoch #11\n",
            "------------\n",
            "1600/18750\tLoss: 6.95002\n",
            "3200/18750\tLoss: 6.92696\n",
            "4800/18750\tLoss: 6.96849\n",
            "6400/18750\tLoss: 7.02983\n",
            "8000/18750\tLoss: 7.03736\n",
            "9600/18750\tLoss: 7.04000\n",
            "11200/18750\tLoss: 7.11628\n",
            "12800/18750\tLoss: 7.10553\n",
            "14400/18750\tLoss: 7.09730\n",
            "16000/18750\tLoss: 7.08329\n",
            "17600/18750\tLoss: 7.08326\n",
            "\n",
            "Accuracy: 78.06%\n",
            "\n",
            "Epoch #12\n",
            "------------\n",
            "1600/18750\tLoss: 6.78780\n",
            "3200/18750\tLoss: 6.94024\n",
            "4800/18750\tLoss: 6.91753\n",
            "6400/18750\tLoss: 6.97034\n",
            "8000/18750\tLoss: 6.97012\n",
            "9600/18750\tLoss: 6.99406\n",
            "11200/18750\tLoss: 6.99618\n",
            "12800/18750\tLoss: 7.00952\n",
            "14400/18750\tLoss: 7.05384\n",
            "16000/18750\tLoss: 7.07467\n",
            "17600/18750\tLoss: 7.08883\n",
            "\n",
            "Accuracy: 78.06%\n",
            "\n",
            "Epoch #13\n",
            "------------\n",
            "1600/18750\tLoss: 7.02828\n",
            "3200/18750\tLoss: 7.13901\n",
            "4800/18750\tLoss: 7.06384\n",
            "6400/18750\tLoss: 7.11877\n",
            "8000/18750\tLoss: 7.15412\n",
            "9600/18750\tLoss: 7.20759\n",
            "11200/18750\tLoss: 7.15767\n",
            "12800/18750\tLoss: 7.12642\n",
            "14400/18750\tLoss: 7.09799\n",
            "16000/18750\tLoss: 7.08944\n",
            "17600/18750\tLoss: 7.08953\n",
            "\n",
            "Accuracy: 78.06%\n",
            "\n",
            "Epoch #14\n",
            "------------\n",
            "1600/18750\tLoss: 7.14924\n",
            "3200/18750\tLoss: 7.23090\n",
            "4800/18750\tLoss: 7.15003\n",
            "6400/18750\tLoss: 7.21555\n",
            "8000/18750\tLoss: 7.21906\n",
            "9600/18750\tLoss: 7.20963\n",
            "11200/18750\tLoss: 7.20059\n",
            "12800/18750\tLoss: 7.15666\n",
            "14400/18750\tLoss: 7.13740\n",
            "16000/18750\tLoss: 7.12409\n",
            "17600/18750\tLoss: 7.09805\n",
            "\n",
            "Accuracy: 78.06%\n",
            "\n",
            "Epoch #15\n",
            "------------\n",
            "1600/18750\tLoss: 7.15566\n",
            "3200/18750\tLoss: 7.21173\n",
            "4800/18750\tLoss: 7.09088\n",
            "6400/18750\tLoss: 7.07073\n",
            "8000/18750\tLoss: 7.07022\n",
            "9600/18750\tLoss: 7.09721\n",
            "11200/18750\tLoss: 7.07337\n",
            "12800/18750\tLoss: 7.07380\n",
            "14400/18750\tLoss: 7.08532\n",
            "16000/18750\tLoss: 7.10900\n",
            "17600/18750\tLoss: 7.07556\n",
            "\n",
            "Accuracy: 78.06%\n",
            "\n",
            "Epoch #16\n",
            "------------\n",
            "1600/18750\tLoss: 7.05745\n",
            "3200/18750\tLoss: 6.92209\n",
            "4800/18750\tLoss: 7.05150\n",
            "6400/18750\tLoss: 7.01952\n",
            "8000/18750\tLoss: 7.00687\n",
            "9600/18750\tLoss: 7.05067\n",
            "11200/18750\tLoss: 7.07427\n",
            "12800/18750\tLoss: 7.07854\n",
            "14400/18750\tLoss: 7.09562\n",
            "16000/18750\tLoss: 7.05960\n",
            "17600/18750\tLoss: 7.08484\n",
            "\n",
            "Accuracy: 78.06%\n",
            "\n",
            "Epoch #17\n",
            "------------\n",
            "1600/18750\tLoss: 7.22892\n",
            "3200/18750\tLoss: 7.13775\n",
            "4800/18750\tLoss: 7.07600\n",
            "6400/18750\tLoss: 7.09854\n",
            "8000/18750\tLoss: 7.11196\n",
            "9600/18750\tLoss: 7.09948\n",
            "11200/18750\tLoss: 7.07032\n",
            "12800/18750\tLoss: 7.04915\n",
            "14400/18750\tLoss: 7.08713\n",
            "16000/18750\tLoss: 7.07990\n",
            "17600/18750\tLoss: 7.08125\n",
            "\n",
            "Accuracy: 78.06%\n",
            "\n",
            "Epoch #18\n",
            "------------\n",
            "1600/18750\tLoss: 7.01717\n",
            "3200/18750\tLoss: 7.18964\n",
            "4800/18750\tLoss: 7.10020\n",
            "6400/18750\tLoss: 7.09359\n",
            "8000/18750\tLoss: 7.05818\n",
            "9600/18750\tLoss: 7.04669\n",
            "11200/18750\tLoss: 7.03648\n",
            "12800/18750\tLoss: 7.03509\n",
            "14400/18750\tLoss: 7.07982\n",
            "16000/18750\tLoss: 7.06914\n",
            "17600/18750\tLoss: 7.07182\n",
            "\n",
            "Accuracy: 78.06%\n",
            "\n",
            "Epoch #19\n",
            "------------\n",
            "1600/18750\tLoss: 6.87669\n",
            "3200/18750\tLoss: 7.05110\n",
            "4800/18750\tLoss: 7.09197\n",
            "6400/18750\tLoss: 7.12879\n",
            "8000/18750\tLoss: 7.07427\n",
            "9600/18750\tLoss: 7.06832\n",
            "11200/18750\tLoss: 7.09432\n",
            "12800/18750\tLoss: 7.11422\n",
            "14400/18750\tLoss: 7.06322\n",
            "16000/18750\tLoss: 7.06199\n",
            "17600/18750\tLoss: 7.05929\n",
            "\n",
            "Accuracy: 78.06%\n",
            "\n",
            "Epoch #20\n",
            "------------\n",
            "1600/18750\tLoss: 7.12798\n",
            "3200/18750\tLoss: 7.05338\n",
            "4800/18750\tLoss: 7.08594\n",
            "6400/18750\tLoss: 7.11218\n",
            "8000/18750\tLoss: 7.13114\n",
            "9600/18750\tLoss: 7.11147\n",
            "11200/18750\tLoss: 7.09731\n",
            "12800/18750\tLoss: 7.07729\n",
            "14400/18750\tLoss: 7.08167\n",
            "16000/18750\tLoss: 7.09241\n",
            "17600/18750\tLoss: 7.09839\n",
            "\n",
            "Accuracy: 78.06%\n",
            "\n",
            "Epoch #21\n",
            "------------\n",
            "1600/18750\tLoss: 7.07626\n",
            "3200/18750\tLoss: 6.96979\n",
            "4800/18750\tLoss: 7.06347\n",
            "6400/18750\tLoss: 7.13096\n",
            "8000/18750\tLoss: 7.10615\n",
            "9600/18750\tLoss: 7.05391\n",
            "11200/18750\tLoss: 7.07376\n",
            "12800/18750\tLoss: 7.07465\n",
            "14400/18750\tLoss: 7.06692\n",
            "16000/18750\tLoss: 7.08611\n",
            "17600/18750\tLoss: 7.08474\n",
            "\n",
            "Accuracy: 78.06%\n",
            "\n",
            "Epoch #22\n",
            "------------\n",
            "1600/18750\tLoss: 7.38902\n",
            "3200/18750\tLoss: 7.14366\n",
            "4800/18750\tLoss: 7.14758\n",
            "6400/18750\tLoss: 7.13894\n",
            "8000/18750\tLoss: 7.17548\n",
            "9600/18750\tLoss: 7.12946\n",
            "11200/18750\tLoss: 7.12431\n",
            "12800/18750\tLoss: 7.09065\n",
            "14400/18750\tLoss: 7.10222\n",
            "16000/18750\tLoss: 7.09203\n",
            "17600/18750\tLoss: 7.11657\n",
            "\n",
            "Accuracy: 78.06%\n",
            "\n",
            "Epoch #23\n",
            "------------\n",
            "1600/18750\tLoss: 6.94849\n",
            "3200/18750\tLoss: 7.09733\n",
            "4800/18750\tLoss: 7.07774\n",
            "6400/18750\tLoss: 7.10448\n",
            "8000/18750\tLoss: 7.03034\n",
            "9600/18750\tLoss: 7.02857\n",
            "11200/18750\tLoss: 7.00437\n",
            "12800/18750\tLoss: 7.01336\n",
            "14400/18750\tLoss: 7.02711\n",
            "16000/18750\tLoss: 7.03224\n",
            "17600/18750\tLoss: 7.05944\n",
            "\n",
            "Accuracy: 78.06%\n",
            "\n",
            "Epoch #24\n",
            "------------\n",
            "1600/18750\tLoss: 7.31238\n",
            "3200/18750\tLoss: 7.08558\n",
            "4800/18750\tLoss: 7.11846\n",
            "6400/18750\tLoss: 7.07476\n",
            "8000/18750\tLoss: 7.08146\n",
            "9600/18750\tLoss: 7.07119\n",
            "11200/18750\tLoss: 7.11907\n",
            "12800/18750\tLoss: 7.11461\n",
            "14400/18750\tLoss: 7.09882\n",
            "16000/18750\tLoss: 7.07841\n",
            "17600/18750\tLoss: 7.07125\n",
            "\n",
            "Accuracy: 78.06%\n",
            "\n",
            "Epoch #25\n",
            "------------\n",
            "1600/18750\tLoss: 7.01411\n",
            "3200/18750\tLoss: 7.03258\n",
            "4800/18750\tLoss: 7.03491\n",
            "6400/18750\tLoss: 7.02188\n",
            "8000/18750\tLoss: 7.02386\n",
            "9600/18750\tLoss: 7.01593\n",
            "11200/18750\tLoss: 7.00016\n",
            "12800/18750\tLoss: 7.01280\n",
            "14400/18750\tLoss: 7.00023\n",
            "16000/18750\tLoss: 7.04760\n",
            "17600/18750\tLoss: 7.06992\n",
            "\n",
            "Accuracy: 78.06%\n",
            "\n",
            "Epoch #26\n",
            "------------\n",
            "1600/18750\tLoss: 7.08307\n",
            "3200/18750\tLoss: 6.92984\n",
            "4800/18750\tLoss: 7.00029\n",
            "6400/18750\tLoss: 6.97123\n",
            "8000/18750\tLoss: 7.01459\n",
            "9600/18750\tLoss: 7.08164\n",
            "11200/18750\tLoss: 7.03612\n",
            "12800/18750\tLoss: 7.04296\n",
            "14400/18750\tLoss: 7.05369\n",
            "16000/18750\tLoss: 7.07738\n",
            "17600/18750\tLoss: 7.08672\n",
            "\n",
            "Accuracy: 78.06%\n",
            "\n",
            "Epoch #27\n",
            "------------\n",
            "1600/18750\tLoss: 7.08038\n",
            "3200/18750\tLoss: 7.25462\n",
            "4800/18750\tLoss: 7.18390\n",
            "6400/18750\tLoss: 7.13124\n",
            "8000/18750\tLoss: 7.04570\n",
            "9600/18750\tLoss: 7.06811\n",
            "11200/18750\tLoss: 7.08119\n",
            "12800/18750\tLoss: 7.08371\n",
            "14400/18750\tLoss: 7.08748\n",
            "16000/18750\tLoss: 7.08766\n",
            "17600/18750\tLoss: 7.08367\n",
            "\n",
            "Accuracy: 78.06%\n",
            "\n",
            "Epoch #28\n",
            "------------\n",
            "1600/18750\tLoss: 7.22871\n",
            "3200/18750\tLoss: 7.06167\n",
            "4800/18750\tLoss: 7.01957\n",
            "6400/18750\tLoss: 7.02539\n",
            "8000/18750\tLoss: 7.07479\n",
            "9600/18750\tLoss: 7.08144\n",
            "11200/18750\tLoss: 7.04046\n",
            "12800/18750\tLoss: 7.00242\n",
            "14400/18750\tLoss: 7.04085\n",
            "16000/18750\tLoss: 7.03651\n",
            "17600/18750\tLoss: 7.07093\n",
            "\n",
            "Accuracy: 78.06%\n",
            "\n",
            "Epoch #29\n",
            "------------\n",
            "1600/18750\tLoss: 7.15353\n",
            "3200/18750\tLoss: 7.11586\n",
            "4800/18750\tLoss: 7.07977\n",
            "6400/18750\tLoss: 7.05809\n",
            "8000/18750\tLoss: 6.99704\n",
            "9600/18750\tLoss: 6.97910\n",
            "11200/18750\tLoss: 6.99810\n",
            "12800/18750\tLoss: 7.01184\n",
            "14400/18750\tLoss: 7.04837\n",
            "16000/18750\tLoss: 7.03333\n",
            "17600/18750\tLoss: 7.04521\n",
            "\n",
            "Accuracy: 78.06%\n",
            "\n",
            "Epoch #30\n",
            "------------\n",
            "1600/18750\tLoss: 6.90991\n",
            "3200/18750\tLoss: 7.13256\n",
            "4800/18750\tLoss: 7.11943\n",
            "6400/18750\tLoss: 7.10838\n",
            "8000/18750\tLoss: 7.09659\n",
            "9600/18750\tLoss: 7.06359\n",
            "11200/18750\tLoss: 7.05171\n",
            "12800/18750\tLoss: 7.09719\n",
            "14400/18750\tLoss: 7.07937\n",
            "16000/18750\tLoss: 7.07227\n",
            "17600/18750\tLoss: 7.07865\n",
            "\n",
            "Accuracy: 78.06%\n",
            "\n",
            "CPU times: user 30min 36s, sys: 3.6 s, total: 30min 40s\n",
            "Wall time: 30min 50s\n"
          ],
          "name": "stdout"
        }
      ]
    },
    {
      "cell_type": "markdown",
      "metadata": {
        "id": "SeUKJ_86Yiua",
        "colab_type": "text"
      },
      "source": [
        "#### Plot & Save"
      ]
    },
    {
      "cell_type": "code",
      "metadata": {
        "id": "hBcNe-rQVAHg",
        "colab_type": "code",
        "outputId": "d5c8ac96-2f46-48ad-8ca2-65404ee3e52d",
        "colab": {
          "base_uri": "https://localhost:8080/",
          "height": 404
        }
      },
      "source": [
        "plt.figure(figsize=(10, 6))\n",
        "plt.title('{} Test Accuracy'.format(MODEL.upper()))\n",
        "plt.xlabel('Epoch')\n",
        "plt.ylabel('Accuracy %')\n",
        "plt.savefig('{}-accuracy.png'.format(MODEL))\n",
        "plt.plot(range(1, len(test_acc)+1), test_acc, marker='o', ms='2');"
      ],
      "execution_count": 26,
      "outputs": [
        {
          "output_type": "display_data",
          "data": {
            "image/png": "[encoded data removed]",
            "text/plain": [
              "<Figure size 720x432 with 1 Axes>"
            ]
          },
          "metadata": {
            "tags": []
          }
        }
      ]
    },
    {
      "cell_type": "code",
      "metadata": {
        "id": "KY-iIkDnXUtl",
        "colab_type": "code",
        "colab": {}
      },
      "source": [
        "with open('{}-accuracies.txt'.format(MODEL), 'a') as f:\n",
        "    f.write('{}'.format(MODEL.upper()) + ':' + ','.join(str(a.item()) for a in test_acc) + '\\n')"
      ],
      "execution_count": 0,
      "outputs": []
    },
    {
      "cell_type": "code",
      "metadata": {
        "id": "DUzzwNRBrsef",
        "colab_type": "code",
        "colab": {}
      },
      "source": [
        "torch.save(model.state_dict(), './{}-dict.pt'.format(MODEL))"
      ],
      "execution_count": 0,
      "outputs": []
    },
    {
      "cell_type": "markdown",
      "metadata": {
        "id": "AF2OK-ZlYywh",
        "colab_type": "text"
      },
      "source": [
        "#### Parameters Info"
      ]
    },
    {
      "cell_type": "code",
      "metadata": {
        "id": "N-yjwepoxfHs",
        "colab_type": "code",
        "outputId": "a1d13004-2e3d-4afe-b638-d9d348781f8a",
        "colab": {
          "base_uri": "https://localhost:8080/",
          "height": 34
        }
      },
      "source": [
        "next(model.parameters()).is_cuda"
      ],
      "execution_count": 29,
      "outputs": [
        {
          "output_type": "execute_result",
          "data": {
            "text/plain": [
              "True"
            ]
          },
          "metadata": {
            "tags": []
          },
          "execution_count": 29
        }
      ]
    },
    {
      "cell_type": "code",
      "metadata": {
        "id": "X55xl3WKY3fM",
        "colab_type": "code",
        "colab": {}
      },
      "source": [
        "def count_parameters(model):\n",
        "    total_params = sum(p.numel() for p in model.parameters())\n",
        "    trainable_params = sum(p.numel() for p in model.parameters() if p.requires_grad)\n",
        "    return total_params, trainable_params"
      ],
      "execution_count": 0,
      "outputs": []
    },
    {
      "cell_type": "code",
      "metadata": {
        "id": "sgP15vHyY9UB",
        "colab_type": "code",
        "outputId": "3160ec55-c446-489e-c699-5f589cfdac28",
        "colab": {
          "base_uri": "https://localhost:8080/",
          "height": 51
        }
      },
      "source": [
        "total_params, trainable_params = count_parameters(model)\n",
        "print('Total parameters: {}\\nTrainable parameters: {}'.format(total_params, trainable_params))"
      ],
      "execution_count": 31,
      "outputs": [
        {
          "output_type": "stream",
          "text": [
            "Total parameters: 73602\n",
            "Trainable parameters: 73602\n"
          ],
          "name": "stdout"
        }
      ]
    },
    {
      "cell_type": "code",
      "metadata": {
        "id": "_kIVVl0LZAfc",
        "colab_type": "code",
        "outputId": "2d1c7f95-3816-486c-fa43-8c3dee869fab",
        "colab": {
          "base_uri": "https://localhost:8080/",
          "height": 272
        }
      },
      "source": [
        "for name, param in model.named_parameters():\n",
        "    if param.requires_grad:\n",
        "        print('{}: {}'.format(name, param.data.nelement()))"
      ],
      "execution_count": 32,
      "outputs": [
        {
          "output_type": "stream",
          "text": [
            "embedding.weight: 12800\n",
            "recurrent.recurrent_layers.0.weight_ih: 10000\n",
            "recurrent.recurrent_layers.0.weight_hh: 10000\n",
            "recurrent.recurrent_layers.0.bias_ih: 100\n",
            "recurrent.recurrent_layers.0.bias_hh: 100\n",
            "recurrent.recurrent_layers.1.weight_ih: 10000\n",
            "recurrent.recurrent_layers.1.weight_hh: 10000\n",
            "recurrent.recurrent_layers.1.bias_ih: 100\n",
            "recurrent.recurrent_layers.1.bias_hh: 100\n",
            "recurrent.recurrent_layers.2.weight_ih: 10000\n",
            "recurrent.recurrent_layers.2.weight_hh: 10000\n",
            "recurrent.recurrent_layers.2.bias_ih: 100\n",
            "recurrent.recurrent_layers.2.bias_hh: 100\n",
            "fc.weight: 200\n",
            "fc.bias: 2\n"
          ],
          "name": "stdout"
        }
      ]
    },
    {
      "cell_type": "markdown",
      "metadata": {
        "id": "6eC1cDeuZIZ7",
        "colab_type": "text"
      },
      "source": [
        "#### Weights"
      ]
    },
    {
      "cell_type": "code",
      "metadata": {
        "id": "rNYGLazuZCzZ",
        "colab_type": "code",
        "colab": {}
      },
      "source": [
        "weights = [model.recurrent.recurrent_layers[0].weight_ih, model.recurrent.recurrent_layers[0].weight_hh,\n",
        "           model.recurrent.recurrent_layers[1].weight_ih, model.recurrent.recurrent_layers[1].weight_hh,\n",
        "           model.recurrent.recurrent_layers[2].weight_ih, model.recurrent.recurrent_layers[2].weight_hh]"
      ],
      "execution_count": 0,
      "outputs": []
    },
    {
      "cell_type": "code",
      "metadata": {
        "id": "TO2pEgo9ZodR",
        "colab_type": "code",
        "colab": {}
      },
      "source": [
        "titles = ['Recurrent Layer 1 - weight_ih', 'Recurrent Layer 1 - weight_hh',\n",
        "          'Recurrent Layer 2 - weight_ih', 'Recurrent Layer 2 - weight_hh',\n",
        "          'Recurrent Layer 3 - weight_ih', 'Recurrent Layer 3 - weight_hh']"
      ],
      "execution_count": 0,
      "outputs": []
    },
    {
      "cell_type": "code",
      "metadata": {
        "id": "_Kd7fhBmZ7ts",
        "colab_type": "code",
        "outputId": "01bbc244-1221-4823-d39b-744035c4c892",
        "colab": {
          "base_uri": "https://localhost:8080/",
          "height": 607
        }
      },
      "source": [
        "plt.figure(figsize=(16, 10))\n",
        "plt.subplots_adjust(hspace=0.7)\n",
        "for i, weight in enumerate(weights):\n",
        "    plt.subplot(3,2,i+1)\n",
        "    plt.title('{}'.format(titles[i]))\n",
        "    plt.hist(weight.cpu().detach().numpy().reshape(-1), bins=100)\n",
        "    plt.xlim(-0.5, 0.5)\n",
        "plt.savefig('{}-weights.png'.format(MODEL))"
      ],
      "execution_count": 35,
      "outputs": [
        {
          "output_type": "display_data",
          "data": {
            "image/png": "[encoded data removed]",
            "text/plain": [
              "<Figure size 1152x720 with 6 Axes>"
            ]
          },
          "metadata": {
            "tags": []
          }
        }
      ]
    }
  ]
}