{
  "nbformat": 4,
  "nbformat_minor": 0,
  "metadata": {
    "accelerator": "GPU",
    "colab": {
      "name": "tanh.ipynb",
      "provenance": [],
      "collapsed_sections": []
    },
    "kernelspec": {
      "display_name": "Python 3",
      "language": "python",
      "name": "python3"
    },
    "language_info": {
      "codemirror_mode": {
        "name": "ipython",
        "version": 3
      },
      "file_extension": ".py",
      "mimetype": "text/x-python",
      "name": "python",
      "nbconvert_exporter": "python",
      "pygments_lexer": "ipython3",
      "version": "3.6.9"
    }
  },
  "cells": [
    {
      "cell_type": "code",
      "metadata": {
        "id": "YTdml_ZZO04W",
        "colab_type": "code",
        "colab": {}
      },
      "source": [
        "import sys\n",
        "sys.path.append('../')"
      ],
      "execution_count": 0,
      "outputs": []
    },
    {
      "cell_type": "code",
      "metadata": {
        "colab_type": "code",
        "id": "jnlVHBXYGevQ",
        "colab": {}
      },
      "source": [
        "import torch\n",
        "import torch.nn as nn\n",
        "from torch.autograd import Variable\n",
        "from torch.utils.data import Dataset, DataLoader\n",
        "from torch.nn.utils.rnn import pack_padded_sequence, pad_packed_sequence\n",
        "\n",
        "from MaskedRNN import MaskedDeepRNN\n",
        "from MaskedRNN import weight_prune\n",
        "\n",
        "import pandas as pd\n",
        "import matplotlib.pyplot as plt\n",
        "import seaborn as sns"
      ],
      "execution_count": 0,
      "outputs": []
    },
    {
      "cell_type": "code",
      "metadata": {
        "id": "SnJ89dAtiljA",
        "colab_type": "code",
        "colab": {}
      },
      "source": [
        "sns.set_style('darkgrid')"
      ],
      "execution_count": 0,
      "outputs": []
    },
    {
      "cell_type": "code",
      "metadata": {
        "id": "0ZDPVjuQxtey",
        "colab_type": "code",
        "colab": {}
      },
      "source": [
        "device = torch.device('cuda:0' if torch.cuda.is_available() else 'cpu') "
      ],
      "execution_count": 0,
      "outputs": []
    },
    {
      "cell_type": "markdown",
      "metadata": {
        "colab_type": "text",
        "id": "OQRUiZIIGevb"
      },
      "source": [
        "#### Import, shuffle and split dataset"
      ]
    },
    {
      "cell_type": "code",
      "metadata": {
        "colab_type": "code",
        "id": "Hc-jfPQDGevd",
        "colab": {}
      },
      "source": [
        "data = pd.read_csv('reber_sequences.csv')"
      ],
      "execution_count": 0,
      "outputs": []
    },
    {
      "cell_type": "code",
      "metadata": {
        "colab_type": "code",
        "id": "VZt1tuMDGevl",
        "colab": {}
      },
      "source": [
        "data = data.sample(frac=1).reset_index(drop=True)"
      ],
      "execution_count": 0,
      "outputs": []
    },
    {
      "cell_type": "code",
      "metadata": {
        "colab_type": "code",
        "id": "9FVvyiR2Gevt",
        "colab": {}
      },
      "source": [
        "train_data = data[:int(.75*len(data))]\n",
        "test_data = data[len(train_data):]"
      ],
      "execution_count": 0,
      "outputs": []
    },
    {
      "cell_type": "code",
      "metadata": {
        "colab_type": "code",
        "id": "hFGa03AvGevx",
        "outputId": "dcb23d38-bb15-41bb-e0e7-54d23457e986",
        "colab": {
          "base_uri": "https://localhost:8080/",
          "height": 68
        }
      },
      "source": [
        "print('Total length: {}\\nTrain data length: {}\\nTest data length: {}'.format(len(data), len(train_data), len(test_data)))"
      ],
      "execution_count": 8,
      "outputs": [
        {
          "output_type": "stream",
          "text": [
            "Total length: 25000\n",
            "Train data length: 18750\n",
            "Test data length: 6250\n"
          ],
          "name": "stdout"
        }
      ]
    },
    {
      "cell_type": "markdown",
      "metadata": {
        "colab_type": "text",
        "id": "uCoah1gRGev6"
      },
      "source": [
        "#### Parameters"
      ]
    },
    {
      "cell_type": "code",
      "metadata": {
        "id": "CKtaST_DiqQR",
        "colab_type": "code",
        "colab": {}
      },
      "source": [
        "MODEL = 'gru'"
      ],
      "execution_count": 0,
      "outputs": []
    },
    {
      "cell_type": "code",
      "metadata": {
        "colab_type": "code",
        "id": "6wDwJmInGev8",
        "colab": {}
      },
      "source": [
        "BATCH_SIZE = 16\n",
        "\n",
        "INPUT_SIZE = 128\n",
        "EMBEDDING_DIM = 100\n",
        "OUTPUT_SIZE = 2\n",
        "\n",
        "EPOCHS = 30\n",
        "HIDDEN_LAYERS = [100, 100, 100]"
      ],
      "execution_count": 0,
      "outputs": []
    },
    {
      "cell_type": "markdown",
      "metadata": {
        "colab_type": "text",
        "id": "mETf9K_7GewC"
      },
      "source": [
        "#### Customize `Dataset`"
      ]
    },
    {
      "cell_type": "code",
      "metadata": {
        "colab_type": "code",
        "id": "tvZNBTBqGewD",
        "colab": {}
      },
      "source": [
        "class MakeDataset(Dataset):\n",
        "    def __init__(self, data):\n",
        "        self.strings = list(data['string'])\n",
        "        self.valid = list(data['valid'])\n",
        "        self.len = len(self.valid)\n",
        "        self.valid_list = [0, 1]\n",
        "\n",
        "    def __getitem__(self, index):\n",
        "        return self.strings[index], self.valid[index]\n",
        "\n",
        "    def __len__(self):\n",
        "        return self.len"
      ],
      "execution_count": 0,
      "outputs": []
    },
    {
      "cell_type": "markdown",
      "metadata": {
        "colab_type": "text",
        "id": "qtRtnbUPGewI"
      },
      "source": [
        "#### Train/Test Loader"
      ]
    },
    {
      "cell_type": "code",
      "metadata": {
        "colab_type": "code",
        "id": "qIkc37iDGewJ",
        "colab": {}
      },
      "source": [
        "dataset = MakeDataset(train_data)\n",
        "train_loader = DataLoader(dataset=dataset, batch_size=BATCH_SIZE, shuffle=True)"
      ],
      "execution_count": 0,
      "outputs": []
    },
    {
      "cell_type": "code",
      "metadata": {
        "colab_type": "code",
        "id": "8me9-GUdGewP",
        "colab": {}
      },
      "source": [
        "dataset = MakeDataset(test_data)\n",
        "test_loader = DataLoader(dataset=dataset, batch_size=BATCH_SIZE, shuffle=True)"
      ],
      "execution_count": 0,
      "outputs": []
    },
    {
      "cell_type": "markdown",
      "metadata": {
        "colab_type": "text",
        "id": "HiAzJtMSGewW"
      },
      "source": [
        "#### Helper functions"
      ]
    },
    {
      "cell_type": "code",
      "metadata": {
        "colab_type": "code",
        "id": "VX5oPdsWGewX",
        "colab": {}
      },
      "source": [
        "def create_variable(tensor):\n",
        "    return Variable(tensor.to(device))"
      ],
      "execution_count": 0,
      "outputs": []
    },
    {
      "cell_type": "code",
      "metadata": {
        "colab_type": "code",
        "id": "rCKTIEbbGewh",
        "colab": {}
      },
      "source": [
        "def pad_seq(vect_seqs, seq_lens, valid):\n",
        "    seq_tensor = torch.zeros((len(vect_seqs), seq_lens.max())).long()\n",
        "    \n",
        "    for index, (seq, seq_len) in enumerate(zip(vect_seqs, seq_lens)):\n",
        "        seq_tensor[index, :seq_len] = torch.LongTensor(seq)\n",
        "        \n",
        "    return create_variable(seq_tensor), create_variable(seq_lens), create_variable(valid)"
      ],
      "execution_count": 0,
      "outputs": []
    },
    {
      "cell_type": "code",
      "metadata": {
        "colab_type": "code",
        "id": "BOeyEku_Gewn",
        "colab": {}
      },
      "source": [
        "def str2ascii(string):\n",
        "    ascii_arr = [ord(s) for s in string]\n",
        "    return ascii_arr, len(ascii_arr)"
      ],
      "execution_count": 0,
      "outputs": []
    },
    {
      "cell_type": "code",
      "metadata": {
        "colab_type": "code",
        "id": "g5HS0oTzGewq",
        "colab": {}
      },
      "source": [
        "def make_variables(strings, valid):\n",
        "    seqs_and_lens = [str2ascii(string)for string in strings]\n",
        "    vect_seqs = [s[0] for s in seqs_and_lens]\n",
        "    seq_lens = torch.LongTensor([s[1] for s in seqs_and_lens])\n",
        "    valid = torch.LongTensor(valid)\n",
        "    return pad_seq(vect_seqs, seq_lens, valid)"
      ],
      "execution_count": 0,
      "outputs": []
    },
    {
      "cell_type": "markdown",
      "metadata": {
        "id": "3Lr3KHufagGQ",
        "colab_type": "text"
      },
      "source": [
        "#### Model"
      ]
    },
    {
      "cell_type": "code",
      "metadata": {
        "id": "ZIhsCJgk7Em7",
        "colab_type": "code",
        "colab": {}
      },
      "source": [
        "class Model(nn.Module):\n",
        "    def __init__(self, input_size, output_size, hidden_layers: list, mode):\n",
        "        super(Model, self).__init__()\n",
        "\n",
        "        self.embedding = nn.Embedding(num_embeddings=input_size, embedding_dim=hidden_layers[0]).to(device)\n",
        "        self.recurrent = MaskedDeepRNN(hidden_layers[0], hidden_layers, mode=mode).to(device)\n",
        "        self.fc = nn.Linear(hidden_layers[-1], output_size).to(device)\n",
        "        \n",
        "    def forward(self, input):\n",
        "        input = input.t()\n",
        "        embedded = self.embedding(input)\n",
        "        output = self.recurrent(embedded)\n",
        "        return self.fc(output)"
      ],
      "execution_count": 0,
      "outputs": []
    },
    {
      "cell_type": "code",
      "metadata": {
        "id": "CEWO7ihK81cE",
        "colab_type": "code",
        "colab": {}
      },
      "source": [
        "model = Model(INPUT_SIZE, OUTPUT_SIZE, HIDDEN_LAYERS, mode='gru')"
      ],
      "execution_count": 0,
      "outputs": []
    },
    {
      "cell_type": "code",
      "metadata": {
        "id": "AkV3kS4nLMKP",
        "colab_type": "code",
        "colab": {}
      },
      "source": [
        "optimizer = torch.optim.Adam(model.parameters(), lr=0.001)\n",
        "criterion = nn.CrossEntropyLoss()"
      ],
      "execution_count": 0,
      "outputs": []
    },
    {
      "cell_type": "code",
      "metadata": {
        "id": "7SwNgu-kaax0",
        "colab_type": "code",
        "outputId": "5dd7e5e8-561a-43b7-eefe-c716910e2edb",
        "colab": {
          "base_uri": "https://localhost:8080/",
          "height": 204
        }
      },
      "source": [
        "print(model)"
      ],
      "execution_count": 21,
      "outputs": [
        {
          "output_type": "stream",
          "text": [
            "Model(\n",
            "  (embedding): Embedding(128, 100)\n",
            "  (recurrent): MaskedDeepRNN(\n",
            "    (recurrent_layers): ModuleList(\n",
            "      (0): MaskedRecurrentLayer(100, 100)\n",
            "      (1): MaskedRecurrentLayer(100, 100)\n",
            "      (2): MaskedRecurrentLayer(100, 100)\n",
            "    )\n",
            "  )\n",
            "  (fc): Linear(in_features=100, out_features=2, bias=True)\n",
            ")\n"
          ],
          "name": "stdout"
        }
      ]
    },
    {
      "cell_type": "markdown",
      "metadata": {
        "colab_type": "text",
        "id": "lQT4Qq2WGexR"
      },
      "source": [
        "#### Train & Test"
      ]
    },
    {
      "cell_type": "code",
      "metadata": {
        "colab_type": "code",
        "id": "ZRmp2k9KGexW",
        "colab": {}
      },
      "source": [
        "def train():\n",
        "    total_loss = 0\n",
        "    \n",
        "    for i, (string, valid) in enumerate(train_loader, 1):\n",
        "        input, seq_lens, target = make_variables(string, valid)\n",
        "\n",
        "        output = model(input)\n",
        "        \n",
        "        loss = criterion(output, target)\n",
        "        total_loss += loss.data.item()\n",
        "        \n",
        "        model.zero_grad()\n",
        "        loss.backward()\n",
        "        optimizer.step()\n",
        "        \n",
        "        if i % 100 == 0:\n",
        "            print('{}/{}\\tLoss: {:.5f}'.format(i * len(string), len(train_loader.dataset), total_loss / i * len(string)))"
      ],
      "execution_count": 0,
      "outputs": []
    },
    {
      "cell_type": "code",
      "metadata": {
        "colab_type": "code",
        "id": "ferW61amIjFP",
        "colab": {}
      },
      "source": [
        "test_acc = []"
      ],
      "execution_count": 0,
      "outputs": []
    },
    {
      "cell_type": "code",
      "metadata": {
        "colab_type": "code",
        "id": "EtDP_hJ0Gexh",
        "colab": {}
      },
      "source": [
        "def test():\n",
        "    correct = 0.\n",
        "    test_data_size = len(test_loader.dataset)\n",
        "    \n",
        "    for string, valid in test_loader:\n",
        "        input, seq_lens, target = make_variables(string, valid)\n",
        "\n",
        "        output = model(input)\n",
        "\n",
        "        pred = output.data.max(1, keepdim=True)[1]\n",
        "        correct += pred.eq(target.data.view_as(pred)).cpu().sum()\n",
        "\n",
        "    acc = 100 * correct / test_data_size\n",
        "    test_acc.append(acc)\n",
        "        \n",
        "    print('\\nAccuracy: {:.2f}%\\n'.format(acc))"
      ],
      "execution_count": 0,
      "outputs": []
    },
    {
      "cell_type": "code",
      "metadata": {
        "colab_type": "code",
        "id": "2az6-B2FGey3",
        "outputId": "5e8903e1-0721-4634-b645-45a048f30da7",
        "colab": {
          "base_uri": "https://localhost:8080/",
          "height": 1000
        }
      },
      "source": [
        "%%time\n",
        "for epoch in range(1, EPOCHS+1):\n",
        "    print('Epoch #{}\\n{}'.format(epoch, 12*'-'))\n",
        "    train()\n",
        "    test()"
      ],
      "execution_count": 25,
      "outputs": [
        {
          "output_type": "stream",
          "text": [
            "Epoch #1\n",
            "------------\n",
            "1600/18750\tLoss: 6.01223\n",
            "3200/18750\tLoss: 4.82187\n",
            "4800/18750\tLoss: 4.13105\n",
            "6400/18750\tLoss: 3.41686\n",
            "8000/18750\tLoss: 2.92345\n",
            "9600/18750\tLoss: 2.44749\n",
            "11200/18750\tLoss: 2.09926\n",
            "12800/18750\tLoss: 1.83762\n",
            "14400/18750\tLoss: 1.63434\n",
            "16000/18750\tLoss: 1.47135\n",
            "17600/18750\tLoss: 1.33812\n",
            "\n",
            "Accuracy: 100.00%\n",
            "\n",
            "Epoch #2\n",
            "------------\n",
            "1600/18750\tLoss: 0.00195\n",
            "3200/18750\tLoss: 0.00175\n",
            "4800/18750\tLoss: 0.00162\n",
            "6400/18750\tLoss: 0.00149\n",
            "8000/18750\tLoss: 0.00140\n",
            "9600/18750\tLoss: 0.00131\n",
            "11200/18750\tLoss: 0.00124\n",
            "12800/18750\tLoss: 0.00117\n",
            "14400/18750\tLoss: 0.00111\n",
            "16000/18750\tLoss: 0.00106\n",
            "17600/18750\tLoss: 0.00101\n",
            "\n",
            "Accuracy: 100.00%\n",
            "\n",
            "Epoch #3\n",
            "------------\n",
            "1600/18750\tLoss: 0.00045\n",
            "3200/18750\tLoss: 0.00044\n",
            "4800/18750\tLoss: 0.00043\n",
            "6400/18750\tLoss: 0.00041\n",
            "8000/18750\tLoss: 0.00040\n",
            "9600/18750\tLoss: 0.00039\n",
            "11200/18750\tLoss: 0.00037\n",
            "12800/18750\tLoss: 0.00036\n",
            "14400/18750\tLoss: 0.00035\n",
            "16000/18750\tLoss: 0.00034\n",
            "17600/18750\tLoss: 0.00033\n",
            "\n",
            "Accuracy: 100.00%\n",
            "\n",
            "Epoch #4\n",
            "------------\n",
            "1600/18750\tLoss: 0.00020\n",
            "3200/18750\tLoss: 0.00019\n",
            "4800/18750\tLoss: 0.00019\n",
            "6400/18750\tLoss: 0.00018\n",
            "8000/18750\tLoss: 0.00018\n",
            "9600/18750\tLoss: 0.00017\n",
            "11200/18750\tLoss: 0.00017\n",
            "12800/18750\tLoss: 0.00016\n",
            "14400/18750\tLoss: 0.00016\n",
            "16000/18750\tLoss: 0.00015\n",
            "17600/18750\tLoss: 0.00015\n",
            "\n",
            "Accuracy: 100.00%\n",
            "\n",
            "Epoch #5\n",
            "------------\n",
            "1600/18750\tLoss: 0.00010\n",
            "3200/18750\tLoss: 0.00009\n",
            "4800/18750\tLoss: 0.00009\n",
            "6400/18750\tLoss: 0.00009\n",
            "8000/18750\tLoss: 0.00009\n",
            "9600/18750\tLoss: 0.00008\n",
            "11200/18750\tLoss: 0.00008\n",
            "12800/18750\tLoss: 0.00008\n",
            "14400/18750\tLoss: 0.00008\n",
            "16000/18750\tLoss: 0.00008\n",
            "17600/18750\tLoss: 0.00007\n",
            "\n",
            "Accuracy: 100.00%\n",
            "\n",
            "Epoch #6\n",
            "------------\n",
            "1600/18750\tLoss: 0.00005\n",
            "3200/18750\tLoss: 0.00005\n",
            "4800/18750\tLoss: 0.00005\n",
            "6400/18750\tLoss: 0.00005\n",
            "8000/18750\tLoss: 0.00005\n",
            "9600/18750\tLoss: 0.00004\n",
            "11200/18750\tLoss: 0.00004\n",
            "12800/18750\tLoss: 0.00004\n",
            "14400/18750\tLoss: 0.00004\n",
            "16000/18750\tLoss: 0.00004\n",
            "17600/18750\tLoss: 0.00004\n",
            "\n",
            "Accuracy: 100.00%\n",
            "\n",
            "Epoch #7\n",
            "------------\n",
            "1600/18750\tLoss: 0.00003\n",
            "3200/18750\tLoss: 0.00003\n",
            "4800/18750\tLoss: 0.00003\n",
            "6400/18750\tLoss: 0.00002\n",
            "8000/18750\tLoss: 0.00002\n",
            "9600/18750\tLoss: 0.00002\n",
            "11200/18750\tLoss: 0.00002\n",
            "12800/18750\tLoss: 0.00002\n",
            "14400/18750\tLoss: 0.00002\n",
            "16000/18750\tLoss: 0.00002\n",
            "17600/18750\tLoss: 0.00002\n",
            "\n",
            "Accuracy: 100.00%\n",
            "\n",
            "Epoch #8\n",
            "------------\n",
            "1600/18750\tLoss: 0.00001\n",
            "3200/18750\tLoss: 0.00001\n",
            "4800/18750\tLoss: 0.00001\n",
            "6400/18750\tLoss: 0.00001\n",
            "8000/18750\tLoss: 0.00001\n",
            "9600/18750\tLoss: 0.00001\n",
            "11200/18750\tLoss: 0.00001\n",
            "12800/18750\tLoss: 0.00001\n",
            "14400/18750\tLoss: 0.00001\n",
            "16000/18750\tLoss: 0.00001\n",
            "17600/18750\tLoss: 0.00001\n",
            "\n",
            "Accuracy: 100.00%\n",
            "\n",
            "Epoch #9\n",
            "------------\n",
            "1600/18750\tLoss: 0.00001\n",
            "3200/18750\tLoss: 0.00001\n",
            "4800/18750\tLoss: 0.00001\n",
            "6400/18750\tLoss: 0.00001\n",
            "8000/18750\tLoss: 0.00001\n",
            "9600/18750\tLoss: 0.00001\n",
            "11200/18750\tLoss: 0.00001\n",
            "12800/18750\tLoss: 0.00001\n",
            "14400/18750\tLoss: 0.00001\n",
            "16000/18750\tLoss: 0.00001\n",
            "17600/18750\tLoss: 0.00001\n",
            "\n",
            "Accuracy: 100.00%\n",
            "\n",
            "Epoch #10\n",
            "------------\n",
            "1600/18750\tLoss: 0.00000\n",
            "3200/18750\tLoss: 0.00000\n",
            "4800/18750\tLoss: 0.00000\n",
            "6400/18750\tLoss: 0.00000\n",
            "8000/18750\tLoss: 0.00000\n",
            "9600/18750\tLoss: 0.00000\n",
            "11200/18750\tLoss: 0.00000\n",
            "12800/18750\tLoss: 0.00000\n",
            "14400/18750\tLoss: 0.00000\n",
            "16000/18750\tLoss: 0.00000\n",
            "17600/18750\tLoss: 0.00000\n",
            "\n",
            "Accuracy: 100.00%\n",
            "\n",
            "Epoch #11\n",
            "------------\n",
            "1600/18750\tLoss: 0.00000\n",
            "3200/18750\tLoss: 0.00000\n",
            "4800/18750\tLoss: 0.00000\n",
            "6400/18750\tLoss: 0.00000\n",
            "8000/18750\tLoss: 0.00000\n",
            "9600/18750\tLoss: 0.00000\n",
            "11200/18750\tLoss: 0.00000\n",
            "12800/18750\tLoss: 0.00000\n",
            "14400/18750\tLoss: 0.00000\n",
            "16000/18750\tLoss: 0.00000\n",
            "17600/18750\tLoss: 0.00000\n",
            "\n",
            "Accuracy: 100.00%\n",
            "\n",
            "Epoch #12\n",
            "------------\n",
            "1600/18750\tLoss: 0.00000\n",
            "3200/18750\tLoss: 0.00000\n",
            "4800/18750\tLoss: 0.00000\n",
            "6400/18750\tLoss: 0.00000\n",
            "8000/18750\tLoss: 0.00000\n",
            "9600/18750\tLoss: 0.00000\n",
            "11200/18750\tLoss: 0.00000\n",
            "12800/18750\tLoss: 0.00000\n",
            "14400/18750\tLoss: 0.00000\n",
            "16000/18750\tLoss: 0.00000\n",
            "17600/18750\tLoss: 0.00000\n",
            "\n",
            "Accuracy: 99.98%\n",
            "\n",
            "Epoch #13\n",
            "------------\n",
            "1600/18750\tLoss: 0.00000\n",
            "3200/18750\tLoss: 0.00000\n",
            "4800/18750\tLoss: 0.00000\n",
            "6400/18750\tLoss: 0.00000\n",
            "8000/18750\tLoss: 0.00000\n",
            "9600/18750\tLoss: 0.00000\n",
            "11200/18750\tLoss: 0.00000\n",
            "12800/18750\tLoss: 0.00000\n",
            "14400/18750\tLoss: 0.00000\n",
            "16000/18750\tLoss: 0.00000\n",
            "17600/18750\tLoss: 0.00000\n",
            "\n",
            "Accuracy: 100.00%\n",
            "\n",
            "Epoch #14\n",
            "------------\n",
            "1600/18750\tLoss: 0.00000\n",
            "3200/18750\tLoss: 0.00000\n",
            "4800/18750\tLoss: 0.00000\n",
            "6400/18750\tLoss: 0.00000\n",
            "8000/18750\tLoss: 0.00000\n",
            "9600/18750\tLoss: 0.00000\n",
            "11200/18750\tLoss: 0.00000\n",
            "12800/18750\tLoss: 0.00000\n",
            "14400/18750\tLoss: 0.00000\n",
            "16000/18750\tLoss: 0.00000\n",
            "17600/18750\tLoss: 0.00000\n",
            "\n",
            "Accuracy: 100.00%\n",
            "\n",
            "Epoch #15\n",
            "------------\n",
            "1600/18750\tLoss: 0.00000\n",
            "3200/18750\tLoss: 0.00000\n",
            "4800/18750\tLoss: 0.00000\n",
            "6400/18750\tLoss: 0.00000\n",
            "8000/18750\tLoss: 0.00000\n",
            "9600/18750\tLoss: 0.00000\n",
            "11200/18750\tLoss: 0.00000\n",
            "12800/18750\tLoss: 0.00000\n",
            "14400/18750\tLoss: 0.00000\n",
            "16000/18750\tLoss: 0.00000\n",
            "17600/18750\tLoss: 0.00000\n",
            "\n",
            "Accuracy: 100.00%\n",
            "\n",
            "Epoch #16\n",
            "------------\n",
            "1600/18750\tLoss: 0.00000\n",
            "3200/18750\tLoss: 0.00000\n",
            "4800/18750\tLoss: 0.00000\n",
            "6400/18750\tLoss: 0.00000\n",
            "8000/18750\tLoss: 0.00000\n",
            "9600/18750\tLoss: 0.00000\n",
            "11200/18750\tLoss: 0.00000\n",
            "12800/18750\tLoss: 0.00000\n",
            "14400/18750\tLoss: 0.00000\n",
            "16000/18750\tLoss: 0.00000\n",
            "17600/18750\tLoss: 0.00000\n",
            "\n",
            "Accuracy: 100.00%\n",
            "\n",
            "Epoch #17\n",
            "------------\n",
            "1600/18750\tLoss: 0.00000\n",
            "3200/18750\tLoss: 0.00000\n",
            "4800/18750\tLoss: 0.00000\n",
            "6400/18750\tLoss: 0.00000\n",
            "8000/18750\tLoss: 0.00000\n",
            "9600/18750\tLoss: 0.00000\n",
            "11200/18750\tLoss: 0.00000\n",
            "12800/18750\tLoss: 0.00000\n",
            "14400/18750\tLoss: 0.00000\n",
            "16000/18750\tLoss: 0.00000\n",
            "17600/18750\tLoss: 0.00000\n",
            "\n",
            "Accuracy: 100.00%\n",
            "\n",
            "Epoch #18\n",
            "------------\n",
            "1600/18750\tLoss: 0.00000\n",
            "3200/18750\tLoss: 0.00000\n",
            "4800/18750\tLoss: 0.00000\n",
            "6400/18750\tLoss: 0.00000\n",
            "8000/18750\tLoss: 0.00000\n",
            "9600/18750\tLoss: 0.00000\n",
            "11200/18750\tLoss: 0.00000\n",
            "12800/18750\tLoss: 0.00000\n",
            "14400/18750\tLoss: 0.00000\n",
            "16000/18750\tLoss: 0.00000\n",
            "17600/18750\tLoss: 0.00000\n",
            "\n",
            "Accuracy: 100.00%\n",
            "\n",
            "Epoch #19\n",
            "------------\n",
            "1600/18750\tLoss: 0.00000\n",
            "3200/18750\tLoss: 0.00000\n",
            "4800/18750\tLoss: 0.00000\n",
            "6400/18750\tLoss: 0.00000\n",
            "8000/18750\tLoss: 0.00000\n",
            "9600/18750\tLoss: 0.00000\n",
            "11200/18750\tLoss: 0.00000\n",
            "12800/18750\tLoss: 0.00000\n",
            "14400/18750\tLoss: 0.00000\n",
            "16000/18750\tLoss: 0.00000\n",
            "17600/18750\tLoss: 0.00000\n",
            "\n",
            "Accuracy: 100.00%\n",
            "\n",
            "Epoch #20\n",
            "------------\n",
            "1600/18750\tLoss: 0.00000\n",
            "3200/18750\tLoss: 0.00000\n",
            "4800/18750\tLoss: 1.22376\n",
            "6400/18750\tLoss: 0.92921\n",
            "8000/18750\tLoss: 0.74515\n",
            "9600/18750\tLoss: 0.62180\n",
            "11200/18750\tLoss: 0.53350\n",
            "12800/18750\tLoss: 0.46720\n",
            "14400/18750\tLoss: 0.42245\n",
            "16000/18750\tLoss: 0.38044\n",
            "17600/18750\tLoss: 0.34605\n",
            "\n",
            "Accuracy: 99.92%\n",
            "\n",
            "Epoch #21\n",
            "------------\n",
            "1600/18750\tLoss: 0.00143\n",
            "3200/18750\tLoss: 0.00132\n",
            "4800/18750\tLoss: 0.01301\n",
            "6400/18750\tLoss: 0.03399\n",
            "8000/18750\tLoss: 0.03521\n",
            "9600/18750\tLoss: 0.03005\n",
            "11200/18750\tLoss: 0.02613\n",
            "12800/18750\tLoss: 0.02301\n",
            "14400/18750\tLoss: 0.02058\n",
            "16000/18750\tLoss: 0.01861\n",
            "17600/18750\tLoss: 0.01700\n",
            "\n",
            "Accuracy: 100.00%\n",
            "\n",
            "Epoch #22\n",
            "------------\n",
            "1600/18750\tLoss: 0.00066\n",
            "3200/18750\tLoss: 0.00065\n",
            "4800/18750\tLoss: 0.00062\n",
            "6400/18750\tLoss: 0.00058\n",
            "8000/18750\tLoss: 0.00056\n",
            "9600/18750\tLoss: 0.00204\n",
            "11200/18750\tLoss: 0.00666\n",
            "12800/18750\tLoss: 0.00589\n",
            "14400/18750\tLoss: 0.00593\n",
            "16000/18750\tLoss: 0.01103\n",
            "17600/18750\tLoss: 0.01422\n",
            "\n",
            "Accuracy: 99.98%\n",
            "\n",
            "Epoch #23\n",
            "------------\n",
            "1600/18750\tLoss: 0.00108\n",
            "3200/18750\tLoss: 0.00457\n",
            "4800/18750\tLoss: 0.00337\n",
            "6400/18750\tLoss: 0.00266\n",
            "8000/18750\tLoss: 0.00223\n",
            "9600/18750\tLoss: 0.00192\n",
            "11200/18750\tLoss: 0.00169\n",
            "12800/18750\tLoss: 0.00152\n",
            "14400/18750\tLoss: 0.00138\n",
            "16000/18750\tLoss: 0.00127\n",
            "17600/18750\tLoss: 0.00117\n",
            "\n",
            "Accuracy: 100.00%\n",
            "\n",
            "Epoch #24\n",
            "------------\n",
            "1600/18750\tLoss: 0.00016\n",
            "3200/18750\tLoss: 0.00016\n",
            "4800/18750\tLoss: 0.00015\n",
            "6400/18750\tLoss: 0.00015\n",
            "8000/18750\tLoss: 0.00014\n",
            "9600/18750\tLoss: 0.00014\n",
            "11200/18750\tLoss: 0.00013\n",
            "12800/18750\tLoss: 0.00013\n",
            "14400/18750\tLoss: 0.00012\n",
            "16000/18750\tLoss: 0.00012\n",
            "17600/18750\tLoss: 0.00011\n",
            "\n",
            "Accuracy: 100.00%\n",
            "\n",
            "Epoch #25\n",
            "------------\n",
            "1600/18750\tLoss: 0.00007\n",
            "3200/18750\tLoss: 0.00007\n",
            "4800/18750\tLoss: 0.00006\n",
            "6400/18750\tLoss: 0.00006\n",
            "8000/18750\tLoss: 0.00006\n",
            "9600/18750\tLoss: 0.00006\n",
            "11200/18750\tLoss: 0.00006\n",
            "12800/18750\tLoss: 0.00006\n",
            "14400/18750\tLoss: 0.00005\n",
            "16000/18750\tLoss: 0.00005\n",
            "17600/18750\tLoss: 0.00005\n",
            "\n",
            "Accuracy: 100.00%\n",
            "\n",
            "Epoch #26\n",
            "------------\n",
            "1600/18750\tLoss: 0.00003\n",
            "3200/18750\tLoss: 0.00003\n",
            "4800/18750\tLoss: 0.00003\n",
            "6400/18750\tLoss: 0.00003\n",
            "8000/18750\tLoss: 0.00003\n",
            "9600/18750\tLoss: 0.00003\n",
            "11200/18750\tLoss: 0.00003\n",
            "12800/18750\tLoss: 0.00003\n",
            "14400/18750\tLoss: 0.00003\n",
            "16000/18750\tLoss: 0.00003\n",
            "17600/18750\tLoss: 0.00003\n",
            "\n",
            "Accuracy: 100.00%\n",
            "\n",
            "Epoch #27\n",
            "------------\n",
            "1600/18750\tLoss: 0.00002\n",
            "3200/18750\tLoss: 0.00002\n",
            "4800/18750\tLoss: 0.00002\n",
            "6400/18750\tLoss: 0.00002\n",
            "8000/18750\tLoss: 0.00001\n",
            "9600/18750\tLoss: 0.00001\n",
            "11200/18750\tLoss: 0.00001\n",
            "12800/18750\tLoss: 0.00001\n",
            "14400/18750\tLoss: 0.00001\n",
            "16000/18750\tLoss: 0.00001\n",
            "17600/18750\tLoss: 0.00001\n",
            "\n",
            "Accuracy: 100.00%\n",
            "\n",
            "Epoch #28\n",
            "------------\n",
            "1600/18750\tLoss: 0.00001\n",
            "3200/18750\tLoss: 0.00001\n",
            "4800/18750\tLoss: 0.00001\n",
            "6400/18750\tLoss: 0.00001\n",
            "8000/18750\tLoss: 0.00001\n",
            "9600/18750\tLoss: 0.00001\n",
            "11200/18750\tLoss: 0.00001\n",
            "12800/18750\tLoss: 0.00001\n",
            "14400/18750\tLoss: 0.00001\n",
            "16000/18750\tLoss: 0.00001\n",
            "17600/18750\tLoss: 0.00001\n",
            "\n",
            "Accuracy: 100.00%\n",
            "\n",
            "Epoch #29\n",
            "------------\n",
            "1600/18750\tLoss: 0.00000\n",
            "3200/18750\tLoss: 0.00000\n",
            "4800/18750\tLoss: 0.00000\n",
            "6400/18750\tLoss: 0.00000\n",
            "8000/18750\tLoss: 0.00000\n",
            "9600/18750\tLoss: 0.00000\n",
            "11200/18750\tLoss: 0.00000\n",
            "12800/18750\tLoss: 0.00000\n",
            "14400/18750\tLoss: 0.00000\n",
            "16000/18750\tLoss: 0.00000\n",
            "17600/18750\tLoss: 0.00000\n",
            "\n",
            "Accuracy: 100.00%\n",
            "\n",
            "Epoch #30\n",
            "------------\n",
            "1600/18750\tLoss: 0.00000\n",
            "3200/18750\tLoss: 0.00000\n",
            "4800/18750\tLoss: 0.00000\n",
            "6400/18750\tLoss: 0.00000\n",
            "8000/18750\tLoss: 0.00000\n",
            "9600/18750\tLoss: 0.00000\n",
            "11200/18750\tLoss: 0.00000\n",
            "12800/18750\tLoss: 0.00000\n",
            "14400/18750\tLoss: 0.00000\n",
            "16000/18750\tLoss: 0.00000\n",
            "17600/18750\tLoss: 0.00000\n",
            "\n",
            "Accuracy: 100.00%\n",
            "\n",
            "CPU times: user 28min 55s, sys: 3.54 s, total: 28min 59s\n",
            "Wall time: 29min 9s\n"
          ],
          "name": "stdout"
        }
      ]
    },
    {
      "cell_type": "markdown",
      "metadata": {
        "id": "SeUKJ_86Yiua",
        "colab_type": "text"
      },
      "source": [
        "#### Plot & Save"
      ]
    },
    {
      "cell_type": "code",
      "metadata": {
        "id": "hBcNe-rQVAHg",
        "colab_type": "code",
        "outputId": "f284ba31-1c8d-4db6-b9a2-8d3b6b786df6",
        "colab": {
          "base_uri": "https://localhost:8080/",
          "height": 404
        }
      },
      "source": [
        "plt.figure(figsize=(10, 6))\n",
        "plt.title('{} Test Accuracy'.format(MODEL.upper()))\n",
        "plt.xlabel('Epoch')\n",
        "plt.ylabel('Accuracy %')\n",
        "plt.savefig('{}-accuracy.png'.format(MODEL))\n",
        "plt.plot(range(1, len(test_acc)+1), test_acc, marker='o', ms='2');"
      ],
      "execution_count": 26,
      "outputs": [
        {
          "output_type": "display_data",
          "data": {
            "image/png": "[encoded data removed]",
            "text/plain": [
              "<Figure size 720x432 with 1 Axes>"
            ]
          },
          "metadata": {
            "tags": []
          }
        }
      ]
    },
    {
      "cell_type": "code",
      "metadata": {
        "id": "KY-iIkDnXUtl",
        "colab_type": "code",
        "colab": {}
      },
      "source": [
        "with open('{}-accuracies.txt'.format(MODEL), 'a') as f:\n",
        "    f.write('{}'.format(MODEL.upper()) + ':' + ','.join(str(a.item()) for a in test_acc) + '\\n')"
      ],
      "execution_count": 0,
      "outputs": []
    },
    {
      "cell_type": "code",
      "metadata": {
        "id": "DUzzwNRBrsef",
        "colab_type": "code",
        "colab": {}
      },
      "source": [
        "torch.save(model.state_dict(), './{}-dict.pt'.format(MODEL))"
      ],
      "execution_count": 0,
      "outputs": []
    },
    {
      "cell_type": "markdown",
      "metadata": {
        "id": "AF2OK-ZlYywh",
        "colab_type": "text"
      },
      "source": [
        "#### Parameters Info"
      ]
    },
    {
      "cell_type": "code",
      "metadata": {
        "id": "N-yjwepoxfHs",
        "colab_type": "code",
        "outputId": "9bcb6482-cb4c-409b-f234-0678503fb49b",
        "colab": {
          "base_uri": "https://localhost:8080/",
          "height": 34
        }
      },
      "source": [
        "next(model.parameters()).is_cuda"
      ],
      "execution_count": 29,
      "outputs": [
        {
          "output_type": "execute_result",
          "data": {
            "text/plain": [
              "True"
            ]
          },
          "metadata": {
            "tags": []
          },
          "execution_count": 29
        }
      ]
    },
    {
      "cell_type": "code",
      "metadata": {
        "id": "X55xl3WKY3fM",
        "colab_type": "code",
        "colab": {}
      },
      "source": [
        "def count_parameters(model):\n",
        "    total_params = sum(p.numel() for p in model.parameters())\n",
        "    trainable_params = sum(p.numel() for p in model.parameters() if p.requires_grad)\n",
        "    return total_params, trainable_params"
      ],
      "execution_count": 0,
      "outputs": []
    },
    {
      "cell_type": "code",
      "metadata": {
        "id": "sgP15vHyY9UB",
        "colab_type": "code",
        "outputId": "37302265-b1bd-47f1-b6bf-b67f4b2f9090",
        "colab": {
          "base_uri": "https://localhost:8080/",
          "height": 51
        }
      },
      "source": [
        "total_params, trainable_params = count_parameters(model)\n",
        "print('Total parameters: {}\\nTrainable parameters: {}'.format(total_params, trainable_params))"
      ],
      "execution_count": 31,
      "outputs": [
        {
          "output_type": "stream",
          "text": [
            "Total parameters: 194802\n",
            "Trainable parameters: 194802\n"
          ],
          "name": "stdout"
        }
      ]
    },
    {
      "cell_type": "code",
      "metadata": {
        "id": "_kIVVl0LZAfc",
        "colab_type": "code",
        "outputId": "3fde56d3-9bf8-4100-ee1f-d2cb1bc2a837",
        "colab": {
          "base_uri": "https://localhost:8080/",
          "height": 272
        }
      },
      "source": [
        "for name, param in model.named_parameters():\n",
        "    if param.requires_grad:\n",
        "        print('{}: {}'.format(name, param.data.nelement()))"
      ],
      "execution_count": 32,
      "outputs": [
        {
          "output_type": "stream",
          "text": [
            "embedding.weight: 12800\n",
            "recurrent.recurrent_layers.0.weight_ih: 30000\n",
            "recurrent.recurrent_layers.0.weight_hh: 30000\n",
            "recurrent.recurrent_layers.0.bias_ih: 300\n",
            "recurrent.recurrent_layers.0.bias_hh: 300\n",
            "recurrent.recurrent_layers.1.weight_ih: 30000\n",
            "recurrent.recurrent_layers.1.weight_hh: 30000\n",
            "recurrent.recurrent_layers.1.bias_ih: 300\n",
            "recurrent.recurrent_layers.1.bias_hh: 300\n",
            "recurrent.recurrent_layers.2.weight_ih: 30000\n",
            "recurrent.recurrent_layers.2.weight_hh: 30000\n",
            "recurrent.recurrent_layers.2.bias_ih: 300\n",
            "recurrent.recurrent_layers.2.bias_hh: 300\n",
            "fc.weight: 200\n",
            "fc.bias: 2\n"
          ],
          "name": "stdout"
        }
      ]
    },
    {
      "cell_type": "markdown",
      "metadata": {
        "id": "6eC1cDeuZIZ7",
        "colab_type": "text"
      },
      "source": [
        "#### Weights"
      ]
    },
    {
      "cell_type": "code",
      "metadata": {
        "id": "rNYGLazuZCzZ",
        "colab_type": "code",
        "colab": {}
      },
      "source": [
        "weights = [model.recurrent.recurrent_layers[0].weight_ih, model.recurrent.recurrent_layers[0].weight_hh,\n",
        "           model.recurrent.recurrent_layers[1].weight_ih, model.recurrent.recurrent_layers[1].weight_hh,\n",
        "           model.recurrent.recurrent_layers[2].weight_ih, model.recurrent.recurrent_layers[2].weight_hh]"
      ],
      "execution_count": 0,
      "outputs": []
    },
    {
      "cell_type": "code",
      "metadata": {
        "id": "TO2pEgo9ZodR",
        "colab_type": "code",
        "colab": {}
      },
      "source": [
        "titles = ['Recurrent Layer 1 - weight_ih', 'Recurrent Layer 1 - weight_hh',\n",
        "          'Recurrent Layer 2 - weight_ih', 'Recurrent Layer 2 - weight_hh',\n",
        "          'Recurrent Layer 3 - weight_ih', 'Recurrent Layer 3 - weight_hh']"
      ],
      "execution_count": 0,
      "outputs": []
    },
    {
      "cell_type": "code",
      "metadata": {
        "id": "_Kd7fhBmZ7ts",
        "colab_type": "code",
        "outputId": "6c177596-8952-4679-d5de-c0bacf598315",
        "colab": {
          "base_uri": "https://localhost:8080/",
          "height": 607
        }
      },
      "source": [
        "plt.figure(figsize=(16, 10))\n",
        "plt.subplots_adjust(hspace=0.7)\n",
        "for i, weight in enumerate(weights):\n",
        "    plt.subplot(3,2,i+1)\n",
        "    plt.title('{}'.format(titles[i]))\n",
        "    plt.hist(weight.cpu().detach().numpy().reshape(-1), bins=100)\n",
        "    plt.xlim(-0.5, 0.5)\n",
        "plt.savefig('{}-weights.png'.format(MODEL))"
      ],
      "execution_count": 35,
      "outputs": [
        {
          "output_type": "display_data",
          "data": {
            "image/png": "[encoded data removed]",
            "text/plain": [
              "<Figure size 1152x720 with 6 Axes>"
            ]
          },
          "metadata": {
            "tags": []
          }
        }
      ]
    }
  ]
}