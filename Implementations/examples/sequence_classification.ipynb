{
  "nbformat": 4,
  "nbformat_minor": 0,
  "metadata": {
    "accelerator": "GPU",
    "colab": {
      "name": "sequence_classification.ipynb",
      "provenance": [],
      "collapsed_sections": []
    },
    "kernelspec": {
      "display_name": "Python 3",
      "language": "python",
      "name": "python3"
    },
    "language_info": {
      "codemirror_mode": {
        "name": "ipython",
        "version": 3
      },
      "file_extension": ".py",
      "mimetype": "text/x-python",
      "name": "python",
      "nbconvert_exporter": "python",
      "pygments_lexer": "ipython3",
      "version": "3.6.9"
    }
  },
  "cells": [
    {
      "cell_type": "code",
      "metadata": {
        "id": "YTdml_ZZO04W",
        "colab_type": "code",
        "colab": {}
      },
      "source": [
        "import sys\n",
        "sys.path.append('../')"
      ],
      "execution_count": 0,
      "outputs": []
    },
    {
      "cell_type": "code",
      "metadata": {
        "colab_type": "code",
        "id": "jnlVHBXYGevQ",
        "colab": {}
      },
      "source": [
        "import torch\n",
        "import torch.nn as nn\n",
        "from torch.autograd import Variable\n",
        "from torch.utils.data import Dataset, DataLoader\n",
        "from torch.nn.utils.rnn import pack_padded_sequence, pad_packed_sequence\n",
        "\n",
        "from CustomRNN import DeepRNN\n",
        "\n",
        "import pandas as pd\n",
        "import matplotlib.pyplot as plt"
      ],
      "execution_count": 0,
      "outputs": []
    },
    {
      "cell_type": "markdown",
      "metadata": {
        "colab_type": "text",
        "id": "OQRUiZIIGevb"
      },
      "source": [
        "#### Import, shuffle and split dataset"
      ]
    },
    {
      "cell_type": "code",
      "metadata": {
        "colab_type": "code",
        "id": "Hc-jfPQDGevd",
        "colab": {}
      },
      "source": [
        "data = pd.read_csv('content/reber_sequences.csv')"
      ],
      "execution_count": 0,
      "outputs": []
    },
    {
      "cell_type": "code",
      "metadata": {
        "colab_type": "code",
        "id": "VZt1tuMDGevl",
        "colab": {}
      },
      "source": [
        "data = data.sample(frac=1).reset_index(drop=True)"
      ],
      "execution_count": 0,
      "outputs": []
    },
    {
      "cell_type": "code",
      "metadata": {
        "colab_type": "code",
        "id": "9FVvyiR2Gevt",
        "colab": {}
      },
      "source": [
        "train_data = data[:int(.75*len(data))]\n",
        "test_data = data[len(train_data):]"
      ],
      "execution_count": 0,
      "outputs": []
    },
    {
      "cell_type": "code",
      "metadata": {
        "colab_type": "code",
        "id": "hFGa03AvGevx",
        "outputId": "3d80a656-cee9-4176-a931-d05267f2c170",
        "colab": {
          "base_uri": "https://localhost:8080/",
          "height": 68
        }
      },
      "source": [
        "print('Total length: {}\\nTrain data length: {}\\nTest data length: {}'.format(len(data), len(train_data), len(test_data)))"
      ],
      "execution_count": 6,
      "outputs": [
        {
          "output_type": "stream",
          "text": [
            "Total length: 25000\n",
            "Train data length: 18750\n",
            "Test data length: 6250\n"
          ],
          "name": "stdout"
        }
      ]
    },
    {
      "cell_type": "markdown",
      "metadata": {
        "colab_type": "text",
        "id": "uCoah1gRGev6"
      },
      "source": [
        "#### Parameters"
      ]
    },
    {
      "cell_type": "code",
      "metadata": {
        "colab_type": "code",
        "id": "6wDwJmInGev8",
        "colab": {}
      },
      "source": [
        "BATCH_SIZE = 16\n",
        "EPOCHS = 12\n",
        "OUTPUT_SIZE = 2\n",
        "INPUT_SIZE = 128"
      ],
      "execution_count": 0,
      "outputs": []
    },
    {
      "cell_type": "markdown",
      "metadata": {
        "colab_type": "text",
        "id": "mETf9K_7GewC"
      },
      "source": [
        "#### Customize `Dataset` and create loaders"
      ]
    },
    {
      "cell_type": "code",
      "metadata": {
        "colab_type": "code",
        "id": "tvZNBTBqGewD",
        "colab": {}
      },
      "source": [
        "class MakeDataset(Dataset):\n",
        "    def __init__(self, data):\n",
        "        self.strings = list(data['string'])\n",
        "        self.valid = list(data['valid'])\n",
        "        self.len = len(self.valid)\n",
        "        self.valid_list = [0, 1]\n",
        "\n",
        "    def __getitem__(self, index):\n",
        "        return self.strings[index], self.valid[index]\n",
        "\n",
        "    def __len__(self):\n",
        "        return self.len"
      ],
      "execution_count": 0,
      "outputs": []
    },
    {
      "cell_type": "markdown",
      "metadata": {
        "colab_type": "text",
        "id": "qtRtnbUPGewI"
      },
      "source": [
        "Create train loader"
      ]
    },
    {
      "cell_type": "code",
      "metadata": {
        "colab_type": "code",
        "id": "qIkc37iDGewJ",
        "colab": {}
      },
      "source": [
        "dataset = MakeDataset(train_data)\n",
        "train_loader = DataLoader(dataset=dataset, batch_size=BATCH_SIZE, shuffle=True)"
      ],
      "execution_count": 0,
      "outputs": []
    },
    {
      "cell_type": "markdown",
      "metadata": {
        "colab_type": "text",
        "id": "Onw5bwfjGewO"
      },
      "source": [
        "Create test loader"
      ]
    },
    {
      "cell_type": "code",
      "metadata": {
        "colab_type": "code",
        "id": "8me9-GUdGewP",
        "colab": {}
      },
      "source": [
        "dataset = MakeDataset(test_data)\n",
        "test_loader = DataLoader(dataset=dataset, batch_size=BATCH_SIZE, shuffle=True)"
      ],
      "execution_count": 0,
      "outputs": []
    },
    {
      "cell_type": "markdown",
      "metadata": {
        "colab_type": "text",
        "id": "HiAzJtMSGewW"
      },
      "source": [
        "#### Some helper functions"
      ]
    },
    {
      "cell_type": "code",
      "metadata": {
        "colab_type": "code",
        "id": "VX5oPdsWGewX",
        "colab": {}
      },
      "source": [
        "def create_variable(tensor):\n",
        "    return Variable(tensor)"
      ],
      "execution_count": 0,
      "outputs": []
    },
    {
      "cell_type": "code",
      "metadata": {
        "colab_type": "code",
        "id": "rCKTIEbbGewh",
        "colab": {}
      },
      "source": [
        "def pad_seq(vect_seqs, seq_lens, valid):\n",
        "    seq_tensor = torch.zeros((len(vect_seqs), seq_lens.max())).long()\n",
        "    \n",
        "    for index, (seq, seq_len) in enumerate(zip(vect_seqs, seq_lens)):\n",
        "        seq_tensor[index, :seq_len] = torch.LongTensor(seq)\n",
        "        \n",
        "    return create_variable(seq_tensor), create_variable(seq_lens), create_variable(valid)"
      ],
      "execution_count": 0,
      "outputs": []
    },
    {
      "cell_type": "code",
      "metadata": {
        "colab_type": "code",
        "id": "BOeyEku_Gewn",
        "colab": {}
      },
      "source": [
        "def str2ascii(string):\n",
        "    ascii_arr = [ord(s) for s in string]\n",
        "    return ascii_arr, len(ascii_arr)"
      ],
      "execution_count": 0,
      "outputs": []
    },
    {
      "cell_type": "code",
      "metadata": {
        "colab_type": "code",
        "id": "g5HS0oTzGewq",
        "colab": {}
      },
      "source": [
        "def make_variables(strings, valid):\n",
        "    seqs_and_lens = [str2ascii(string)for string in strings]\n",
        "    vect_seqs = [s[0] for s in seqs_and_lens]\n",
        "    seq_lens = torch.LongTensor([s[1] for s in seqs_and_lens])\n",
        "    valid = torch.LongTensor(valid)\n",
        "    return pad_seq(vect_seqs, seq_lens, valid)"
      ],
      "execution_count": 0,
      "outputs": []
    },
    {
      "cell_type": "markdown",
      "metadata": {
        "colab_type": "text",
        "id": "P1kyF1n6GexA"
      },
      "source": [
        "#### Define model class"
      ]
    },
    {
      "cell_type": "code",
      "metadata": {
        "colab_type": "code",
        "id": "VKVStR_zDbs1",
        "colab": {}
      },
      "source": [
        "class RNNModel(nn.Module):\n",
        "    def __init__(self, input_size, output_size, hidden_layers : list):\n",
        "        super(RNNModel, self).__init__()\n",
        "\n",
        "        self.embedding = nn.Embedding(input_size, hidden_layers[0])\n",
        "        self.rnn = DeepRNN(hidden_layers[0], hidden_layers, nonlinearity='relu')\n",
        "        self.fc = nn.Linear(hidden_layers[-1], output_size)\n",
        "        \n",
        "    def forward(self, input):\n",
        "        input = input.t()\n",
        "        embedded = self.embedding(input)\n",
        "\n",
        "        output = self.rnn(embedded)\n",
        "\n",
        "        output = self.fc(output[-1])\n",
        "        return output"
      ],
      "execution_count": 0,
      "outputs": []
    },
    {
      "cell_type": "markdown",
      "metadata": {
        "colab_type": "text",
        "id": "lQT4Qq2WGexR"
      },
      "source": [
        "#### Training function"
      ]
    },
    {
      "cell_type": "code",
      "metadata": {
        "colab_type": "code",
        "id": "ZRmp2k9KGexW",
        "colab": {}
      },
      "source": [
        "def train():\n",
        "    total_loss = 0\n",
        "    \n",
        "    for i, (string, valid) in enumerate(train_loader, 1):\n",
        "        input, seq_lens, target = make_variables(string, valid)\n",
        "\n",
        "        output = classifier(input)\n",
        "        \n",
        "        loss = criterion(output, target)\n",
        "        total_loss += loss.data.item()\n",
        "        \n",
        "        classifier.zero_grad()\n",
        "        loss.backward()\n",
        "        optimizer.step()\n",
        "        \n",
        "        if i % 100 == 0:\n",
        "            print('{}/{}\\tLoss: {:.5f}'.format(i * len(string), len(train_loader.dataset), total_loss / i * len(string)))"
      ],
      "execution_count": 0,
      "outputs": []
    },
    {
      "cell_type": "markdown",
      "metadata": {
        "colab_type": "text",
        "id": "zsOtVzFNGexe"
      },
      "source": [
        "#### Testing function"
      ]
    },
    {
      "cell_type": "code",
      "metadata": {
        "colab_type": "code",
        "id": "ferW61amIjFP",
        "colab": {}
      },
      "source": [
        "test_acc = []"
      ],
      "execution_count": 0,
      "outputs": []
    },
    {
      "cell_type": "code",
      "metadata": {
        "colab_type": "code",
        "id": "EtDP_hJ0Gexh",
        "colab": {}
      },
      "source": [
        "def test(string=None):\n",
        "    if string:\n",
        "        input, seq_lens, target = make_variables([string], [])\n",
        "\n",
        "        output = classifier(input)\n",
        "\n",
        "        pred = output.data.max(1, keepdim=True)[1]\n",
        "        print('{} is {}'.format(string, pred))\n",
        "        return\n",
        "    \n",
        "    print('\\nEvaluating model...')\n",
        "    correct = 0\n",
        "    test_data_size = len(test_loader.dataset)\n",
        "    \n",
        "    for string, valid in test_loader:\n",
        "        input, seq_lens, target = make_variables(string, valid)\n",
        "\n",
        "        output = classifier(input)\n",
        "\n",
        "        pred = output.data.max(1, keepdim=True)[1]\n",
        "        correct += pred.eq(target.data.view_as(pred)).cpu().sum()\n",
        "\n",
        "    acc = 100 * correct / test_data_size\n",
        "    test_acc.append(acc)\n",
        "        \n",
        "    print('Test set accuracy: {}/{} ({:.2f}%)\\n'.format(correct, test_data_size, acc))"
      ],
      "execution_count": 0,
      "outputs": []
    },
    {
      "cell_type": "markdown",
      "metadata": {
        "colab_type": "text",
        "id": "Yudx6wVtGex2"
      },
      "source": [
        "#### Time for action!"
      ]
    },
    {
      "cell_type": "markdown",
      "metadata": {
        "colab_type": "text",
        "id": "e3jvvliDejlg"
      },
      "source": [
        "#### Base RNN"
      ]
    },
    {
      "cell_type": "code",
      "metadata": {
        "colab_type": "code",
        "id": "4emJ3S77Gex7",
        "colab": {}
      },
      "source": [
        "classifier = RNNModel(INPUT_SIZE, 2, [100, 300, 500])"
      ],
      "execution_count": 0,
      "outputs": []
    },
    {
      "cell_type": "code",
      "metadata": {
        "colab_type": "code",
        "id": "zbzRelW2GeyD",
        "colab": {}
      },
      "source": [
        "optimizer = torch.optim.Adam(classifier.parameters(), lr=0.001)\n",
        "criterion = nn.CrossEntropyLoss()"
      ],
      "execution_count": 0,
      "outputs": []
    },
    {
      "cell_type": "code",
      "metadata": {
        "colab_type": "code",
        "id": "2az6-B2FGey3",
        "outputId": "652e512f-b745-4e9d-acbc-c49bc437f7c8",
        "colab": {
          "base_uri": "https://localhost:8080/",
          "height": 1000
        }
      },
      "source": [
        "%%time\n",
        "for epoch in range(1, EPOCHS+1):\n",
        "    print('Epoch #{}\\n{}'.format(epoch, 12*'-'))\n",
        "    train()\n",
        "    test()"
      ],
      "execution_count": 21,
      "outputs": [
        {
          "output_type": "stream",
          "text": [
            "Epoch #1\n",
            "------------\n",
            "1600/18750\tLoss: 9.21194\n",
            "3200/18750\tLoss: 8.38997\n",
            "4800/18750\tLoss: 7.67305\n",
            "6400/18750\tLoss: 7.70600\n",
            "8000/18750\tLoss: 7.42607\n",
            "9600/18750\tLoss: 7.25028\n",
            "11200/18750\tLoss: 7.07103\n",
            "12800/18750\tLoss: 6.90554\n",
            "14400/18750\tLoss: 6.74253\n",
            "16000/18750\tLoss: 6.64404\n",
            "17600/18750\tLoss: 6.49346\n",
            "\n",
            "Evaluating model...\n",
            "Test set accuracy: 5310/6250 (84.00%)\n",
            "\n",
            "Epoch #2\n",
            "------------\n",
            "1600/18750\tLoss: 5.81801\n",
            "3200/18750\tLoss: 6.41608\n",
            "4800/18750\tLoss: 6.56837\n",
            "6400/18750\tLoss: 6.49413\n",
            "8000/18750\tLoss: 6.46016\n",
            "9600/18750\tLoss: 6.29393\n",
            "11200/18750\tLoss: 6.22164\n",
            "12800/18750\tLoss: 6.03566\n",
            "14400/18750\tLoss: 5.86426\n",
            "16000/18750\tLoss: 5.97729\n",
            "17600/18750\tLoss: 6.15921\n",
            "\n",
            "Evaluating model...\n",
            "Test set accuracy: 5087/6250 (81.00%)\n",
            "\n",
            "Epoch #3\n",
            "------------\n",
            "1600/18750\tLoss: 4.59531\n",
            "3200/18750\tLoss: 4.64448\n",
            "4800/18750\tLoss: 4.84077\n",
            "6400/18750\tLoss: 4.79981\n",
            "8000/18750\tLoss: 4.68225\n",
            "9600/18750\tLoss: 4.50273\n",
            "11200/18750\tLoss: 4.35524\n",
            "12800/18750\tLoss: 4.24713\n",
            "14400/18750\tLoss: 4.14502\n",
            "16000/18750\tLoss: 4.07305\n",
            "17600/18750\tLoss: 4.00873\n",
            "\n",
            "Evaluating model...\n",
            "Test set accuracy: 5753/6250 (92.00%)\n",
            "\n",
            "Epoch #4\n",
            "------------\n",
            "1600/18750\tLoss: 3.89144\n",
            "3200/18750\tLoss: 3.61012\n",
            "4800/18750\tLoss: 3.43323\n",
            "6400/18750\tLoss: 3.49259\n",
            "8000/18750\tLoss: 3.49132\n",
            "9600/18750\tLoss: 3.50139\n",
            "11200/18750\tLoss: 3.49193\n",
            "12800/18750\tLoss: 3.46053\n",
            "14400/18750\tLoss: 3.45051\n",
            "16000/18750\tLoss: 3.45458\n",
            "17600/18750\tLoss: 3.44408\n",
            "\n",
            "Evaluating model...\n",
            "Test set accuracy: 5752/6250 (92.00%)\n",
            "\n",
            "Epoch #5\n",
            "------------\n",
            "1600/18750\tLoss: 3.29021\n",
            "3200/18750\tLoss: 3.60687\n",
            "4800/18750\tLoss: 3.98002\n",
            "6400/18750\tLoss: 4.01659\n",
            "8000/18750\tLoss: 3.93563\n",
            "9600/18750\tLoss: 3.79843\n",
            "11200/18750\tLoss: 3.78822\n",
            "12800/18750\tLoss: 3.75781\n",
            "14400/18750\tLoss: 3.72883\n",
            "16000/18750\tLoss: 3.64817\n",
            "17600/18750\tLoss: 3.59045\n",
            "\n",
            "Evaluating model...\n",
            "Test set accuracy: 5806/6250 (92.00%)\n",
            "\n",
            "Epoch #6\n",
            "------------\n",
            "1600/18750\tLoss: 2.95891\n",
            "3200/18750\tLoss: 3.18917\n",
            "4800/18750\tLoss: 4.39500\n",
            "6400/18750\tLoss: 4.34160\n",
            "8000/18750\tLoss: 4.15206\n",
            "9600/18750\tLoss: 4.00540\n",
            "11200/18750\tLoss: 3.95262\n",
            "12800/18750\tLoss: 3.87713\n",
            "14400/18750\tLoss: 3.80409\n",
            "16000/18750\tLoss: 3.76397\n",
            "17600/18750\tLoss: 3.73959\n",
            "\n",
            "Evaluating model...\n",
            "Test set accuracy: 5755/6250 (92.00%)\n",
            "\n",
            "Epoch #7\n",
            "------------\n",
            "1600/18750\tLoss: 3.55218\n",
            "3200/18750\tLoss: 3.36037\n",
            "4800/18750\tLoss: 3.37678\n",
            "6400/18750\tLoss: 3.29935\n",
            "8000/18750\tLoss: 3.34976\n",
            "9600/18750\tLoss: 3.40225\n",
            "11200/18750\tLoss: 3.32781\n",
            "12800/18750\tLoss: 3.28299\n",
            "14400/18750\tLoss: 3.26606\n",
            "16000/18750\tLoss: 3.22697\n",
            "17600/18750\tLoss: 3.26659\n",
            "\n",
            "Evaluating model...\n",
            "Test set accuracy: 5757/6250 (92.00%)\n",
            "\n",
            "Epoch #8\n",
            "------------\n",
            "1600/18750\tLoss: 3.40236\n",
            "3200/18750\tLoss: 3.36381\n",
            "4800/18750\tLoss: 3.51143\n",
            "6400/18750\tLoss: 3.42505\n",
            "8000/18750\tLoss: 3.35311\n",
            "9600/18750\tLoss: 3.22816\n",
            "11200/18750\tLoss: 3.13018\n",
            "12800/18750\tLoss: 3.10369\n",
            "14400/18750\tLoss: 3.13996\n",
            "16000/18750\tLoss: 3.16891\n",
            "17600/18750\tLoss: 3.20155\n",
            "\n",
            "Evaluating model...\n",
            "Test set accuracy: 5758/6250 (92.00%)\n",
            "\n",
            "Epoch #9\n",
            "------------\n",
            "1600/18750\tLoss: 3.21155\n",
            "3200/18750\tLoss: 3.17107\n",
            "4800/18750\tLoss: 2.98108\n",
            "6400/18750\tLoss: 3.61367\n",
            "8000/18750\tLoss: 4.31168\n",
            "9600/18750\tLoss: 4.20960\n",
            "11200/18750\tLoss: 3.99022\n",
            "12800/18750\tLoss: 3.91016\n",
            "14400/18750\tLoss: 3.79088\n",
            "16000/18750\tLoss: 3.67931\n",
            "17600/18750\tLoss: 3.61937\n",
            "\n",
            "Evaluating model...\n",
            "Test set accuracy: 5871/6250 (93.00%)\n",
            "\n",
            "Epoch #10\n",
            "------------\n",
            "1600/18750\tLoss: 2.86800\n",
            "3200/18750\tLoss: 3.02501\n",
            "4800/18750\tLoss: 2.93776\n",
            "6400/18750\tLoss: 2.86291\n",
            "8000/18750\tLoss: 2.82565\n",
            "9600/18750\tLoss: 2.83017\n",
            "11200/18750\tLoss: 2.88504\n",
            "12800/18750\tLoss: 2.84863\n",
            "14400/18750\tLoss: 2.81873\n",
            "16000/18750\tLoss: 2.80260\n",
            "17600/18750\tLoss: 2.76803\n",
            "\n",
            "Evaluating model...\n",
            "Test set accuracy: 5876/6250 (94.00%)\n",
            "\n",
            "Epoch #11\n",
            "------------\n",
            "1600/18750\tLoss: 3.19807\n",
            "3200/18750\tLoss: 2.89775\n",
            "4800/18750\tLoss: 2.94891\n",
            "6400/18750\tLoss: 2.95957\n",
            "8000/18750\tLoss: 2.91526\n",
            "9600/18750\tLoss: 2.88811\n",
            "11200/18750\tLoss: 2.86803\n",
            "12800/18750\tLoss: 2.82567\n",
            "14400/18750\tLoss: 2.83351\n",
            "16000/18750\tLoss: 2.85533\n",
            "17600/18750\tLoss: 2.83483\n",
            "\n",
            "Evaluating model...\n",
            "Test set accuracy: 5876/6250 (94.00%)\n",
            "\n",
            "Epoch #12\n",
            "------------\n",
            "1600/18750\tLoss: 2.81945\n",
            "3200/18750\tLoss: 2.78324\n",
            "4800/18750\tLoss: 2.75684\n",
            "6400/18750\tLoss: 2.90927\n",
            "8000/18750\tLoss: 3.09208\n",
            "9600/18750\tLoss: 3.18776\n",
            "11200/18750\tLoss: 3.13906\n",
            "12800/18750\tLoss: 3.10350\n",
            "14400/18750\tLoss: 3.08027\n",
            "16000/18750\tLoss: 3.03937\n",
            "17600/18750\tLoss: 2.99724\n",
            "\n",
            "Evaluating model...\n",
            "Test set accuracy: 5871/6250 (93.00%)\n",
            "\n",
            "CPU times: user 15min 51s, sys: 29.7 s, total: 16min 20s\n",
            "Wall time: 16min 24s\n"
          ],
          "name": "stdout"
        }
      ]
    },
    {
      "cell_type": "code",
      "metadata": {
        "colab_type": "code",
        "id": "OAD6XIdQKiu1",
        "outputId": "a6afe274-3f9f-44ee-9673-374ec1cfd0c5",
        "colab": {
          "base_uri": "https://localhost:8080/",
          "height": 312
        }
      },
      "source": [
        "plt.title('Test set evaluation')\n",
        "plt.xlabel('Epochs')\n",
        "plt.ylabel('Accuracy')\n",
        "plt.plot(range(1, len(test_acc)+1), test_acc)"
      ],
      "execution_count": 22,
      "outputs": [
        {
          "output_type": "execute_result",
          "data": {
            "text/plain": [
              "[<matplotlib.lines.Line2D at 0x7f7fdce1a400>]"
            ]
          },
          "metadata": {
            "tags": []
          },
          "execution_count": 22
        },
        {
          "output_type": "display_data",
          "data": {
            "image/png": "[encoded data removed]",
            "text/plain": [
              "<Figure size 432x288 with 1 Axes>"
            ]
          },
          "metadata": {
            "tags": []
          }
        }
      ]
    }
  ]
}