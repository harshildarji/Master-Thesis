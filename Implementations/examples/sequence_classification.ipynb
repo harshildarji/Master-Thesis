{
  "nbformat": 4,
  "nbformat_minor": 0,
  "metadata": {
    "accelerator": "GPU",
    "colab": {
      "name": "sequence_classification.ipynb",
      "provenance": [],
      "collapsed_sections": []
    },
    "kernelspec": {
      "display_name": "Python 3",
      "language": "python",
      "name": "python3"
    },
    "language_info": {
      "codemirror_mode": {
        "name": "ipython",
        "version": 3
      },
      "file_extension": ".py",
      "mimetype": "text/x-python",
      "name": "python",
      "nbconvert_exporter": "python",
      "pygments_lexer": "ipython3",
      "version": "3.6.9"
    }
  },
  "cells": [
    {
      "cell_type": "code",
      "metadata": {
        "id": "YTdml_ZZO04W",
        "colab_type": "code",
        "colab": {}
      },
      "source": [
        "import sys\n",
        "sys.path.append('../')"
      ],
      "execution_count": 0,
      "outputs": []
    },
    {
      "cell_type": "code",
      "metadata": {
        "colab_type": "code",
        "id": "jnlVHBXYGevQ",
        "colab": {}
      },
      "source": [
        "import torch\n",
        "import torch.nn as nn\n",
        "from torch.autograd import Variable\n",
        "from torch.utils.data import Dataset, DataLoader\n",
        "from torch.nn.utils.rnn import pack_padded_sequence, pad_packed_sequence\n",
        "\n",
        "from CustomRNN import DeepRNN\n",
        "\n",
        "import pandas as pd\n",
        "import matplotlib.pyplot as plt"
      ],
      "execution_count": 0,
      "outputs": []
    },
    {
      "cell_type": "markdown",
      "metadata": {
        "colab_type": "text",
        "id": "OQRUiZIIGevb"
      },
      "source": [
        "#### Import, shuffle and split dataset"
      ]
    },
    {
      "cell_type": "code",
      "metadata": {
        "colab_type": "code",
        "id": "Hc-jfPQDGevd",
        "colab": {}
      },
      "source": [
        "data = pd.read_csv('content/reber_sequences.csv')"
      ],
      "execution_count": 0,
      "outputs": []
    },
    {
      "cell_type": "code",
      "metadata": {
        "colab_type": "code",
        "id": "VZt1tuMDGevl",
        "colab": {}
      },
      "source": [
        "data = data.sample(frac=1).reset_index(drop=True)"
      ],
      "execution_count": 0,
      "outputs": []
    },
    {
      "cell_type": "code",
      "metadata": {
        "colab_type": "code",
        "id": "9FVvyiR2Gevt",
        "colab": {}
      },
      "source": [
        "train_data = data[:int(.75*len(data))]\n",
        "test_data = data[len(train_data):]"
      ],
      "execution_count": 0,
      "outputs": []
    },
    {
      "cell_type": "code",
      "metadata": {
        "colab_type": "code",
        "id": "hFGa03AvGevx",
        "outputId": "eadc9a37-7b3a-4adc-ba5e-27f5c1116e53",
        "colab": {
          "base_uri": "https://localhost:8080/",
          "height": 68
        }
      },
      "source": [
        "print('Total length: {}\\nTrain data length: {}\\nTest data length: {}'.format(len(data), len(train_data), len(test_data)))"
      ],
      "execution_count": 6,
      "outputs": [
        {
          "output_type": "stream",
          "text": [
            "Total length: 25000\n",
            "Train data length: 18750\n",
            "Test data length: 6250\n"
          ],
          "name": "stdout"
        }
      ]
    },
    {
      "cell_type": "markdown",
      "metadata": {
        "colab_type": "text",
        "id": "uCoah1gRGev6"
      },
      "source": [
        "#### Parameters"
      ]
    },
    {
      "cell_type": "code",
      "metadata": {
        "colab_type": "code",
        "id": "6wDwJmInGev8",
        "colab": {}
      },
      "source": [
        "BATCH_SIZE = 16\n",
        "EPOCHS = 12\n",
        "OUTPUT_SIZE = 2\n",
        "INPUT_SIZE = 128"
      ],
      "execution_count": 0,
      "outputs": []
    },
    {
      "cell_type": "markdown",
      "metadata": {
        "colab_type": "text",
        "id": "mETf9K_7GewC"
      },
      "source": [
        "#### Customize `Dataset` and create loaders"
      ]
    },
    {
      "cell_type": "code",
      "metadata": {
        "colab_type": "code",
        "id": "tvZNBTBqGewD",
        "colab": {}
      },
      "source": [
        "class MakeDataset(Dataset):\n",
        "    def __init__(self, data):\n",
        "        self.strings = list(data['string'])\n",
        "        self.valid = list(data['valid'])\n",
        "        self.len = len(self.valid)\n",
        "        self.valid_list = [0, 1]\n",
        "\n",
        "    def __getitem__(self, index):\n",
        "        return self.strings[index], self.valid[index]\n",
        "\n",
        "    def __len__(self):\n",
        "        return self.len"
      ],
      "execution_count": 0,
      "outputs": []
    },
    {
      "cell_type": "markdown",
      "metadata": {
        "colab_type": "text",
        "id": "qtRtnbUPGewI"
      },
      "source": [
        "Create train loader"
      ]
    },
    {
      "cell_type": "code",
      "metadata": {
        "colab_type": "code",
        "id": "qIkc37iDGewJ",
        "colab": {}
      },
      "source": [
        "dataset = MakeDataset(train_data)\n",
        "train_loader = DataLoader(dataset=dataset, batch_size=BATCH_SIZE, shuffle=True)"
      ],
      "execution_count": 0,
      "outputs": []
    },
    {
      "cell_type": "markdown",
      "metadata": {
        "colab_type": "text",
        "id": "Onw5bwfjGewO"
      },
      "source": [
        "Create test loader"
      ]
    },
    {
      "cell_type": "code",
      "metadata": {
        "colab_type": "code",
        "id": "8me9-GUdGewP",
        "colab": {}
      },
      "source": [
        "dataset = MakeDataset(test_data)\n",
        "test_loader = DataLoader(dataset=dataset, batch_size=BATCH_SIZE, shuffle=True)"
      ],
      "execution_count": 0,
      "outputs": []
    },
    {
      "cell_type": "markdown",
      "metadata": {
        "colab_type": "text",
        "id": "HiAzJtMSGewW"
      },
      "source": [
        "#### Some helper functions"
      ]
    },
    {
      "cell_type": "code",
      "metadata": {
        "colab_type": "code",
        "id": "VX5oPdsWGewX",
        "colab": {}
      },
      "source": [
        "def create_variable(tensor):\n",
        "    return Variable(tensor)"
      ],
      "execution_count": 0,
      "outputs": []
    },
    {
      "cell_type": "code",
      "metadata": {
        "colab_type": "code",
        "id": "rCKTIEbbGewh",
        "colab": {}
      },
      "source": [
        "def pad_seq(vect_seqs, seq_lens, valid):\n",
        "    seq_tensor = torch.zeros((len(vect_seqs), seq_lens.max())).long()\n",
        "    \n",
        "    for index, (seq, seq_len) in enumerate(zip(vect_seqs, seq_lens)):\n",
        "        seq_tensor[index, :seq_len] = torch.LongTensor(seq)\n",
        "        \n",
        "    return create_variable(seq_tensor), create_variable(seq_lens), create_variable(valid)"
      ],
      "execution_count": 0,
      "outputs": []
    },
    {
      "cell_type": "code",
      "metadata": {
        "colab_type": "code",
        "id": "BOeyEku_Gewn",
        "colab": {}
      },
      "source": [
        "def str2ascii(string):\n",
        "    ascii_arr = [ord(s) for s in string]\n",
        "    return ascii_arr, len(ascii_arr)"
      ],
      "execution_count": 0,
      "outputs": []
    },
    {
      "cell_type": "code",
      "metadata": {
        "colab_type": "code",
        "id": "g5HS0oTzGewq",
        "colab": {}
      },
      "source": [
        "def make_variables(strings, valid):\n",
        "    seqs_and_lens = [str2ascii(string)for string in strings]\n",
        "    vect_seqs = [s[0] for s in seqs_and_lens]\n",
        "    seq_lens = torch.LongTensor([s[1] for s in seqs_and_lens])\n",
        "    valid = torch.LongTensor(valid)\n",
        "    return pad_seq(vect_seqs, seq_lens, valid)"
      ],
      "execution_count": 0,
      "outputs": []
    },
    {
      "cell_type": "markdown",
      "metadata": {
        "colab_type": "text",
        "id": "P1kyF1n6GexA"
      },
      "source": [
        "#### Define model class"
      ]
    },
    {
      "cell_type": "code",
      "metadata": {
        "colab_type": "code",
        "id": "VKVStR_zDbs1",
        "colab": {}
      },
      "source": [
        "class RNNModel(nn.Module):\n",
        "    def __init__(self, input_size, output_size, hidden_layers : list):\n",
        "        super(RNNModel, self).__init__()\n",
        "\n",
        "        self.embedding = nn.Embedding(input_size, hidden_layers[0])\n",
        "        self.rnn = DeepRNN(hidden_layers[0], hidden_layers, nonlinearity='relu')\n",
        "        self.fc = nn.Linear(hidden_layers[-1], output_size)\n",
        "        \n",
        "    def forward(self, input):\n",
        "        input = input.t()\n",
        "        embedded = self.embedding(input)\n",
        "\n",
        "        output = self.rnn(embedded)\n",
        "\n",
        "        output = self.fc(output[-1])\n",
        "        return output"
      ],
      "execution_count": 0,
      "outputs": []
    },
    {
      "cell_type": "markdown",
      "metadata": {
        "colab_type": "text",
        "id": "lQT4Qq2WGexR"
      },
      "source": [
        "#### Training function"
      ]
    },
    {
      "cell_type": "code",
      "metadata": {
        "colab_type": "code",
        "id": "ZRmp2k9KGexW",
        "colab": {}
      },
      "source": [
        "def train():\n",
        "    total_loss = 0\n",
        "    \n",
        "    for i, (string, valid) in enumerate(train_loader, 1):\n",
        "        input, seq_lens, target = make_variables(string, valid)\n",
        "\n",
        "        output = classifier(input)\n",
        "        \n",
        "        loss = criterion(output, target)\n",
        "        total_loss += loss.data.item()\n",
        "        \n",
        "        classifier.zero_grad()\n",
        "        loss.backward()\n",
        "        optimizer.step()\n",
        "        \n",
        "        if i % 100 == 0:\n",
        "            print('{}/{}\\tLoss: {:.5f}'.format(i * len(string), len(train_loader.dataset), total_loss / i * len(string)))"
      ],
      "execution_count": 0,
      "outputs": []
    },
    {
      "cell_type": "markdown",
      "metadata": {
        "colab_type": "text",
        "id": "zsOtVzFNGexe"
      },
      "source": [
        "#### Testing function"
      ]
    },
    {
      "cell_type": "code",
      "metadata": {
        "colab_type": "code",
        "id": "ferW61amIjFP",
        "colab": {}
      },
      "source": [
        "test_acc = []"
      ],
      "execution_count": 0,
      "outputs": []
    },
    {
      "cell_type": "code",
      "metadata": {
        "colab_type": "code",
        "id": "EtDP_hJ0Gexh",
        "colab": {}
      },
      "source": [
        "def test(string=None):\n",
        "    if string:\n",
        "        input, seq_lens, target = make_variables([string], [])\n",
        "\n",
        "        output = classifier(input)\n",
        "\n",
        "        pred = output.data.max(1, keepdim=True)[1]\n",
        "        print('{} is {}'.format(string, pred))\n",
        "        return\n",
        "    \n",
        "    print('\\nEvaluating model...')\n",
        "    correct = 0.\n",
        "    test_data_size = len(test_loader.dataset)\n",
        "    \n",
        "    for string, valid in test_loader:\n",
        "        input, seq_lens, target = make_variables(string, valid)\n",
        "\n",
        "        output = classifier(input)\n",
        "\n",
        "        pred = output.data.max(1, keepdim=True)[1]\n",
        "        correct += pred.eq(target.data.view_as(pred)).cpu().sum()\n",
        "\n",
        "    acc = 100 * correct / test_data_size\n",
        "    test_acc.append(acc)\n",
        "        \n",
        "    print('Test set accuracy: {}/{} ({:.2f}%)\\n'.format(correct, test_data_size, acc))"
      ],
      "execution_count": 0,
      "outputs": []
    },
    {
      "cell_type": "markdown",
      "metadata": {
        "colab_type": "text",
        "id": "Yudx6wVtGex2"
      },
      "source": [
        "#### Time for action!"
      ]
    },
    {
      "cell_type": "markdown",
      "metadata": {
        "colab_type": "text",
        "id": "e3jvvliDejlg"
      },
      "source": [
        "#### Base RNN"
      ]
    },
    {
      "cell_type": "code",
      "metadata": {
        "colab_type": "code",
        "id": "4emJ3S77Gex7",
        "colab": {}
      },
      "source": [
        "classifier = RNNModel(INPUT_SIZE, 2, [100, 300, 200])"
      ],
      "execution_count": 0,
      "outputs": []
    },
    {
      "cell_type": "code",
      "metadata": {
        "colab_type": "code",
        "id": "zbzRelW2GeyD",
        "colab": {}
      },
      "source": [
        "optimizer = torch.optim.Adam(classifier.parameters(), lr=0.001)\n",
        "criterion = nn.CrossEntropyLoss()"
      ],
      "execution_count": 0,
      "outputs": []
    },
    {
      "cell_type": "code",
      "metadata": {
        "colab_type": "code",
        "id": "2az6-B2FGey3",
        "outputId": "c1c35e1d-e4a6-4aeb-cd8f-6d01233a650e",
        "colab": {
          "base_uri": "https://localhost:8080/",
          "height": 1000
        }
      },
      "source": [
        "%%time\n",
        "for epoch in range(1, EPOCHS+1):\n",
        "    print('Epoch #{}\\n{}'.format(epoch, 12*'-'))\n",
        "    train()\n",
        "    test()"
      ],
      "execution_count": 21,
      "outputs": [
        {
          "output_type": "stream",
          "text": [
            "Epoch #1\n",
            "------------\n",
            "1600/18750\tLoss: 9.01152\n",
            "3200/18750\tLoss: 8.05897\n",
            "4800/18750\tLoss: 7.60789\n",
            "6400/18750\tLoss: 7.48634\n",
            "8000/18750\tLoss: 7.46014\n",
            "9600/18750\tLoss: 7.33453\n",
            "11200/18750\tLoss: 7.18064\n",
            "12800/18750\tLoss: 6.93912\n",
            "14400/18750\tLoss: 6.75063\n",
            "16000/18750\tLoss: 6.60853\n",
            "17600/18750\tLoss: 6.44905\n",
            "\n",
            "Evaluating model...\n",
            "Test set accuracy: 5406.0/6250 (86.50%)\n",
            "\n",
            "Epoch #2\n",
            "------------\n",
            "1600/18750\tLoss: 6.05072\n",
            "3200/18750\tLoss: 6.33544\n",
            "4800/18750\tLoss: 6.30383\n",
            "6400/18750\tLoss: 6.25588\n",
            "8000/18750\tLoss: 6.27456\n",
            "9600/18750\tLoss: 6.22441\n",
            "11200/18750\tLoss: 6.08605\n",
            "12800/18750\tLoss: 5.89185\n",
            "14400/18750\tLoss: 5.73639\n",
            "16000/18750\tLoss: 5.64855\n",
            "17600/18750\tLoss: 5.50875\n",
            "\n",
            "Evaluating model...\n",
            "Test set accuracy: 5378.0/6250 (86.05%)\n",
            "\n",
            "Epoch #3\n",
            "------------\n",
            "1600/18750\tLoss: 5.24316\n",
            "3200/18750\tLoss: 5.20660\n",
            "4800/18750\tLoss: 5.24105\n",
            "6400/18750\tLoss: 5.03014\n",
            "8000/18750\tLoss: 4.84896\n",
            "9600/18750\tLoss: 4.73928\n",
            "11200/18750\tLoss: 4.65312\n",
            "12800/18750\tLoss: 4.53679\n",
            "14400/18750\tLoss: 4.45381\n",
            "16000/18750\tLoss: 4.37636\n",
            "17600/18750\tLoss: 4.33249\n",
            "\n",
            "Evaluating model...\n",
            "Test set accuracy: 5730.0/6250 (91.68%)\n",
            "\n",
            "Epoch #4\n",
            "------------\n",
            "1600/18750\tLoss: 3.71062\n",
            "3200/18750\tLoss: 3.60534\n",
            "4800/18750\tLoss: 3.65610\n",
            "6400/18750\tLoss: 3.56050\n",
            "8000/18750\tLoss: 3.59089\n",
            "9600/18750\tLoss: 3.56947\n",
            "11200/18750\tLoss: 3.50037\n",
            "12800/18750\tLoss: 3.47440\n",
            "14400/18750\tLoss: 3.42822\n",
            "16000/18750\tLoss: 3.40083\n",
            "17600/18750\tLoss: 3.34366\n",
            "\n",
            "Evaluating model...\n",
            "Test set accuracy: 5819.0/6250 (93.10%)\n",
            "\n",
            "Epoch #5\n",
            "------------\n",
            "1600/18750\tLoss: 3.01225\n",
            "3200/18750\tLoss: 4.57658\n",
            "4800/18750\tLoss: 4.66854\n",
            "6400/18750\tLoss: 4.53001\n",
            "8000/18750\tLoss: 4.32556\n",
            "9600/18750\tLoss: 4.19280\n",
            "11200/18750\tLoss: 4.08449\n",
            "12800/18750\tLoss: 4.03167\n",
            "14400/18750\tLoss: 4.00960\n",
            "16000/18750\tLoss: 4.00318\n",
            "17600/18750\tLoss: 3.97795\n",
            "\n",
            "Evaluating model...\n",
            "Test set accuracy: 5740.0/6250 (91.84%)\n",
            "\n",
            "Epoch #6\n",
            "------------\n",
            "1600/18750\tLoss: 3.82928\n",
            "3200/18750\tLoss: 3.60623\n",
            "4800/18750\tLoss: 3.60106\n",
            "6400/18750\tLoss: 3.60494\n",
            "8000/18750\tLoss: 3.51439\n",
            "9600/18750\tLoss: 3.45460\n",
            "11200/18750\tLoss: 3.44436\n",
            "12800/18750\tLoss: 3.44262\n",
            "14400/18750\tLoss: 3.40784\n",
            "16000/18750\tLoss: 3.38685\n",
            "17600/18750\tLoss: 3.36747\n",
            "\n",
            "Evaluating model...\n",
            "Test set accuracy: 5816.0/6250 (93.06%)\n",
            "\n",
            "Epoch #7\n",
            "------------\n",
            "1600/18750\tLoss: 3.48018\n",
            "3200/18750\tLoss: 3.26267\n",
            "4800/18750\tLoss: 3.22675\n",
            "6400/18750\tLoss: 3.23694\n",
            "8000/18750\tLoss: 3.22239\n",
            "9600/18750\tLoss: 3.17295\n",
            "11200/18750\tLoss: 3.08848\n",
            "12800/18750\tLoss: 3.06913\n",
            "14400/18750\tLoss: 3.03127\n",
            "16000/18750\tLoss: 2.98328\n",
            "17600/18750\tLoss: 3.19499\n",
            "\n",
            "Evaluating model...\n",
            "Test set accuracy: 5738.0/6250 (91.81%)\n",
            "\n",
            "Epoch #8\n",
            "------------\n",
            "1600/18750\tLoss: 3.65660\n",
            "3200/18750\tLoss: 3.48487\n",
            "4800/18750\tLoss: 3.49390\n",
            "6400/18750\tLoss: 3.39580\n",
            "8000/18750\tLoss: 3.37764\n",
            "9600/18750\tLoss: 3.31640\n",
            "11200/18750\tLoss: 3.26374\n",
            "12800/18750\tLoss: 3.23192\n",
            "14400/18750\tLoss: 3.22902\n",
            "16000/18750\tLoss: 3.19017\n",
            "17600/18750\tLoss: 3.18609\n",
            "\n",
            "Evaluating model...\n",
            "Test set accuracy: 5791.0/6250 (92.66%)\n",
            "\n",
            "Epoch #9\n",
            "------------\n",
            "1600/18750\tLoss: 2.76709\n",
            "3200/18750\tLoss: 2.95452\n",
            "4800/18750\tLoss: 3.17153\n",
            "6400/18750\tLoss: 3.11458\n",
            "8000/18750\tLoss: 3.18105\n",
            "9600/18750\tLoss: 3.23937\n",
            "11200/18750\tLoss: 3.25741\n",
            "12800/18750\tLoss: 3.23274\n",
            "14400/18750\tLoss: 3.24246\n",
            "16000/18750\tLoss: 3.25330\n",
            "17600/18750\tLoss: 3.25701\n",
            "\n",
            "Evaluating model...\n",
            "Test set accuracy: 5806.0/6250 (92.90%)\n",
            "\n",
            "Epoch #10\n",
            "------------\n",
            "1600/18750\tLoss: 3.56965\n",
            "3200/18750\tLoss: 3.30285\n",
            "4800/18750\tLoss: 3.10919\n",
            "6400/18750\tLoss: 3.02658\n",
            "8000/18750\tLoss: 2.95668\n",
            "9600/18750\tLoss: 2.87771\n",
            "11200/18750\tLoss: 2.87101\n",
            "12800/18750\tLoss: 2.89012\n",
            "14400/18750\tLoss: 2.90452\n",
            "16000/18750\tLoss: 2.88121\n",
            "17600/18750\tLoss: 2.86233\n",
            "\n",
            "Evaluating model...\n",
            "Test set accuracy: 5864.0/6250 (93.82%)\n",
            "\n",
            "Epoch #11\n",
            "------------\n",
            "1600/18750\tLoss: 2.40409\n",
            "3200/18750\tLoss: 2.55016\n",
            "4800/18750\tLoss: 2.72183\n",
            "6400/18750\tLoss: 2.79727\n",
            "8000/18750\tLoss: 2.77863\n",
            "9600/18750\tLoss: 2.77555\n",
            "11200/18750\tLoss: 2.79557\n",
            "12800/18750\tLoss: 2.77888\n",
            "14400/18750\tLoss: 2.79478\n",
            "16000/18750\tLoss: 2.79764\n",
            "17600/18750\tLoss: 2.81557\n",
            "\n",
            "Evaluating model...\n",
            "Test set accuracy: 5863.0/6250 (93.81%)\n",
            "\n",
            "Epoch #12\n",
            "------------\n",
            "1600/18750\tLoss: 2.78356\n",
            "3200/18750\tLoss: 2.88466\n",
            "4800/18750\tLoss: 2.80963\n",
            "6400/18750\tLoss: 2.82021\n",
            "8000/18750\tLoss: 2.83204\n",
            "9600/18750\tLoss: 2.83907\n",
            "11200/18750\tLoss: 2.79633\n",
            "12800/18750\tLoss: 2.85209\n",
            "14400/18750\tLoss: 2.83538\n",
            "16000/18750\tLoss: 2.83742\n",
            "17600/18750\tLoss: 2.79210\n",
            "\n",
            "Evaluating model...\n",
            "Test set accuracy: 5863.0/6250 (93.81%)\n",
            "\n",
            "CPU times: user 15min 25s, sys: 23.5 s, total: 15min 49s\n",
            "Wall time: 15min 54s\n"
          ],
          "name": "stdout"
        }
      ]
    },
    {
      "cell_type": "code",
      "metadata": {
        "colab_type": "code",
        "id": "OAD6XIdQKiu1",
        "outputId": "6cf165b9-670c-4886-898d-e8a853373c17",
        "colab": {
          "base_uri": "https://localhost:8080/",
          "height": 312
        }
      },
      "source": [
        "plt.title('Test set evaluation')\n",
        "plt.xlabel('Epochs')\n",
        "plt.ylabel('Accuracy')\n",
        "plt.plot(range(1, len(test_acc)+1), test_acc)"
      ],
      "execution_count": 22,
      "outputs": [
        {
          "output_type": "execute_result",
          "data": {
            "text/plain": [
              "[<matplotlib.lines.Line2D at 0x7fcba4588390>]"
            ]
          },
          "metadata": {
            "tags": []
          },
          "execution_count": 22
        },
        {
          "output_type": "display_data",
          "data": {
            "image/png": "[encoded data removed]",
            "text/plain": [
              "<Figure size 432x288 with 1 Axes>"
            ]
          },
          "metadata": {
            "tags": []
          }
        }
      ]
    }
  ]
}